{
 "cells": [
  {
   "cell_type": "markdown",
   "metadata": {},
   "source": [
    "# Qaintellect training example 2: multiple qubits and measurement operators\n",
    "\n",
    "In this example, we will demonstrate the optimisation of a quantum circuit with multiple qubits and measurement operators."
   ]
  },
  {
   "cell_type": "code",
   "execution_count": 1,
   "metadata": {},
   "outputs": [],
   "source": [
    "using Qaintessent\n",
    "using Qaintellect\n",
    "using LinearAlgebra\n",
    "using Flux\n",
    "using IterTools: ncycle"
   ]
  },
  {
   "cell_type": "markdown",
   "metadata": {},
   "source": [
    "We create a parametrized quantum circuit with $N$ qubits. We then optimize these parameters using the Flux framework."
   ]
  },
  {
   "cell_type": "code",
   "execution_count": 2,
   "metadata": {},
   "outputs": [
    {
     "name": "stdout",
     "output_type": "stream",
     "text": [
      "rg = RotationGate(Float32[-0.53703034, 0.05597703, -0.3213241])\n"
     ]
    },
    {
     "data": {
      "text/plain": [
       "\n",
       "    4 ————————•—————————————————————\n",
       "              |                     \n",
       "    3 —[H ]—————————x————[Pϕ]——[Rθ]—\n",
       "              |     |               \n",
       "    2 ———————[Rz]———x———————————————\n",
       "              |                     \n",
       "    1 ————————•————————————————[Ry]—\n"
      ]
     },
     "execution_count": 2,
     "metadata": {},
     "output_type": "execute_result"
    }
   ],
   "source": [
    "# construct parametrized circuit\n",
    "\n",
    "N = 4\n",
    "\n",
    "ry = RyGate(√2)\n",
    "n = randn(FloatQ, 3)\n",
    "n /= norm(n)\n",
    "rg = RotationGate(0.2π, n)\n",
    "@show(rg)\n",
    "\n",
    "cgc = [\n",
    "    circuit_gate(3, HadamardGate()),\n",
    "    circuit_gate(2, RzGate(1.5π), (1, 4)), # controlled gate\n",
    "    circuit_gate(2, 3, SwapGate()),\n",
    "    circuit_gate(3, PhaseShiftGate(0.3)),\n",
    "    circuit_gate(3, rg),\n",
    "    circuit_gate(1, ry),\n",
    "]\n",
    "meas = [MeasurementOperator(Matrix{Float64}(I, 2^N, 2^N), Tuple(1:N)), MeasurementOperator(Hermitian(randn(ComplexF64, 2^N, 2^N)), Tuple(1:N))]\n",
    "\n",
    "c = Circuit{N}(cgc, meas)"
   ]
  },
  {
   "cell_type": "code",
   "execution_count": 3,
   "metadata": {},
   "outputs": [
    {
     "data": {
      "text/plain": [
       "Params([Float32[4.712389], Float32[0.3], Float32[-0.53703034, 0.05597703, -0.3213241], sparse([1, 2, 3, 4, 5, 6, 7, 8, 9, 10, 11, 12, 13, 14, 15, 16], [1, 2, 3, 4, 5, 6, 7, 8, 9, 10, 11, 12, 13, 14, 15, 16], ComplexF32[1.0f0 + 0.0f0im, 1.0f0 + 0.0f0im, 1.0f0 + 0.0f0im, 1.0f0 + 0.0f0im, 1.0f0 + 0.0f0im, 1.0f0 + 0.0f0im, 1.0f0 + 0.0f0im, 1.0f0 + 0.0f0im, 1.0f0 + 0.0f0im, 1.0f0 + 0.0f0im, 1.0f0 + 0.0f0im, 1.0f0 + 0.0f0im, 1.0f0 + 0.0f0im, 1.0f0 + 0.0f0im, 1.0f0 + 0.0f0im, 1.0f0 + 0.0f0im], 16, 16), sparse([1, 2, 3, 4, 5, 6, 7, 8, 9, 10  …  7, 8, 9, 10, 11, 12, 13, 14, 15, 16], [1, 1, 1, 1, 1, 1, 1, 1, 1, 1  …  16, 16, 16, 16, 16, 16, 16, 16, 16, 16], ComplexF32[-1.4366738f0 + 0.0f0im, 0.03560376f0 - 0.6054848f0im, -0.527578f0 - 0.27173388f0im, -1.3991385f0 - 1.1131895f0im, -1.1278617f0 - 0.37390763f0im, 0.75828916f0 - 0.37697834f0im, -0.17399871f0 + 0.68030006f0im, -0.9440648f0 - 0.098141216f0im, 0.24595958f0 + 0.6661913f0im, -0.4319537f0 - 0.27240527f0im  …  1.8054765f0 + 0.6945263f0im, 0.7939487f0 - 0.21607582f0im, 0.027468143f0 + 0.08795561f0im, 0.9270779f0 + 0.29685333f0im, -0.1285605f0 - 0.32457453f0im, 0.6224388f0 + 0.89071685f0im, 0.1555624f0 - 0.021069005f0im, -0.5535621f0 + 0.8260739f0im, -0.20685427f0 - 1.1576917f0im, -0.72568375f0 + 0.0f0im], 16, 16)])"
      ]
     },
     "execution_count": 3,
     "metadata": {},
     "output_type": "execute_result"
    }
   ],
   "source": [
    "# set up model\n",
    "model(ψ) = dot([0.3, -1.2], c(ψ))\n",
    "\n",
    "# create loss function\n",
    "loss(x, y) = Flux.mse(model(x), y)\n",
    "\n",
    "# gather parameters from Circuit\n",
    "paras = Flux.params(c)\n",
    "\n",
    "# freeze parameter ry.θ, equivalent to delete!(paras, Qaintessent.get_trainable(ry))\n",
    "delete!(paras, ry.θ)\n",
    "\n",
    "paras"
   ]
  },
  {
   "cell_type": "code",
   "execution_count": 4,
   "metadata": {},
   "outputs": [
    {
     "name": "stdout",
     "output_type": "stream",
     "text": [
      "Initial model evaluation: -0.5137484192848205, target: 0.65\n",
      "loss(ψ, e) = 4.427609752931719\n",
      "loss(ψ, e) = 1.1252841773625583e-5\n",
      "loss(ψ, e) = 1.1828014123388259e-11\n",
      "loss(ψ, e) = 2.1850610211407502e-12\n",
      "Final model evaluation: 0.6499985218048095, target: 0.65\n"
     ]
    }
   ],
   "source": [
    "# input quantum state\n",
    "ψ = randn(ComplexQ, 2^N)\n",
    "ψ /= norm(ψ)\n",
    "\n",
    "# desired output\n",
    "e = 0.65\n",
    "\n",
    "# set up data for training\n",
    "data = ncycle([(ψ, e)], 64)\n",
    "\n",
    "# define optimizer\n",
    "opt = Descent(1)\n",
    "\n",
    "# define evaluation function\n",
    "evalcb() = @show(loss(ψ, e))\n",
    "\n",
    "println(\"Initial model evaluation: $(model(ψ)), target: $e\")\n",
    "\n",
    "Flux.train!(loss, paras, data, opt, cb=Flux.throttle(evalcb, 0.01))\n",
    "\n",
    "println(\"Final model evaluation: $(model(ψ)), target: $e\")"
   ]
  },
  {
   "cell_type": "code",
   "execution_count": 5,
   "metadata": {},
   "outputs": [
    {
     "name": "stdout",
     "output_type": "stream",
     "text": [
      "ry = RyGate(Float32[1.4142135])\n",
      "rg = RotationGate(Float32[2.4036388, -1.0326958, -0.18446656])\n"
     ]
    }
   ],
   "source": [
    "# check: Ry gate has not changed (frozen parameter)\n",
    "@show(ry)\n",
    "\n",
    "# on the other hand, parameters of general rotation gate are now different\n",
    "@show(rg);"
   ]
  }
 ],
 "metadata": {
  "kernelspec": {
   "display_name": "Julia 1.7.0",
   "language": "julia",
   "name": "julia-1.7"
  },
  "language_info": {
   "file_extension": ".jl",
   "mimetype": "application/julia",
   "name": "julia",
   "version": "1.7.0"
  }
 },
 "nbformat": 4,
 "nbformat_minor": 4
}

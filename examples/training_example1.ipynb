{
 "cells": [
  {
   "cell_type": "markdown",
   "metadata": {},
   "source": [
    "# Qaintellect training example 1: qubit rotation\n",
    "\n",
    "(Adapted from PennyLane's qubit rotation tutorial)\n",
    "\n",
    "In this example, we will demonstrate the optimisation of a quantum circuit using Qaintellect's Flux integration."
   ]
  },
  {
   "cell_type": "code",
   "execution_count": 1,
   "metadata": {},
   "outputs": [],
   "source": [
    "using Qaintessent\n",
    "using Qaintellect\n",
    "using LinearAlgebra\n",
    "using Flux\n",
    "using IterTools: ncycle"
   ]
  },
  {
   "attachments": {
    "sample_circuit.png": {
     "image/png": "[encoded data removed]"
    }
   },
   "cell_type": "markdown",
   "metadata": {},
   "source": [
    "In the first task, we would like to optimize a circuit such that it flips a qubit from state $\\lvert 0 \\rangle$ to $\\rvert 1 \\rangle$. We begin by constructing a simple circuit consisting of two rotation gates: an $R_{x}$ gate and an $R_{y}$ gate\n",
    "\n",
    "<div>\n",
    "<img src=\"attachment:sample_circuit.png\" width=\"350\"/>\n",
    "</div>\n",
    "\n",
    "where:\n",
    "\n",
    "$$\n",
    "R_{x}(\\theta) = \\mathrm{e}^{-i \\theta X / 2} = \\begin{pmatrix} \\cos\\frac{\\theta}{2}& -i \\sin\\frac{\\theta}{2}\\\\ -i \\sin\\frac{\\theta}{2}& \\cos\\frac{\\theta}{2} \\end{pmatrix} \\\\\n",
    "R_{y}(\\theta) = \\mathrm{e}^{-i \\theta Y / 2} = \\begin{pmatrix} \\cos\\frac{\\theta}{2}& -\\sin\\frac{\\theta}{2}\\\\ \\sin\\frac{\\theta}{2}& \\cos\\frac{\\theta}{2} \\end{pmatrix}\n",
    "$$\n",
    "\n",
    "We create $R_{x}$ and $ R_{y}$ gates, with randomized initial rotation angles:"
   ]
  },
  {
   "cell_type": "code",
   "execution_count": 2,
   "metadata": {},
   "outputs": [
    {
     "name": "stdout",
     "output_type": "stream",
     "text": [
      "rx = RxGate(Float32[0.2345506])\n",
      "ry = RyGate(Float32[4.734649])\n"
     ]
    },
    {
     "data": {
      "text/plain": [
       "RyGate(Float32[4.734649])"
      ]
     },
     "execution_count": 2,
     "metadata": {},
     "output_type": "execute_result"
    }
   ],
   "source": [
    "rx = RxGate(2π*rand())\n",
    "ry = RyGate(2π*rand())\n",
    "\n",
    "@show(rx)\n",
    "@show(ry)"
   ]
  },
  {
   "cell_type": "markdown",
   "metadata": {},
   "source": [
    "Then, we setup the quantum circuit using these gates. We use the Pauli-$Z$ matrix as an observable, noting that measuring with this observable yields $-1$ when measuring the target $ \\lvert 1 \\rangle$ state."
   ]
  },
  {
   "cell_type": "code",
   "execution_count": 3,
   "metadata": {},
   "outputs": [
    {
     "data": {
      "text/plain": [
       "\n",
       "    1 —[Rx]——[Ry]—\n"
      ]
     },
     "execution_count": 3,
     "metadata": {},
     "output_type": "execute_result"
    }
   ],
   "source": [
    "cgc = [\n",
    "    circuit_gate(1, rx),\n",
    "    circuit_gate(1, ry),\n",
    "]\n",
    "\n",
    "# using Pauli-Z matrix as observable\n",
    "meas = [MeasurementOperator([1 0; 0 -1], (1,))]\n",
    "\n",
    "c = Circuit{1}(cgc, meas)"
   ]
  },
  {
   "cell_type": "markdown",
   "metadata": {},
   "source": [
    "We set the initial input as the $\\lvert 0 \\rangle$ state, and the target expectation value of the measurement as $-1$."
   ]
  },
  {
   "cell_type": "code",
   "execution_count": 4,
   "metadata": {},
   "outputs": [
    {
     "name": "stdout",
     "output_type": "stream",
     "text": [
      "ψ = ComplexF32[1.0f0 + 0.0f0im, 0.0f0 + 0.0f0im]\n"
     ]
    },
    {
     "data": {
      "text/plain": [
       "2-element Vector{ComplexF32}:\n",
       " 1.0f0 + 0.0f0im\n",
       " 0.0f0 + 0.0f0im"
      ]
     },
     "execution_count": 4,
     "metadata": {},
     "output_type": "execute_result"
    }
   ],
   "source": [
    "ψ = ComplexQ[1, 0]\n",
    "e = -1\n",
    "@show(ψ)"
   ]
  },
  {
   "cell_type": "markdown",
   "metadata": {},
   "source": [
    "Now, we define a cost function `loss()` using the Flux mean-squared error function. We also gather the trainable params from our created circuit using the`Flux.params` function."
   ]
  },
  {
   "cell_type": "code",
   "execution_count": 5,
   "metadata": {},
   "outputs": [
    {
     "name": "stdout",
     "output_type": "stream",
     "text": [
      "paras = Params([Float32[0.2345506], Float32[4.734649], sparse([1, 2], [1, 2], ComplexF32[1.0f0 + 0.0f0im, -1.0f0 + 0.0f0im], 2, 2)])\n"
     ]
    },
    {
     "data": {
      "text/plain": [
       "evalcb (generic function with 1 method)"
      ]
     },
     "execution_count": 5,
     "metadata": {},
     "output_type": "execute_result"
    }
   ],
   "source": [
    "# create loss function: note that circuit `c` is applied to `x`\n",
    "loss(x, y) = Flux.mse(apply(x, c), y)\n",
    "\n",
    "# gather parameters from Circuit\n",
    "paras = Flux.params(c)\n",
    "@show(paras)\n",
    "\n",
    "# define optimizer\n",
    "opt = ADAM(0.5)\n",
    "\n",
    "# set up data for training; using `ncycle()` to repeatedly feed the input quantum state into the training algorithm\n",
    "data = ncycle([(ψ, e)], 128)\n",
    "\n",
    "# define evaluation function\n",
    "evalcb() = @show(loss(ψ, e))"
   ]
  },
  {
   "cell_type": "code",
   "execution_count": 6,
   "metadata": {},
   "outputs": [
    {
     "data": {
      "text/plain": [
       "1-element Vector{Float32}:\n",
       " 1.9868569"
      ]
     },
     "execution_count": 6,
     "metadata": {},
     "output_type": "execute_result"
    }
   ],
   "source": [
    "# example: compute gradients\n",
    "grads = gradient(() -> loss(ψ, e), paras)\n",
    "grads[ry.θ]"
   ]
  },
  {
   "cell_type": "markdown",
   "metadata": {},
   "source": [
    "Finally, let Flux optimize the circuit parameters:"
   ]
  },
  {
   "cell_type": "code",
   "execution_count": 7,
   "metadata": {},
   "outputs": [
    {
     "name": "stdout",
     "output_type": "stream",
     "text": [
      "loss(ψ, e) = 0.4340008f0\n"
     ]
    }
   ],
   "source": [
    "Flux.train!(loss, paras, data, opt, cb=Flux.throttle(evalcb, 0.01))"
   ]
  },
  {
   "cell_type": "code",
   "execution_count": 8,
   "metadata": {},
   "outputs": [
    {
     "data": {
      "text/plain": [
       "Params([Float32[0.00041586455], Float32[3.1005328], sparse([1, 2], [1, 2], ComplexF32[1.0f0 + 0.0f0im, -1.0f0 + 0.0f0im], 2, 2)])"
      ]
     },
     "execution_count": 8,
     "metadata": {},
     "output_type": "execute_result"
    }
   ],
   "source": [
    "# optimized parameters\n",
    "paras"
   ]
  },
  {
   "cell_type": "markdown",
   "metadata": {},
   "source": [
    "We can verify that our trained circuit now (approximately) produces the desired output:"
   ]
  },
  {
   "cell_type": "code",
   "execution_count": 9,
   "metadata": {},
   "outputs": [
    {
     "data": {
      "text/plain": [
       "1-element Vector{Float32}:\n",
       " -0.9991572"
      ]
     },
     "execution_count": 9,
     "metadata": {},
     "output_type": "execute_result"
    }
   ],
   "source": [
    "apply(ψ, c)"
   ]
  }
 ],
 "metadata": {
  "kernelspec": {
   "display_name": "Julia 1.7.0",
   "language": "julia",
   "name": "julia-1.7"
  },
  "language_info": {
   "file_extension": ".jl",
   "mimetype": "application/julia",
   "name": "julia",
   "version": "1.7.0"
  }
 },
 "nbformat": 4,
 "nbformat_minor": 4
}

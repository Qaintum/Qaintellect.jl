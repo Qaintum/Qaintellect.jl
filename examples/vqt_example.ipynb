{
 "cells": [
  {
   "cell_type": "markdown",
   "metadata": {},
   "source": [
    "# Qaintellect variational quantum thermalizer (VQT) example"
   ]
  },
  {
   "cell_type": "markdown",
   "metadata": {},
   "source": [
    "In this example, we implement the VQT algorithm by Verdon et al. to approximate a thermal state using a quantum circuit.\n",
    "\n",
    "Reference:\n",
    "- G. Verdon, J. Marks, S. Nanda, S. Leichenauer, J. Hidary: \"Quantum Hamiltonian-based models and the variational quantum thermalizer algorithm\", [arXiv:1910.02071](https://arxiv.org/abs/1910.02071) (2019)"
   ]
  },
  {
   "cell_type": "code",
   "execution_count": 1,
   "metadata": {},
   "outputs": [],
   "source": [
    "using Qaintessent\n",
    "using Qaintellect\n",
    "using LinearAlgebra\n",
    "using SparseArrays\n",
    "using Flux\n",
    "using IterTools: ncycle"
   ]
  },
  {
   "cell_type": "code",
   "execution_count": 2,
   "metadata": {},
   "outputs": [],
   "source": [
    "# visualization\n",
    "using Plots\n",
    "using LaTeXStrings"
   ]
  },
  {
   "cell_type": "code",
   "execution_count": 3,
   "metadata": {},
   "outputs": [],
   "source": [
    "using Random\n",
    "Random.seed!(142);"
   ]
  },
  {
   "cell_type": "markdown",
   "metadata": {},
   "source": [
    "## Physical model: Hamiltonian and thermal state"
   ]
  },
  {
   "cell_type": "code",
   "execution_count": 4,
   "metadata": {},
   "outputs": [
    {
     "data": {
      "text/plain": [
       "lattice_adjacency_map"
      ]
     },
     "execution_count": 4,
     "metadata": {},
     "output_type": "execute_result"
    }
   ],
   "source": [
    "\"\"\"\n",
    "Construct adjacency map for a cartesian Nx × Ny lattice.\n",
    "\"\"\"\n",
    "function lattice_adjacency_map(Nx::Integer, Ny::Integer; pbc=true)\n",
    "    L = Nx * Ny\n",
    "    adjacency = zeros(Int, (L, L))\n",
    "    for j in 0:Ny-1\n",
    "        j_next = (j+1) % Ny\n",
    "        for i in 0:Nx-1\n",
    "            i_next = (i+1) % Nx\n",
    "            # nearest neighbors\n",
    "            if (pbc || i_next > 0) adjacency[j*Nx + i + 1, j*Nx + i_next + 1] = 1; end\n",
    "            if (pbc || j_next > 0) adjacency[j*Nx + i + 1, j_next*Nx + i + 1] = 1; end\n",
    "        end\n",
    "    end\n",
    "    adjacency = adjacency + transpose(adjacency)\n",
    "    # only 0 or 1 entries\n",
    "    return (adjacency .≠ 0)\n",
    "end"
   ]
  },
  {
   "cell_type": "code",
   "execution_count": 5,
   "metadata": {},
   "outputs": [
    {
     "data": {
      "text/plain": [
       "6×6 BitMatrix:\n",
       " 0  1  1  0  0  0\n",
       " 1  0  0  1  0  0\n",
       " 1  0  0  1  1  0\n",
       " 0  1  1  0  0  1\n",
       " 0  0  1  0  0  1\n",
       " 0  0  0  1  1  0"
      ]
     },
     "execution_count": 5,
     "metadata": {},
     "output_type": "execute_result"
    }
   ],
   "source": [
    "adj = lattice_adjacency_map(2, 3; pbc=false)"
   ]
  },
  {
   "cell_type": "code",
   "execution_count": 6,
   "metadata": {},
   "outputs": [
    {
     "data": {
      "text/plain": [
       "1×6 Matrix{Int64}:\n",
       " 2  2  3  3  2  2"
      ]
     },
     "execution_count": 6,
     "metadata": {},
     "output_type": "execute_result"
    }
   ],
   "source": [
    "# number of neighbors\n",
    "sum(adj, dims=1)"
   ]
  },
  {
   "cell_type": "code",
   "execution_count": 7,
   "metadata": {},
   "outputs": [
    {
     "data": {
      "text/plain": [
       "6"
      ]
     },
     "execution_count": 7,
     "metadata": {},
     "output_type": "execute_result"
    }
   ],
   "source": [
    "# number of lattice sites\n",
    "L = size(adj, 1)"
   ]
  },
  {
   "cell_type": "code",
   "execution_count": 8,
   "metadata": {},
   "outputs": [
    {
     "data": {
      "text/plain": [
       "lattice_adjacency_map_vert"
      ]
     },
     "execution_count": 8,
     "metadata": {},
     "output_type": "execute_result"
    }
   ],
   "source": [
    "\"\"\"\n",
    "Construct horizontal adjacency map for a cartesian Nx × Ny lattice.\n",
    "\"\"\"\n",
    "function lattice_adjacency_map_horz(Nx::Integer, Ny::Integer; pbc=true)\n",
    "    L = Nx * Ny\n",
    "    adjacency = zeros(Int, (L, L))\n",
    "    for j in 0:Ny-1\n",
    "        for i in 0:Nx-1\n",
    "            i_next = (i+1) % Nx\n",
    "            # nearest neighbors along horizontal direction\n",
    "            if (pbc || i_next > 0) adjacency[j*Nx + i + 1, j*Nx + i_next + 1] = 1; end\n",
    "        end\n",
    "    end\n",
    "    adjacency = adjacency + transpose(adjacency)\n",
    "    # only 0 or 1 entries\n",
    "    return (adjacency .≠ 0)\n",
    "end\n",
    "\n",
    "\"\"\"\n",
    "Construct vertical adjacency map for a cartesian Nx × Ny lattice.\n",
    "\"\"\"\n",
    "function lattice_adjacency_map_vert(Nx::Integer, Ny::Integer; pbc=true)\n",
    "    L = Nx * Ny\n",
    "    adjacency = zeros(Int, (L, L))\n",
    "    for j in 0:Ny-1\n",
    "        j_next = (j+1) % Ny\n",
    "        for i in 0:Nx-1\n",
    "            # nearest neighbors along vertical direction\n",
    "            if (pbc || j_next > 0) adjacency[j*Nx + i + 1, j_next*Nx + i + 1] = 1; end\n",
    "        end\n",
    "    end\n",
    "    adjacency = adjacency + transpose(adjacency)\n",
    "    # only 0 or 1 entries\n",
    "    return (adjacency .≠ 0)\n",
    "end"
   ]
  },
  {
   "cell_type": "code",
   "execution_count": 9,
   "metadata": {},
   "outputs": [
    {
     "data": {
      "text/plain": [
       "6×6 BitMatrix:\n",
       " 0  1  0  0  0  0\n",
       " 1  0  0  0  0  0\n",
       " 0  0  0  1  0  0\n",
       " 0  0  1  0  0  0\n",
       " 0  0  0  0  0  1\n",
       " 0  0  0  0  1  0"
      ]
     },
     "execution_count": 9,
     "metadata": {},
     "output_type": "execute_result"
    }
   ],
   "source": [
    "adj_horz = lattice_adjacency_map_horz(2, 3; pbc=false)"
   ]
  },
  {
   "cell_type": "code",
   "execution_count": 10,
   "metadata": {},
   "outputs": [
    {
     "data": {
      "text/plain": [
       "6×6 BitMatrix:\n",
       " 0  0  1  0  0  0\n",
       " 0  0  0  1  0  0\n",
       " 1  0  0  0  1  0\n",
       " 0  1  0  0  0  1\n",
       " 0  0  1  0  0  0\n",
       " 0  0  0  1  0  0"
      ]
     },
     "execution_count": 10,
     "metadata": {},
     "output_type": "execute_result"
    }
   ],
   "source": [
    "adj_vert = lattice_adjacency_map_vert(2, 3; pbc=false)"
   ]
  },
  {
   "cell_type": "code",
   "execution_count": 11,
   "metadata": {},
   "outputs": [
    {
     "name": "stdout",
     "output_type": "stream",
     "text": [
      "norm((adj_horz + adj_vert) - adj) = 0.0\n",
      "norm(adj_horz .* adj_vert) = 0.0\n"
     ]
    },
    {
     "data": {
      "text/plain": [
       "0.0"
      ]
     },
     "execution_count": 11,
     "metadata": {},
     "output_type": "execute_result"
    }
   ],
   "source": [
    "# consistency check (results should be zero)\n",
    "@show(norm(adj_horz + adj_vert - adj))\n",
    "@show(norm(adj_horz .* adj_vert))"
   ]
  },
  {
   "cell_type": "code",
   "execution_count": 12,
   "metadata": {},
   "outputs": [
    {
     "data": {
      "text/plain": [
       "sparse_identity"
      ]
     },
     "execution_count": 12,
     "metadata": {},
     "output_type": "execute_result"
    }
   ],
   "source": [
    "\"\"\"\n",
    "Identity map as sparse matrix with real-valued entries.\n",
    "\"\"\"\n",
    "sparse_identity(n) = sparse(1.0*I, n, n)"
   ]
  },
  {
   "cell_type": "code",
   "execution_count": 13,
   "metadata": {},
   "outputs": [
    {
     "data": {
      "text/plain": [
       "construct_hamiltonian"
      ]
     },
     "execution_count": 13,
     "metadata": {},
     "output_type": "execute_result"
    }
   ],
   "source": [
    "\"\"\"\n",
    "Construct a Heisenberg-type Hamiltonian as sparse matrix using site-dependent interaction strength, with nearest-neighbor interactions according to adjacency.\n",
    "\"\"\"\n",
    "function construct_hamiltonian(J::Array{<:Real,3})\n",
    "    L = size(J, 3)\n",
    "    @assert(size(J) == (3, L, L))\n",
    "\n",
    "    # spin operators (Pauli matrices divided by 2)\n",
    "    sigma12 = (0.5*sparse([0.  1.; 1.  0.]),\n",
    "               0.5*sparse([0. -im; im  0.]),\n",
    "               0.5*sparse([1.  0.; 0. -1.]))\n",
    "\n",
    "    H = spzeros(Float64, 2^L, 2^L)\n",
    "\n",
    "    # interaction terms\n",
    "    for i in 1:L\n",
    "        for j in i+1:L\n",
    "            for k in 1:3\n",
    "                # considering only entries in J for i < j\n",
    "                if J[k, i, j] ≠ 0\n",
    "                    H -= J[k, i, j] * real(kron(sparse_identity(2^(L-j)), sigma12[k], sparse_identity(2^(j-i-1)), sigma12[k], sparse_identity(2^(i-1))))\n",
    "                end\n",
    "            end\n",
    "        end\n",
    "    end\n",
    "\n",
    "    return H\n",
    "end"
   ]
  },
  {
   "cell_type": "code",
   "execution_count": 14,
   "metadata": {},
   "outputs": [
    {
     "data": {
      "text/plain": [
       "0.6"
      ]
     },
     "execution_count": 14,
     "metadata": {},
     "output_type": "execute_result"
    }
   ],
   "source": [
    "# model parameters\n",
    "β = 2.6\n",
    "Jx = 1.0\n",
    "Jy = 0.6"
   ]
  },
  {
   "cell_type": "code",
   "execution_count": 15,
   "metadata": {},
   "outputs": [
    {
     "data": {
      "text/plain": [
       "(64, 64)"
      ]
     },
     "execution_count": 15,
     "metadata": {},
     "output_type": "execute_result"
    }
   ],
   "source": [
    "# construct Hamiltonian\n",
    "J = Jx * reshape(kron(adj_horz, [1, 1, 1]), (3, L, L)) + Jy * reshape(kron(adj_vert, [1, 1, 1]), (3, L, L))\n",
    "H = construct_hamiltonian(J)\n",
    "@assert(H ≈ H')\n",
    "size(H)"
   ]
  },
  {
   "cell_type": "code",
   "execution_count": 16,
   "metadata": {},
   "outputs": [
    {
     "data": {
      "image/svg+xml": [
       "<?xml version=\"1.0\" encoding=\"utf-8\"?>\n",
       "<svg xmlns=\"http://www.w3.org/2000/svg\" xmlns:xlink=\"http://www.w3.org/1999/xlink\" width=\"600\" height=\"400\" viewBox=\"0 0 2400 1600\">\n",
       "<defs>\n",
       "  <clipPath id=\"clip860\">\n",
       "    <rect x=\"0\" y=\"0\" width=\"2400\" height=\"1600\"/>\n",
       "  </clipPath>\n",
       "</defs>\n",
       "<path clip-path=\"url(#clip860)\" d=\"\n",
       "M0 1600 L2400 1600 L2400 0 L0 0  Z\n",
       "  \" fill=\"#ffffff\" fill-rule=\"evenodd\" fill-opacity=\"1\"/>\n",
       "<defs>\n",
       "  <clipPath id=\"clip861\">\n",
       "    <rect x=\"480\" y=\"0\" width=\"1681\" height=\"1600\"/>\n",
       "  </clipPath>\n",
       "</defs>\n",
       "<path clip-path=\"url(#clip860)\" d=\"\n",
       "M206.453 1441.42 L2352.76 1441.42 L2352.76 47.2441 L206.453 47.2441  Z\n",
       "  \" fill=\"#ffffff\" fill-rule=\"evenodd\" fill-opacity=\"1\"/>\n",
       "<defs>\n",
       "  <clipPath id=\"clip862\">\n",
       "    <rect x=\"206\" y=\"47\" width=\"2147\" height=\"1395\"/>\n",
       "  </clipPath>\n",
       "</defs>\n",
       "<polyline clip-path=\"url(#clip862)\" style=\"stroke:#000000; stroke-linecap:butt; stroke-linejoin:round; stroke-width:2; stroke-opacity:0.1; fill:none\" points=\"\n",
       "  235.057,1441.42 235.057,47.2441 \n",
       "  \"/>\n",
       "<polyline clip-path=\"url(#clip862)\" style=\"stroke:#000000; stroke-linecap:butt; stroke-linejoin:round; stroke-width:2; stroke-opacity:0.1; fill:none\" points=\"\n",
       "  556.456,1441.42 556.456,47.2441 \n",
       "  \"/>\n",
       "<polyline clip-path=\"url(#clip862)\" style=\"stroke:#000000; stroke-linecap:butt; stroke-linejoin:round; stroke-width:2; stroke-opacity:0.1; fill:none\" points=\"\n",
       "  877.856,1441.42 877.856,47.2441 \n",
       "  \"/>\n",
       "<polyline clip-path=\"url(#clip862)\" style=\"stroke:#000000; stroke-linecap:butt; stroke-linejoin:round; stroke-width:2; stroke-opacity:0.1; fill:none\" points=\"\n",
       "  1199.25,1441.42 1199.25,47.2441 \n",
       "  \"/>\n",
       "<polyline clip-path=\"url(#clip862)\" style=\"stroke:#000000; stroke-linecap:butt; stroke-linejoin:round; stroke-width:2; stroke-opacity:0.1; fill:none\" points=\"\n",
       "  1520.65,1441.42 1520.65,47.2441 \n",
       "  \"/>\n",
       "<polyline clip-path=\"url(#clip862)\" style=\"stroke:#000000; stroke-linecap:butt; stroke-linejoin:round; stroke-width:2; stroke-opacity:0.1; fill:none\" points=\"\n",
       "  1842.05,1441.42 1842.05,47.2441 \n",
       "  \"/>\n",
       "<polyline clip-path=\"url(#clip862)\" style=\"stroke:#000000; stroke-linecap:butt; stroke-linejoin:round; stroke-width:2; stroke-opacity:0.1; fill:none\" points=\"\n",
       "  2163.45,1441.42 2163.45,47.2441 \n",
       "  \"/>\n",
       "<polyline clip-path=\"url(#clip860)\" style=\"stroke:#000000; stroke-linecap:butt; stroke-linejoin:round; stroke-width:4; stroke-opacity:1; fill:none\" points=\"\n",
       "  206.453,1441.42 2352.76,1441.42 \n",
       "  \"/>\n",
       "<polyline clip-path=\"url(#clip860)\" style=\"stroke:#000000; stroke-linecap:butt; stroke-linejoin:round; stroke-width:4; stroke-opacity:1; fill:none\" points=\"\n",
       "  235.057,1441.42 235.057,1422.52 \n",
       "  \"/>\n",
       "<polyline clip-path=\"url(#clip860)\" style=\"stroke:#000000; stroke-linecap:butt; stroke-linejoin:round; stroke-width:4; stroke-opacity:1; fill:none\" points=\"\n",
       "  556.456,1441.42 556.456,1422.52 \n",
       "  \"/>\n",
       "<polyline clip-path=\"url(#clip860)\" style=\"stroke:#000000; stroke-linecap:butt; stroke-linejoin:round; stroke-width:4; stroke-opacity:1; fill:none\" points=\"\n",
       "  877.856,1441.42 877.856,1422.52 \n",
       "  \"/>\n",
       "<polyline clip-path=\"url(#clip860)\" style=\"stroke:#000000; stroke-linecap:butt; stroke-linejoin:round; stroke-width:4; stroke-opacity:1; fill:none\" points=\"\n",
       "  1199.25,1441.42 1199.25,1422.52 \n",
       "  \"/>\n",
       "<polyline clip-path=\"url(#clip860)\" style=\"stroke:#000000; stroke-linecap:butt; stroke-linejoin:round; stroke-width:4; stroke-opacity:1; fill:none\" points=\"\n",
       "  1520.65,1441.42 1520.65,1422.52 \n",
       "  \"/>\n",
       "<polyline clip-path=\"url(#clip860)\" style=\"stroke:#000000; stroke-linecap:butt; stroke-linejoin:round; stroke-width:4; stroke-opacity:1; fill:none\" points=\"\n",
       "  1842.05,1441.42 1842.05,1422.52 \n",
       "  \"/>\n",
       "<polyline clip-path=\"url(#clip860)\" style=\"stroke:#000000; stroke-linecap:butt; stroke-linejoin:round; stroke-width:4; stroke-opacity:1; fill:none\" points=\"\n",
       "  2163.45,1441.42 2163.45,1422.52 \n",
       "  \"/>\n",
       "<path clip-path=\"url(#clip860)\" d=\"M235.057 1472.34 Q231.446 1472.34 229.618 1475.9 Q227.812 1479.44 227.812 1486.57 Q227.812 1493.68 229.618 1497.24 Q231.446 1500.79 235.057 1500.79 Q238.692 1500.79 240.497 1497.24 Q242.326 1493.68 242.326 1486.57 Q242.326 1479.44 240.497 1475.9 Q238.692 1472.34 235.057 1472.34 M235.057 1468.63 Q240.867 1468.63 243.923 1473.24 Q247.002 1477.82 247.002 1486.57 Q247.002 1495.3 243.923 1499.91 Q240.867 1504.49 235.057 1504.49 Q229.247 1504.49 226.168 1499.91 Q223.113 1495.3 223.113 1486.57 Q223.113 1477.82 226.168 1473.24 Q229.247 1468.63 235.057 1468.63 Z\" fill=\"#000000\" fill-rule=\"evenodd\" fill-opacity=\"1\" /><path clip-path=\"url(#clip860)\" d=\"M531.144 1499.88 L538.783 1499.88 L538.783 1473.52 L530.473 1475.18 L530.473 1470.93 L538.737 1469.26 L543.413 1469.26 L543.413 1499.88 L551.051 1499.88 L551.051 1503.82 L531.144 1503.82 L531.144 1499.88 Z\" fill=\"#000000\" fill-rule=\"evenodd\" fill-opacity=\"1\" /><path clip-path=\"url(#clip860)\" d=\"M570.496 1472.34 Q566.885 1472.34 565.056 1475.9 Q563.25 1479.44 563.25 1486.57 Q563.25 1493.68 565.056 1497.24 Q566.885 1500.79 570.496 1500.79 Q574.13 1500.79 575.935 1497.24 Q577.764 1493.68 577.764 1486.57 Q577.764 1479.44 575.935 1475.9 Q574.13 1472.34 570.496 1472.34 M570.496 1468.63 Q576.306 1468.63 579.361 1473.24 Q582.44 1477.82 582.44 1486.57 Q582.44 1495.3 579.361 1499.91 Q576.306 1504.49 570.496 1504.49 Q564.686 1504.49 561.607 1499.91 Q558.551 1495.3 558.551 1486.57 Q558.551 1477.82 561.607 1473.24 Q564.686 1468.63 570.496 1468.63 Z\" fill=\"#000000\" fill-rule=\"evenodd\" fill-opacity=\"1\" /><path clip-path=\"url(#clip860)\" d=\"M856.629 1499.88 L872.948 1499.88 L872.948 1503.82 L851.004 1503.82 L851.004 1499.88 Q853.666 1497.13 858.249 1492.5 Q862.856 1487.85 864.036 1486.5 Q866.281 1483.98 867.161 1482.24 Q868.064 1480.49 868.064 1478.8 Q868.064 1476.04 866.119 1474.3 Q864.198 1472.57 861.096 1472.57 Q858.897 1472.57 856.444 1473.33 Q854.013 1474.1 851.235 1475.65 L851.235 1470.93 Q854.059 1469.79 856.513 1469.21 Q858.967 1468.63 861.004 1468.63 Q866.374 1468.63 869.569 1471.32 Q872.763 1474 872.763 1478.49 Q872.763 1480.62 871.953 1482.55 Q871.166 1484.44 869.059 1487.04 Q868.481 1487.71 865.379 1490.93 Q862.277 1494.12 856.629 1499.88 Z\" fill=\"#000000\" fill-rule=\"evenodd\" fill-opacity=\"1\" /><path clip-path=\"url(#clip860)\" d=\"M892.763 1472.34 Q889.152 1472.34 887.323 1475.9 Q885.518 1479.44 885.518 1486.57 Q885.518 1493.68 887.323 1497.24 Q889.152 1500.79 892.763 1500.79 Q896.397 1500.79 898.203 1497.24 Q900.031 1493.68 900.031 1486.57 Q900.031 1479.44 898.203 1475.9 Q896.397 1472.34 892.763 1472.34 M892.763 1468.63 Q898.573 1468.63 901.629 1473.24 Q904.707 1477.82 904.707 1486.57 Q904.707 1495.3 901.629 1499.91 Q898.573 1504.49 892.763 1504.49 Q886.953 1504.49 883.874 1499.91 Q880.818 1495.3 880.818 1486.57 Q880.818 1477.82 883.874 1473.24 Q886.953 1468.63 892.763 1468.63 Z\" fill=\"#000000\" fill-rule=\"evenodd\" fill-opacity=\"1\" /><path clip-path=\"url(#clip860)\" d=\"M1188.1 1485.18 Q1191.45 1485.9 1193.33 1488.17 Q1195.23 1490.44 1195.23 1493.77 Q1195.23 1498.89 1191.71 1501.69 Q1188.19 1504.49 1181.71 1504.49 Q1179.53 1504.49 1177.22 1504.05 Q1174.93 1503.63 1172.47 1502.78 L1172.47 1498.26 Q1174.42 1499.4 1176.73 1499.98 Q1179.05 1500.55 1181.57 1500.55 Q1185.97 1500.55 1188.26 1498.82 Q1190.57 1497.08 1190.57 1493.77 Q1190.57 1490.72 1188.42 1489 Q1186.29 1487.27 1182.47 1487.27 L1178.44 1487.27 L1178.44 1483.43 L1182.66 1483.43 Q1186.11 1483.43 1187.94 1482.06 Q1189.76 1480.67 1189.76 1478.08 Q1189.76 1475.42 1187.87 1474 Q1185.99 1472.57 1182.47 1472.57 Q1180.55 1472.57 1178.35 1472.99 Q1176.15 1473.4 1173.51 1474.28 L1173.51 1470.12 Q1176.18 1469.37 1178.49 1469 Q1180.83 1468.63 1182.89 1468.63 Q1188.21 1468.63 1191.31 1471.06 Q1194.42 1473.47 1194.42 1477.59 Q1194.42 1480.46 1192.77 1482.45 Q1191.13 1484.42 1188.1 1485.18 Z\" fill=\"#000000\" fill-rule=\"evenodd\" fill-opacity=\"1\" /><path clip-path=\"url(#clip860)\" d=\"M1214.09 1472.34 Q1210.48 1472.34 1208.65 1475.9 Q1206.85 1479.44 1206.85 1486.57 Q1206.85 1493.68 1208.65 1497.24 Q1210.48 1500.79 1214.09 1500.79 Q1217.73 1500.79 1219.53 1497.24 Q1221.36 1493.68 1221.36 1486.57 Q1221.36 1479.44 1219.53 1475.9 Q1217.73 1472.34 1214.09 1472.34 M1214.09 1468.63 Q1219.9 1468.63 1222.96 1473.24 Q1226.04 1477.82 1226.04 1486.57 Q1226.04 1495.3 1222.96 1499.91 Q1219.9 1504.49 1214.09 1504.49 Q1208.28 1504.49 1205.2 1499.91 Q1202.15 1495.3 1202.15 1486.57 Q1202.15 1477.82 1205.2 1473.24 Q1208.28 1468.63 1214.09 1468.63 Z\" fill=\"#000000\" fill-rule=\"evenodd\" fill-opacity=\"1\" /><path clip-path=\"url(#clip860)\" d=\"M1508.83 1473.33 L1497.02 1491.78 L1508.83 1491.78 L1508.83 1473.33 M1507.6 1469.26 L1513.48 1469.26 L1513.48 1491.78 L1518.41 1491.78 L1518.41 1495.67 L1513.48 1495.67 L1513.48 1503.82 L1508.83 1503.82 L1508.83 1495.67 L1493.22 1495.67 L1493.22 1491.16 L1507.6 1469.26 Z\" fill=\"#000000\" fill-rule=\"evenodd\" fill-opacity=\"1\" /><path clip-path=\"url(#clip860)\" d=\"M1536.14 1472.34 Q1532.53 1472.34 1530.7 1475.9 Q1528.89 1479.44 1528.89 1486.57 Q1528.89 1493.68 1530.7 1497.24 Q1532.53 1500.79 1536.14 1500.79 Q1539.77 1500.79 1541.58 1497.24 Q1543.41 1493.68 1543.41 1486.57 Q1543.41 1479.44 1541.58 1475.9 Q1539.77 1472.34 1536.14 1472.34 M1536.14 1468.63 Q1541.95 1468.63 1545.01 1473.24 Q1548.08 1477.82 1548.08 1486.57 Q1548.08 1495.3 1545.01 1499.91 Q1541.95 1504.49 1536.14 1504.49 Q1530.33 1504.49 1527.25 1499.91 Q1524.2 1495.3 1524.2 1486.57 Q1524.2 1477.82 1527.25 1473.24 Q1530.33 1468.63 1536.14 1468.63 Z\" fill=\"#000000\" fill-rule=\"evenodd\" fill-opacity=\"1\" /><path clip-path=\"url(#clip860)\" d=\"M1816.75 1469.26 L1835.11 1469.26 L1835.11 1473.19 L1821.03 1473.19 L1821.03 1481.67 Q1822.05 1481.32 1823.07 1481.16 Q1824.09 1480.97 1825.11 1480.97 Q1830.9 1480.97 1834.28 1484.14 Q1837.65 1487.31 1837.65 1492.73 Q1837.65 1498.31 1834.18 1501.41 Q1830.71 1504.49 1824.39 1504.49 Q1822.21 1504.49 1819.95 1504.12 Q1817.7 1503.75 1815.29 1503.01 L1815.29 1498.31 Q1817.38 1499.44 1819.6 1500 Q1821.82 1500.55 1824.3 1500.55 Q1828.3 1500.55 1830.64 1498.45 Q1832.98 1496.34 1832.98 1492.73 Q1832.98 1489.12 1830.64 1487.01 Q1828.3 1484.91 1824.3 1484.91 Q1822.42 1484.91 1820.55 1485.32 Q1818.7 1485.74 1816.75 1486.62 L1816.75 1469.26 Z\" fill=\"#000000\" fill-rule=\"evenodd\" fill-opacity=\"1\" /><path clip-path=\"url(#clip860)\" d=\"M1856.87 1472.34 Q1853.26 1472.34 1851.43 1475.9 Q1849.62 1479.44 1849.62 1486.57 Q1849.62 1493.68 1851.43 1497.24 Q1853.26 1500.79 1856.87 1500.79 Q1860.5 1500.79 1862.31 1497.24 Q1864.14 1493.68 1864.14 1486.57 Q1864.14 1479.44 1862.31 1475.9 Q1860.5 1472.34 1856.87 1472.34 M1856.87 1468.63 Q1862.68 1468.63 1865.73 1473.24 Q1868.81 1477.82 1868.81 1486.57 Q1868.81 1495.3 1865.73 1499.91 Q1862.68 1504.49 1856.87 1504.49 Q1851.06 1504.49 1847.98 1499.91 Q1844.92 1495.3 1844.92 1486.57 Q1844.92 1477.82 1847.98 1473.24 Q1851.06 1468.63 1856.87 1468.63 Z\" fill=\"#000000\" fill-rule=\"evenodd\" fill-opacity=\"1\" /><path clip-path=\"url(#clip860)\" d=\"M2148.86 1484.68 Q2145.71 1484.68 2143.86 1486.83 Q2142.03 1488.98 2142.03 1492.73 Q2142.03 1496.46 2143.86 1498.63 Q2145.71 1500.79 2148.86 1500.79 Q2152.01 1500.79 2153.83 1498.63 Q2155.69 1496.46 2155.69 1492.73 Q2155.69 1488.98 2153.83 1486.83 Q2152.01 1484.68 2148.86 1484.68 M2158.14 1470.02 L2158.14 1474.28 Q2156.38 1473.45 2154.57 1473.01 Q2152.79 1472.57 2151.03 1472.57 Q2146.4 1472.57 2143.95 1475.69 Q2141.52 1478.82 2141.17 1485.14 Q2142.54 1483.12 2144.6 1482.06 Q2146.66 1480.97 2149.13 1480.97 Q2154.34 1480.97 2157.35 1484.14 Q2160.38 1487.29 2160.38 1492.73 Q2160.38 1498.05 2157.24 1501.27 Q2154.09 1504.49 2148.86 1504.49 Q2142.86 1504.49 2139.69 1499.91 Q2136.52 1495.3 2136.52 1486.57 Q2136.52 1478.38 2140.41 1473.52 Q2144.3 1468.63 2150.85 1468.63 Q2152.61 1468.63 2154.39 1468.98 Q2156.19 1469.33 2158.14 1470.02 Z\" fill=\"#000000\" fill-rule=\"evenodd\" fill-opacity=\"1\" /><path clip-path=\"url(#clip860)\" d=\"M2178.44 1472.34 Q2174.83 1472.34 2173 1475.9 Q2171.19 1479.44 2171.19 1486.57 Q2171.19 1493.68 2173 1497.24 Q2174.83 1500.79 2178.44 1500.79 Q2182.07 1500.79 2183.88 1497.24 Q2185.71 1493.68 2185.71 1486.57 Q2185.71 1479.44 2183.88 1475.9 Q2182.07 1472.34 2178.44 1472.34 M2178.44 1468.63 Q2184.25 1468.63 2187.31 1473.24 Q2190.38 1477.82 2190.38 1486.57 Q2190.38 1495.3 2187.31 1499.91 Q2184.25 1504.49 2178.44 1504.49 Q2172.63 1504.49 2169.55 1499.91 Q2166.5 1495.3 2166.5 1486.57 Q2166.5 1477.82 2169.55 1473.24 Q2172.63 1468.63 2178.44 1468.63 Z\" fill=\"#000000\" fill-rule=\"evenodd\" fill-opacity=\"1\" /><path clip-path=\"url(#clip860)\" d=\"M1285.19 1526.83 Q1285.19 1528.25 1284.03 1529.31 Q1282.9 1530.34 1281.68 1530.34 Q1280.55 1530.34 1279.84 1529.66 Q1279.17 1528.96 1279.17 1527.96 Q1279.17 1526.64 1280.29 1525.54 Q1281.42 1524.45 1282.74 1524.45 Q1283.84 1524.45 1284.51 1525.12 Q1285.19 1525.8 1285.19 1526.83 M1285.77 1558.62 Q1285.77 1558.88 1285.48 1559.91 Q1285.19 1560.9 1284.48 1562.45 Q1283.8 1563.96 1282.87 1565.38 Q1281.94 1566.8 1280.39 1567.8 Q1278.88 1568.79 1277.14 1568.79 Q1274.79 1568.79 1273.24 1567.25 Q1271.73 1565.7 1271.73 1563.38 Q1271.73 1562.13 1273.24 1558.1 Q1277.62 1546.38 1277.78 1545.9 Q1278.52 1544.06 1278.52 1542.45 Q1278.52 1541.71 1278.36 1541.26 Q1278.2 1540.78 1277.88 1540.61 Q1277.56 1540.42 1277.36 1540.39 Q1277.2 1540.36 1276.88 1540.36 Q1274.98 1540.36 1273.21 1542.29 Q1271.44 1544.22 1270.21 1548.54 Q1269.95 1549.34 1269.79 1549.54 Q1269.63 1549.73 1269.15 1549.73 Q1268.34 1549.7 1268.34 1549.05 Q1268.34 1548.86 1268.57 1548.12 Q1268.8 1547.35 1269.21 1546.19 Q1269.63 1544.99 1270.37 1543.77 Q1271.11 1542.51 1272.02 1541.42 Q1272.95 1540.32 1274.27 1539.62 Q1275.59 1538.91 1277.07 1538.91 Q1279.49 1538.91 1280.97 1540.49 Q1282.48 1542.03 1282.48 1544.32 Q1282.48 1545.57 1281.61 1547.8 Q1280.55 1550.69 1280.16 1551.63 L1277.59 1558.55 Q1276.65 1561.07 1276.36 1561.84 Q1276.11 1562.58 1275.88 1563.48 Q1275.69 1564.35 1275.69 1565.16 Q1275.69 1566.28 1276.04 1566.8 Q1276.43 1567.31 1277.27 1567.31 Q1279.58 1567.31 1281.29 1565.03 Q1283 1562.71 1284 1559.17 Q1284.03 1559.07 1284.06 1558.91 Q1284.32 1558.1 1284.58 1558.01 Q1284.7 1557.97 1284.96 1557.97 Q1285.77 1557.97 1285.77 1558.62 Z\" fill=\"#000000\" fill-rule=\"evenodd\" fill-opacity=\"1\" /><polyline clip-path=\"url(#clip862)\" style=\"stroke:#000000; stroke-linecap:butt; stroke-linejoin:round; stroke-width:2; stroke-opacity:0.1; fill:none\" points=\"\n",
       "  206.453,1284.74 2352.76,1284.74 \n",
       "  \"/>\n",
       "<polyline clip-path=\"url(#clip862)\" style=\"stroke:#000000; stroke-linecap:butt; stroke-linejoin:round; stroke-width:2; stroke-opacity:0.1; fill:none\" points=\"\n",
       "  206.453,949.842 2352.76,949.842 \n",
       "  \"/>\n",
       "<polyline clip-path=\"url(#clip862)\" style=\"stroke:#000000; stroke-linecap:butt; stroke-linejoin:round; stroke-width:2; stroke-opacity:0.1; fill:none\" points=\"\n",
       "  206.453,614.939 2352.76,614.939 \n",
       "  \"/>\n",
       "<polyline clip-path=\"url(#clip862)\" style=\"stroke:#000000; stroke-linecap:butt; stroke-linejoin:round; stroke-width:2; stroke-opacity:0.1; fill:none\" points=\"\n",
       "  206.453,280.036 2352.76,280.036 \n",
       "  \"/>\n",
       "<polyline clip-path=\"url(#clip860)\" style=\"stroke:#000000; stroke-linecap:butt; stroke-linejoin:round; stroke-width:4; stroke-opacity:1; fill:none\" points=\"\n",
       "  206.453,1441.42 206.453,47.2441 \n",
       "  \"/>\n",
       "<polyline clip-path=\"url(#clip860)\" style=\"stroke:#000000; stroke-linecap:butt; stroke-linejoin:round; stroke-width:4; stroke-opacity:1; fill:none\" points=\"\n",
       "  206.453,1284.74 225.35,1284.74 \n",
       "  \"/>\n",
       "<polyline clip-path=\"url(#clip860)\" style=\"stroke:#000000; stroke-linecap:butt; stroke-linejoin:round; stroke-width:4; stroke-opacity:1; fill:none\" points=\"\n",
       "  206.453,949.842 225.35,949.842 \n",
       "  \"/>\n",
       "<polyline clip-path=\"url(#clip860)\" style=\"stroke:#000000; stroke-linecap:butt; stroke-linejoin:round; stroke-width:4; stroke-opacity:1; fill:none\" points=\"\n",
       "  206.453,614.939 225.35,614.939 \n",
       "  \"/>\n",
       "<polyline clip-path=\"url(#clip860)\" style=\"stroke:#000000; stroke-linecap:butt; stroke-linejoin:round; stroke-width:4; stroke-opacity:1; fill:none\" points=\"\n",
       "  206.453,280.036 225.35,280.036 \n",
       "  \"/>\n",
       "<path clip-path=\"url(#clip860)\" d=\"M109.967 1285.2 L139.643 1285.2 L139.643 1289.13 L109.967 1289.13 L109.967 1285.2 Z\" fill=\"#000000\" fill-rule=\"evenodd\" fill-opacity=\"1\" /><path clip-path=\"url(#clip860)\" d=\"M150.546 1298.09 L158.184 1298.09 L158.184 1271.72 L149.874 1273.39 L149.874 1269.13 L158.138 1267.46 L162.814 1267.46 L162.814 1298.09 L170.453 1298.09 L170.453 1302.02 L150.546 1302.02 L150.546 1298.09 Z\" fill=\"#000000\" fill-rule=\"evenodd\" fill-opacity=\"1\" /><path clip-path=\"url(#clip860)\" d=\"M158.508 935.641 Q154.897 935.641 153.069 939.205 Q151.263 942.747 151.263 949.877 Q151.263 956.983 153.069 960.548 Q154.897 964.09 158.508 964.09 Q162.143 964.09 163.948 960.548 Q165.777 956.983 165.777 949.877 Q165.777 942.747 163.948 939.205 Q162.143 935.641 158.508 935.641 M158.508 931.937 Q164.319 931.937 167.374 936.543 Q170.453 941.127 170.453 949.877 Q170.453 958.603 167.374 963.21 Q164.319 967.793 158.508 967.793 Q152.698 967.793 149.62 963.21 Q146.564 958.603 146.564 949.877 Q146.564 941.127 149.62 936.543 Q152.698 931.937 158.508 931.937 Z\" fill=\"#000000\" fill-rule=\"evenodd\" fill-opacity=\"1\" /><path clip-path=\"url(#clip860)\" d=\"M150.546 628.284 L158.184 628.284 L158.184 601.918 L149.874 603.585 L149.874 599.326 L158.138 597.659 L162.814 597.659 L162.814 628.284 L170.453 628.284 L170.453 632.219 L150.546 632.219 L150.546 628.284 Z\" fill=\"#000000\" fill-rule=\"evenodd\" fill-opacity=\"1\" /><path clip-path=\"url(#clip860)\" d=\"M154.133 293.381 L170.453 293.381 L170.453 297.316 L148.508 297.316 L148.508 293.381 Q151.171 290.626 155.754 285.997 Q160.36 281.344 161.541 280.001 Q163.786 277.478 164.666 275.742 Q165.569 273.983 165.569 272.293 Q165.569 269.538 163.624 267.802 Q161.703 266.066 158.601 266.066 Q156.402 266.066 153.948 266.83 Q151.518 267.594 148.74 269.145 L148.74 264.423 Q151.564 263.288 154.018 262.71 Q156.471 262.131 158.508 262.131 Q163.879 262.131 167.073 264.816 Q170.268 267.501 170.268 271.992 Q170.268 274.122 169.457 276.043 Q168.67 277.941 166.564 280.534 Q165.985 281.205 162.883 284.423 Q159.782 287.617 154.133 293.381 Z\" fill=\"#000000\" fill-rule=\"evenodd\" fill-opacity=\"1\" /><path clip-path=\"url(#clip860)\" d=\"M61.0033 740.941 Q61.6152 740.941 61.6796 741.649 L61.6796 743.098 Q61.6796 744.58 61.4542 745.224 Q61.2287 745.868 60.1981 746.609 Q59.554 747.06 56.5589 748.187 Q53.5315 749.282 48.9583 750.892 Q44.3851 752.47 41.6798 753.533 L60.4236 769.411 Q61.8084 770.506 61.8084 771.601 Q61.8084 772.406 61.2609 772.985 Q60.7134 773.565 59.8761 773.565 Q59.2642 773.565 58.9099 773.34 Q58.5556 773.082 57.8471 772.406 L39.7796 754.177 L21.841 760.586 Q18.5238 761.81 17.6864 762.518 Q16.8491 763.195 16.5592 764.87 Q16.3982 765.481 15.8829 765.481 Q15.1743 765.481 15.1743 764.29 Q15.1743 757.913 19.8442 756.238 L57.364 742.776 Q59.5218 742.036 60.4236 741.263 Q60.8423 740.941 61.0033 740.941 Z\" fill=\"#000000\" fill-rule=\"evenodd\" fill-opacity=\"1\" /><path clip-path=\"url(#clip860)\" d=\"M51.0805 722.422 Q52.0725 722.422 52.8164 723.234 Q53.5379 724.023 53.5379 724.879 Q53.5379 725.668 53.0644 726.164 Q52.5685 726.638 51.8696 726.638 Q50.9453 726.638 50.1788 725.849 Q49.4123 725.06 49.4123 724.135 Q49.4123 723.369 49.8857 722.895 Q50.3591 722.422 51.0805 722.422 M73.3316 722.016 Q73.5119 722.016 74.2333 722.219 Q74.9322 722.422 76.0143 722.918 Q77.0739 723.391 78.0658 724.045 Q79.0578 724.699 79.7566 725.781 Q80.4555 726.841 80.4555 728.058 Q80.4555 729.704 79.3734 730.786 Q78.2913 731.845 76.6681 731.845 Q75.7889 731.845 72.9709 730.786 Q64.7648 727.72 64.4267 727.607 Q63.1416 727.089 62.0144 727.089 Q61.4959 727.089 61.1803 727.201 Q60.8421 727.314 60.7294 727.54 Q60.5942 727.765 60.5716 727.9 Q60.5491 728.013 60.5491 728.238 Q60.5491 729.569 61.9017 730.808 Q63.2544 732.048 66.2753 732.905 Q66.8389 733.085 66.9741 733.198 Q67.1094 733.311 67.1094 733.649 Q67.0869 734.213 66.636 734.213 Q66.5007 734.213 65.9822 734.055 Q65.4411 733.897 64.6296 733.604 Q63.7954 733.311 62.9387 732.792 Q62.0595 732.274 61.293 731.643 Q60.5265 730.989 60.0306 730.064 Q59.5346 729.14 59.5346 728.103 Q59.5346 726.412 60.6392 725.375 Q61.7214 724.316 63.322 724.316 Q64.2012 724.316 65.7568 724.924 Q67.7857 725.668 68.4395 725.939 L73.2865 727.742 Q75.0449 728.396 75.586 728.599 Q76.1045 728.779 76.7357 728.937 Q77.3444 729.073 77.908 729.073 Q78.6971 729.073 79.0578 728.825 Q79.4185 728.554 79.4185 727.968 Q79.4185 726.345 77.8179 725.15 Q76.1947 723.955 73.7148 723.256 Q73.6472 723.234 73.5345 723.211 Q72.9709 723.031 72.9032 722.85 Q72.8807 722.76 72.8807 722.58 Q72.8807 722.016 73.3316 722.016 Z\" fill=\"#000000\" fill-rule=\"evenodd\" fill-opacity=\"1\" /><circle clip-path=\"url(#clip862)\" cx=\"267.197\" cy=\"1401.96\" r=\"14\" fill=\"#009af9\" fill-rule=\"evenodd\" fill-opacity=\"1\" stroke=\"#000000\" stroke-opacity=\"1\" stroke-width=\"3.2\"/>\n",
       "<circle clip-path=\"url(#clip862)\" cx=\"299.337\" cy=\"1401.96\" r=\"14\" fill=\"#009af9\" fill-rule=\"evenodd\" fill-opacity=\"1\" stroke=\"#000000\" stroke-opacity=\"1\" stroke-width=\"3.2\"/>\n",
       "<circle clip-path=\"url(#clip862)\" cx=\"331.477\" cy=\"1401.96\" r=\"14\" fill=\"#009af9\" fill-rule=\"evenodd\" fill-opacity=\"1\" stroke=\"#000000\" stroke-opacity=\"1\" stroke-width=\"3.2\"/>\n",
       "<circle clip-path=\"url(#clip862)\" cx=\"363.617\" cy=\"1401.96\" r=\"14\" fill=\"#009af9\" fill-rule=\"evenodd\" fill-opacity=\"1\" stroke=\"#000000\" stroke-opacity=\"1\" stroke-width=\"3.2\"/>\n",
       "<circle clip-path=\"url(#clip862)\" cx=\"395.757\" cy=\"1401.96\" r=\"14\" fill=\"#009af9\" fill-rule=\"evenodd\" fill-opacity=\"1\" stroke=\"#000000\" stroke-opacity=\"1\" stroke-width=\"3.2\"/>\n",
       "<circle clip-path=\"url(#clip862)\" cx=\"427.897\" cy=\"1401.96\" r=\"14\" fill=\"#009af9\" fill-rule=\"evenodd\" fill-opacity=\"1\" stroke=\"#000000\" stroke-opacity=\"1\" stroke-width=\"3.2\"/>\n",
       "<circle clip-path=\"url(#clip862)\" cx=\"460.037\" cy=\"1401.96\" r=\"14\" fill=\"#009af9\" fill-rule=\"evenodd\" fill-opacity=\"1\" stroke=\"#000000\" stroke-opacity=\"1\" stroke-width=\"3.2\"/>\n",
       "<circle clip-path=\"url(#clip862)\" cx=\"492.177\" cy=\"1301.49\" r=\"14\" fill=\"#009af9\" fill-rule=\"evenodd\" fill-opacity=\"1\" stroke=\"#000000\" stroke-opacity=\"1\" stroke-width=\"3.2\"/>\n",
       "<circle clip-path=\"url(#clip862)\" cx=\"524.317\" cy=\"1301.49\" r=\"14\" fill=\"#009af9\" fill-rule=\"evenodd\" fill-opacity=\"1\" stroke=\"#000000\" stroke-opacity=\"1\" stroke-width=\"3.2\"/>\n",
       "<circle clip-path=\"url(#clip862)\" cx=\"556.456\" cy=\"1301.49\" r=\"14\" fill=\"#009af9\" fill-rule=\"evenodd\" fill-opacity=\"1\" stroke=\"#000000\" stroke-opacity=\"1\" stroke-width=\"3.2\"/>\n",
       "<circle clip-path=\"url(#clip862)\" cx=\"588.596\" cy=\"1301.49\" r=\"14\" fill=\"#009af9\" fill-rule=\"evenodd\" fill-opacity=\"1\" stroke=\"#000000\" stroke-opacity=\"1\" stroke-width=\"3.2\"/>\n",
       "<circle clip-path=\"url(#clip862)\" cx=\"620.736\" cy=\"1301.49\" r=\"14\" fill=\"#009af9\" fill-rule=\"evenodd\" fill-opacity=\"1\" stroke=\"#000000\" stroke-opacity=\"1\" stroke-width=\"3.2\"/>\n",
       "<circle clip-path=\"url(#clip862)\" cx=\"652.876\" cy=\"1213.36\" r=\"14\" fill=\"#009af9\" fill-rule=\"evenodd\" fill-opacity=\"1\" stroke=\"#000000\" stroke-opacity=\"1\" stroke-width=\"3.2\"/>\n",
       "<circle clip-path=\"url(#clip862)\" cx=\"685.016\" cy=\"1213.36\" r=\"14\" fill=\"#009af9\" fill-rule=\"evenodd\" fill-opacity=\"1\" stroke=\"#000000\" stroke-opacity=\"1\" stroke-width=\"3.2\"/>\n",
       "<circle clip-path=\"url(#clip862)\" cx=\"717.156\" cy=\"1213.36\" r=\"14\" fill=\"#009af9\" fill-rule=\"evenodd\" fill-opacity=\"1\" stroke=\"#000000\" stroke-opacity=\"1\" stroke-width=\"3.2\"/>\n",
       "<circle clip-path=\"url(#clip862)\" cx=\"749.296\" cy=\"1134.04\" r=\"14\" fill=\"#009af9\" fill-rule=\"evenodd\" fill-opacity=\"1\" stroke=\"#000000\" stroke-opacity=\"1\" stroke-width=\"3.2\"/>\n",
       "<circle clip-path=\"url(#clip862)\" cx=\"781.436\" cy=\"1134.04\" r=\"14\" fill=\"#009af9\" fill-rule=\"evenodd\" fill-opacity=\"1\" stroke=\"#000000\" stroke-opacity=\"1\" stroke-width=\"3.2\"/>\n",
       "<circle clip-path=\"url(#clip862)\" cx=\"813.576\" cy=\"1134.04\" r=\"14\" fill=\"#009af9\" fill-rule=\"evenodd\" fill-opacity=\"1\" stroke=\"#000000\" stroke-opacity=\"1\" stroke-width=\"3.2\"/>\n",
       "<circle clip-path=\"url(#clip862)\" cx=\"845.716\" cy=\"1100.55\" r=\"14\" fill=\"#009af9\" fill-rule=\"evenodd\" fill-opacity=\"1\" stroke=\"#000000\" stroke-opacity=\"1\" stroke-width=\"3.2\"/>\n",
       "<circle clip-path=\"url(#clip862)\" cx=\"877.856\" cy=\"1100.55\" r=\"14\" fill=\"#009af9\" fill-rule=\"evenodd\" fill-opacity=\"1\" stroke=\"#000000\" stroke-opacity=\"1\" stroke-width=\"3.2\"/>\n",
       "<circle clip-path=\"url(#clip862)\" cx=\"909.995\" cy=\"1100.55\" r=\"14\" fill=\"#009af9\" fill-rule=\"evenodd\" fill-opacity=\"1\" stroke=\"#000000\" stroke-opacity=\"1\" stroke-width=\"3.2\"/>\n",
       "<circle clip-path=\"url(#clip862)\" cx=\"942.135\" cy=\"1100.55\" r=\"14\" fill=\"#009af9\" fill-rule=\"evenodd\" fill-opacity=\"1\" stroke=\"#000000\" stroke-opacity=\"1\" stroke-width=\"3.2\"/>\n",
       "<circle clip-path=\"url(#clip862)\" cx=\"974.275\" cy=\"1100.55\" r=\"14\" fill=\"#009af9\" fill-rule=\"evenodd\" fill-opacity=\"1\" stroke=\"#000000\" stroke-opacity=\"1\" stroke-width=\"3.2\"/>\n",
       "<circle clip-path=\"url(#clip862)\" cx=\"1006.42\" cy=\"1067.06\" r=\"14\" fill=\"#009af9\" fill-rule=\"evenodd\" fill-opacity=\"1\" stroke=\"#000000\" stroke-opacity=\"1\" stroke-width=\"3.2\"/>\n",
       "<circle clip-path=\"url(#clip862)\" cx=\"1038.56\" cy=\"1067.06\" r=\"14\" fill=\"#009af9\" fill-rule=\"evenodd\" fill-opacity=\"1\" stroke=\"#000000\" stroke-opacity=\"1\" stroke-width=\"3.2\"/>\n",
       "<circle clip-path=\"url(#clip862)\" cx=\"1070.69\" cy=\"1067.06\" r=\"14\" fill=\"#009af9\" fill-rule=\"evenodd\" fill-opacity=\"1\" stroke=\"#000000\" stroke-opacity=\"1\" stroke-width=\"3.2\"/>\n",
       "<circle clip-path=\"url(#clip862)\" cx=\"1102.83\" cy=\"1067.06\" r=\"14\" fill=\"#009af9\" fill-rule=\"evenodd\" fill-opacity=\"1\" stroke=\"#000000\" stroke-opacity=\"1\" stroke-width=\"3.2\"/>\n",
       "<circle clip-path=\"url(#clip862)\" cx=\"1134.97\" cy=\"1067.06\" r=\"14\" fill=\"#009af9\" fill-rule=\"evenodd\" fill-opacity=\"1\" stroke=\"#000000\" stroke-opacity=\"1\" stroke-width=\"3.2\"/>\n",
       "<circle clip-path=\"url(#clip862)\" cx=\"1167.11\" cy=\"1000.08\" r=\"14\" fill=\"#009af9\" fill-rule=\"evenodd\" fill-opacity=\"1\" stroke=\"#000000\" stroke-opacity=\"1\" stroke-width=\"3.2\"/>\n",
       "<circle clip-path=\"url(#clip862)\" cx=\"1199.25\" cy=\"977.621\" r=\"14\" fill=\"#009af9\" fill-rule=\"evenodd\" fill-opacity=\"1\" stroke=\"#000000\" stroke-opacity=\"1\" stroke-width=\"3.2\"/>\n",
       "<circle clip-path=\"url(#clip862)\" cx=\"1231.39\" cy=\"977.621\" r=\"14\" fill=\"#009af9\" fill-rule=\"evenodd\" fill-opacity=\"1\" stroke=\"#000000\" stroke-opacity=\"1\" stroke-width=\"3.2\"/>\n",
       "<circle clip-path=\"url(#clip862)\" cx=\"1263.53\" cy=\"977.621\" r=\"14\" fill=\"#009af9\" fill-rule=\"evenodd\" fill-opacity=\"1\" stroke=\"#000000\" stroke-opacity=\"1\" stroke-width=\"3.2\"/>\n",
       "<circle clip-path=\"url(#clip862)\" cx=\"1295.67\" cy=\"966.587\" r=\"14\" fill=\"#009af9\" fill-rule=\"evenodd\" fill-opacity=\"1\" stroke=\"#000000\" stroke-opacity=\"1\" stroke-width=\"3.2\"/>\n",
       "<circle clip-path=\"url(#clip862)\" cx=\"1327.81\" cy=\"966.587\" r=\"14\" fill=\"#009af9\" fill-rule=\"evenodd\" fill-opacity=\"1\" stroke=\"#000000\" stroke-opacity=\"1\" stroke-width=\"3.2\"/>\n",
       "<circle clip-path=\"url(#clip862)\" cx=\"1359.95\" cy=\"966.587\" r=\"14\" fill=\"#009af9\" fill-rule=\"evenodd\" fill-opacity=\"1\" stroke=\"#000000\" stroke-opacity=\"1\" stroke-width=\"3.2\"/>\n",
       "<circle clip-path=\"url(#clip862)\" cx=\"1392.09\" cy=\"966.587\" r=\"14\" fill=\"#009af9\" fill-rule=\"evenodd\" fill-opacity=\"1\" stroke=\"#000000\" stroke-opacity=\"1\" stroke-width=\"3.2\"/>\n",
       "<circle clip-path=\"url(#clip862)\" cx=\"1424.23\" cy=\"966.587\" r=\"14\" fill=\"#009af9\" fill-rule=\"evenodd\" fill-opacity=\"1\" stroke=\"#000000\" stroke-opacity=\"1\" stroke-width=\"3.2\"/>\n",
       "<circle clip-path=\"url(#clip862)\" cx=\"1456.37\" cy=\"966.587\" r=\"14\" fill=\"#009af9\" fill-rule=\"evenodd\" fill-opacity=\"1\" stroke=\"#000000\" stroke-opacity=\"1\" stroke-width=\"3.2\"/>\n",
       "<circle clip-path=\"url(#clip862)\" cx=\"1488.51\" cy=\"966.587\" r=\"14\" fill=\"#009af9\" fill-rule=\"evenodd\" fill-opacity=\"1\" stroke=\"#000000\" stroke-opacity=\"1\" stroke-width=\"3.2\"/>\n",
       "<circle clip-path=\"url(#clip862)\" cx=\"1520.65\" cy=\"966.587\" r=\"14\" fill=\"#009af9\" fill-rule=\"evenodd\" fill-opacity=\"1\" stroke=\"#000000\" stroke-opacity=\"1\" stroke-width=\"3.2\"/>\n",
       "<circle clip-path=\"url(#clip862)\" cx=\"1552.79\" cy=\"959.859\" r=\"14\" fill=\"#009af9\" fill-rule=\"evenodd\" fill-opacity=\"1\" stroke=\"#000000\" stroke-opacity=\"1\" stroke-width=\"3.2\"/>\n",
       "<circle clip-path=\"url(#clip862)\" cx=\"1584.93\" cy=\"765.645\" r=\"14\" fill=\"#009af9\" fill-rule=\"evenodd\" fill-opacity=\"1\" stroke=\"#000000\" stroke-opacity=\"1\" stroke-width=\"3.2\"/>\n",
       "<circle clip-path=\"url(#clip862)\" cx=\"1617.07\" cy=\"765.645\" r=\"14\" fill=\"#009af9\" fill-rule=\"evenodd\" fill-opacity=\"1\" stroke=\"#000000\" stroke-opacity=\"1\" stroke-width=\"3.2\"/>\n",
       "<circle clip-path=\"url(#clip862)\" cx=\"1649.21\" cy=\"765.645\" r=\"14\" fill=\"#009af9\" fill-rule=\"evenodd\" fill-opacity=\"1\" stroke=\"#000000\" stroke-opacity=\"1\" stroke-width=\"3.2\"/>\n",
       "<circle clip-path=\"url(#clip862)\" cx=\"1681.35\" cy=\"765.645\" r=\"14\" fill=\"#009af9\" fill-rule=\"evenodd\" fill-opacity=\"1\" stroke=\"#000000\" stroke-opacity=\"1\" stroke-width=\"3.2\"/>\n",
       "<circle clip-path=\"url(#clip862)\" cx=\"1713.49\" cy=\"765.645\" r=\"14\" fill=\"#009af9\" fill-rule=\"evenodd\" fill-opacity=\"1\" stroke=\"#000000\" stroke-opacity=\"1\" stroke-width=\"3.2\"/>\n",
       "<circle clip-path=\"url(#clip862)\" cx=\"1745.63\" cy=\"765.645\" r=\"14\" fill=\"#009af9\" fill-rule=\"evenodd\" fill-opacity=\"1\" stroke=\"#000000\" stroke-opacity=\"1\" stroke-width=\"3.2\"/>\n",
       "<circle clip-path=\"url(#clip862)\" cx=\"1777.77\" cy=\"765.645\" r=\"14\" fill=\"#009af9\" fill-rule=\"evenodd\" fill-opacity=\"1\" stroke=\"#000000\" stroke-opacity=\"1\" stroke-width=\"3.2\"/>\n",
       "<circle clip-path=\"url(#clip862)\" cx=\"1809.91\" cy=\"765.645\" r=\"14\" fill=\"#009af9\" fill-rule=\"evenodd\" fill-opacity=\"1\" stroke=\"#000000\" stroke-opacity=\"1\" stroke-width=\"3.2\"/>\n",
       "<circle clip-path=\"url(#clip862)\" cx=\"1842.05\" cy=\"681.04\" r=\"14\" fill=\"#009af9\" fill-rule=\"evenodd\" fill-opacity=\"1\" stroke=\"#000000\" stroke-opacity=\"1\" stroke-width=\"3.2\"/>\n",
       "<circle clip-path=\"url(#clip862)\" cx=\"1874.19\" cy=\"665.174\" r=\"14\" fill=\"#009af9\" fill-rule=\"evenodd\" fill-opacity=\"1\" stroke=\"#000000\" stroke-opacity=\"1\" stroke-width=\"3.2\"/>\n",
       "<circle clip-path=\"url(#clip862)\" cx=\"1906.33\" cy=\"665.174\" r=\"14\" fill=\"#009af9\" fill-rule=\"evenodd\" fill-opacity=\"1\" stroke=\"#000000\" stroke-opacity=\"1\" stroke-width=\"3.2\"/>\n",
       "<circle clip-path=\"url(#clip862)\" cx=\"1938.47\" cy=\"665.174\" r=\"14\" fill=\"#009af9\" fill-rule=\"evenodd\" fill-opacity=\"1\" stroke=\"#000000\" stroke-opacity=\"1\" stroke-width=\"3.2\"/>\n",
       "<circle clip-path=\"url(#clip862)\" cx=\"1970.61\" cy=\"665.174\" r=\"14\" fill=\"#009af9\" fill-rule=\"evenodd\" fill-opacity=\"1\" stroke=\"#000000\" stroke-opacity=\"1\" stroke-width=\"3.2\"/>\n",
       "<circle clip-path=\"url(#clip862)\" cx=\"2002.75\" cy=\"621.683\" r=\"14\" fill=\"#009af9\" fill-rule=\"evenodd\" fill-opacity=\"1\" stroke=\"#000000\" stroke-opacity=\"1\" stroke-width=\"3.2\"/>\n",
       "<circle clip-path=\"url(#clip862)\" cx=\"2034.89\" cy=\"621.683\" r=\"14\" fill=\"#009af9\" fill-rule=\"evenodd\" fill-opacity=\"1\" stroke=\"#000000\" stroke-opacity=\"1\" stroke-width=\"3.2\"/>\n",
       "<circle clip-path=\"url(#clip862)\" cx=\"2067.03\" cy=\"621.683\" r=\"14\" fill=\"#009af9\" fill-rule=\"evenodd\" fill-opacity=\"1\" stroke=\"#000000\" stroke-opacity=\"1\" stroke-width=\"3.2\"/>\n",
       "<circle clip-path=\"url(#clip862)\" cx=\"2099.17\" cy=\"497.723\" r=\"14\" fill=\"#009af9\" fill-rule=\"evenodd\" fill-opacity=\"1\" stroke=\"#000000\" stroke-opacity=\"1\" stroke-width=\"3.2\"/>\n",
       "<circle clip-path=\"url(#clip862)\" cx=\"2131.31\" cy=\"497.723\" r=\"14\" fill=\"#009af9\" fill-rule=\"evenodd\" fill-opacity=\"1\" stroke=\"#000000\" stroke-opacity=\"1\" stroke-width=\"3.2\"/>\n",
       "<circle clip-path=\"url(#clip862)\" cx=\"2163.45\" cy=\"497.723\" r=\"14\" fill=\"#009af9\" fill-rule=\"evenodd\" fill-opacity=\"1\" stroke=\"#000000\" stroke-opacity=\"1\" stroke-width=\"3.2\"/>\n",
       "<circle clip-path=\"url(#clip862)\" cx=\"2195.59\" cy=\"350.388\" r=\"14\" fill=\"#009af9\" fill-rule=\"evenodd\" fill-opacity=\"1\" stroke=\"#000000\" stroke-opacity=\"1\" stroke-width=\"3.2\"/>\n",
       "<circle clip-path=\"url(#clip862)\" cx=\"2227.73\" cy=\"350.388\" r=\"14\" fill=\"#009af9\" fill-rule=\"evenodd\" fill-opacity=\"1\" stroke=\"#000000\" stroke-opacity=\"1\" stroke-width=\"3.2\"/>\n",
       "<circle clip-path=\"url(#clip862)\" cx=\"2259.87\" cy=\"350.388\" r=\"14\" fill=\"#009af9\" fill-rule=\"evenodd\" fill-opacity=\"1\" stroke=\"#000000\" stroke-opacity=\"1\" stroke-width=\"3.2\"/>\n",
       "<circle clip-path=\"url(#clip862)\" cx=\"2292.01\" cy=\"86.7019\" r=\"14\" fill=\"#009af9\" fill-rule=\"evenodd\" fill-opacity=\"1\" stroke=\"#000000\" stroke-opacity=\"1\" stroke-width=\"3.2\"/>\n",
       "</svg>\n"
      ]
     },
     "execution_count": 16,
     "metadata": {},
     "output_type": "execute_result"
    }
   ],
   "source": [
    "# show eigenvalues\n",
    "fig = scatter(eigvals(Matrix(H)), xlabel=L\"i\", ylabel=L\"\\lambda_i\", legend=false)"
   ]
  },
  {
   "cell_type": "code",
   "execution_count": 17,
   "metadata": {},
   "outputs": [
    {
     "data": {
      "text/plain": [
       "thermal_logZ"
      ]
     },
     "execution_count": 17,
     "metadata": {},
     "output_type": "execute_result"
    }
   ],
   "source": [
    "\"\"\"\n",
    "Compute `-log(Z)`, with `Z` the partition function.\n",
    "\"\"\"\n",
    "thermal_logZ(βH::AbstractMatrix) = -log(tr(exp(-Matrix(βH))))"
   ]
  },
  {
   "cell_type": "code",
   "execution_count": 18,
   "metadata": {},
   "outputs": [
    {
     "data": {
      "text/plain": [
       "-5.974568533204815"
      ]
     },
     "execution_count": 18,
     "metadata": {},
     "output_type": "execute_result"
    }
   ],
   "source": [
    "thermal_logZ(β*H)"
   ]
  },
  {
   "cell_type": "code",
   "execution_count": 19,
   "metadata": {},
   "outputs": [
    {
     "data": {
      "text/plain": [
       "thermal_state"
      ]
     },
     "execution_count": 19,
     "metadata": {},
     "output_type": "execute_result"
    }
   ],
   "source": [
    "\"\"\"\n",
    "Compute the thermal state `exp(-βH) / Z`, with `Z` the partition function.\n",
    "\"\"\"\n",
    "function thermal_state(βH::AbstractMatrix)\n",
    "    σ = exp(-Matrix(βH))\n",
    "    return σ / tr(σ)\n",
    "end"
   ]
  },
  {
   "cell_type": "code",
   "execution_count": 20,
   "metadata": {},
   "outputs": [
    {
     "data": {
      "text/plain": [
       "Matrix{Float64} (alias for Array{Float64, 2})"
      ]
     },
     "execution_count": 20,
     "metadata": {},
     "output_type": "execute_result"
    }
   ],
   "source": [
    "σtherm = thermal_state(β*H)\n",
    "typeof(σtherm)"
   ]
  },
  {
   "cell_type": "code",
   "execution_count": 21,
   "metadata": {},
   "outputs": [
    {
     "data": {
      "text/plain": [
       "-3.3306690738754696e-16"
      ]
     },
     "execution_count": 21,
     "metadata": {},
     "output_type": "execute_result"
    }
   ],
   "source": [
    "# consistency check\n",
    "tr(σtherm) - 1"
   ]
  },
  {
   "cell_type": "code",
   "execution_count": 22,
   "metadata": {},
   "outputs": [
    {
     "data": {
      "image/svg+xml": [
       "<?xml version=\"1.0\" encoding=\"utf-8\"?>\n",
       "<svg xmlns=\"http://www.w3.org/2000/svg\" xmlns:xlink=\"http://www.w3.org/1999/xlink\" width=\"600\" height=\"400\" viewBox=\"0 0 2400 1600\">\n",
       "<defs>\n",
       "  <clipPath id=\"clip900\">\n",
       "    <rect x=\"0\" y=\"0\" width=\"2400\" height=\"1600\"/>\n",
       "  </clipPath>\n",
       "</defs>\n",
       "<path clip-path=\"url(#clip900)\" d=\"\n",
       "M0 1600 L2400 1600 L2400 0 L0 0  Z\n",
       "  \" fill=\"#ffffff\" fill-rule=\"evenodd\" fill-opacity=\"1\"/>\n",
       "<defs>\n",
       "  <clipPath id=\"clip901\">\n",
       "    <rect x=\"480\" y=\"0\" width=\"1681\" height=\"1600\"/>\n",
       "  </clipPath>\n",
       "</defs>\n",
       "<defs>\n",
       "  <clipPath id=\"clip902\">\n",
       "    <rect x=\"206\" y=\"47\" width=\"2147\" height=\"1395\"/>\n",
       "  </clipPath>\n",
       "</defs>\n",
       "<path clip-path=\"url(#clip900)\" d=\"\n",
       "M141.853 1411.82 L2112.76 1411.82 L2112.76 186.097 L141.853 186.097  Z\n",
       "  \" fill=\"#ffffff\" fill-rule=\"evenodd\" fill-opacity=\"1\"/>\n",
       "<defs>\n",
       "  <clipPath id=\"clip903\">\n",
       "    <rect x=\"141\" y=\"186\" width=\"1972\" height=\"1227\"/>\n",
       "  </clipPath>\n",
       "</defs>\n",
       "<polyline clip-path=\"url(#clip903)\" style=\"stroke:#000000; stroke-linecap:butt; stroke-linejoin:round; stroke-width:2; stroke-opacity:0.1; fill:none\" points=\"\n",
       "  504.867,186.097 504.867,1411.82 \n",
       "  \"/>\n",
       "<polyline clip-path=\"url(#clip903)\" style=\"stroke:#000000; stroke-linecap:butt; stroke-linejoin:round; stroke-width:2; stroke-opacity:0.1; fill:none\" points=\"\n",
       "  887.906,186.097 887.906,1411.82 \n",
       "  \"/>\n",
       "<polyline clip-path=\"url(#clip903)\" style=\"stroke:#000000; stroke-linecap:butt; stroke-linejoin:round; stroke-width:2; stroke-opacity:0.1; fill:none\" points=\"\n",
       "  1270.94,186.097 1270.94,1411.82 \n",
       "  \"/>\n",
       "<polyline clip-path=\"url(#clip903)\" style=\"stroke:#000000; stroke-linecap:butt; stroke-linejoin:round; stroke-width:2; stroke-opacity:0.1; fill:none\" points=\"\n",
       "  1653.98,186.097 1653.98,1411.82 \n",
       "  \"/>\n",
       "<polyline clip-path=\"url(#clip903)\" style=\"stroke:#000000; stroke-linecap:butt; stroke-linejoin:round; stroke-width:2; stroke-opacity:0.1; fill:none\" points=\"\n",
       "  2037.02,186.097 2037.02,1411.82 \n",
       "  \"/>\n",
       "<polyline clip-path=\"url(#clip900)\" style=\"stroke:#000000; stroke-linecap:butt; stroke-linejoin:round; stroke-width:4; stroke-opacity:1; fill:none\" points=\"\n",
       "  141.853,1411.82 2112.76,1411.82 \n",
       "  \"/>\n",
       "<polyline clip-path=\"url(#clip900)\" style=\"stroke:#000000; stroke-linecap:butt; stroke-linejoin:round; stroke-width:4; stroke-opacity:1; fill:none\" points=\"\n",
       "  504.867,1411.82 504.867,1394.97 \n",
       "  \"/>\n",
       "<polyline clip-path=\"url(#clip900)\" style=\"stroke:#000000; stroke-linecap:butt; stroke-linejoin:round; stroke-width:4; stroke-opacity:1; fill:none\" points=\"\n",
       "  887.906,1411.82 887.906,1394.97 \n",
       "  \"/>\n",
       "<polyline clip-path=\"url(#clip900)\" style=\"stroke:#000000; stroke-linecap:butt; stroke-linejoin:round; stroke-width:4; stroke-opacity:1; fill:none\" points=\"\n",
       "  1270.94,1411.82 1270.94,1394.97 \n",
       "  \"/>\n",
       "<polyline clip-path=\"url(#clip900)\" style=\"stroke:#000000; stroke-linecap:butt; stroke-linejoin:round; stroke-width:4; stroke-opacity:1; fill:none\" points=\"\n",
       "  1653.98,1411.82 1653.98,1394.97 \n",
       "  \"/>\n",
       "<polyline clip-path=\"url(#clip900)\" style=\"stroke:#000000; stroke-linecap:butt; stroke-linejoin:round; stroke-width:4; stroke-opacity:1; fill:none\" points=\"\n",
       "  2037.02,1411.82 2037.02,1394.97 \n",
       "  \"/>\n",
       "<path clip-path=\"url(#clip900)\" d=\"M504.867 1442.74 Q501.256 1442.74 499.428 1446.3 Q497.622 1449.84 497.622 1456.97 Q497.622 1464.08 499.428 1467.64 Q501.256 1471.19 504.867 1471.19 Q508.502 1471.19 510.307 1467.64 Q512.136 1464.08 512.136 1456.97 Q512.136 1449.84 510.307 1446.3 Q508.502 1442.74 504.867 1442.74 M504.867 1439.03 Q510.678 1439.03 513.733 1443.64 Q516.812 1448.22 516.812 1456.97 Q516.812 1465.7 513.733 1470.31 Q510.678 1474.89 504.867 1474.89 Q499.057 1474.89 495.979 1470.31 Q492.923 1465.7 492.923 1456.97 Q492.923 1448.22 495.979 1443.64 Q499.057 1439.03 504.867 1439.03 Z\" fill=\"#000000\" fill-rule=\"evenodd\" fill-opacity=\"1\" /><path clip-path=\"url(#clip900)\" d=\"M866.679 1470.28 L882.998 1470.28 L882.998 1474.22 L861.054 1474.22 L861.054 1470.28 Q863.716 1467.53 868.299 1462.9 Q872.906 1458.25 874.086 1456.9 Q876.332 1454.38 877.211 1452.64 Q878.114 1450.89 878.114 1449.2 Q878.114 1446.44 876.17 1444.71 Q874.248 1442.97 871.146 1442.97 Q868.947 1442.97 866.494 1443.73 Q864.063 1444.5 861.285 1446.05 L861.285 1441.33 Q864.109 1440.19 866.563 1439.61 Q869.017 1439.03 871.054 1439.03 Q876.424 1439.03 879.619 1441.72 Q882.813 1444.4 882.813 1448.89 Q882.813 1451.02 882.003 1452.95 Q881.216 1454.84 879.109 1457.44 Q878.531 1458.11 875.429 1461.33 Q872.327 1464.52 866.679 1470.28 Z\" fill=\"#000000\" fill-rule=\"evenodd\" fill-opacity=\"1\" /><path clip-path=\"url(#clip900)\" d=\"M902.813 1442.74 Q899.202 1442.74 897.373 1446.3 Q895.568 1449.84 895.568 1456.97 Q895.568 1464.08 897.373 1467.64 Q899.202 1471.19 902.813 1471.19 Q906.447 1471.19 908.253 1467.64 Q910.081 1464.08 910.081 1456.97 Q910.081 1449.84 908.253 1446.3 Q906.447 1442.74 902.813 1442.74 M902.813 1439.03 Q908.623 1439.03 911.679 1443.64 Q914.757 1448.22 914.757 1456.97 Q914.757 1465.7 911.679 1470.31 Q908.623 1474.89 902.813 1474.89 Q897.003 1474.89 893.924 1470.31 Q890.869 1465.7 890.869 1456.97 Q890.869 1448.22 893.924 1443.64 Q897.003 1439.03 902.813 1439.03 Z\" fill=\"#000000\" fill-rule=\"evenodd\" fill-opacity=\"1\" /><path clip-path=\"url(#clip900)\" d=\"M1259.12 1443.73 L1247.31 1462.18 L1259.12 1462.18 L1259.12 1443.73 M1257.89 1439.66 L1263.77 1439.66 L1263.77 1462.18 L1268.7 1462.18 L1268.7 1466.07 L1263.77 1466.07 L1263.77 1474.22 L1259.12 1474.22 L1259.12 1466.07 L1243.51 1466.07 L1243.51 1461.56 L1257.89 1439.66 Z\" fill=\"#000000\" fill-rule=\"evenodd\" fill-opacity=\"1\" /><path clip-path=\"url(#clip900)\" d=\"M1286.43 1442.74 Q1282.82 1442.74 1280.99 1446.3 Q1279.18 1449.84 1279.18 1456.97 Q1279.18 1464.08 1280.99 1467.64 Q1282.82 1471.19 1286.43 1471.19 Q1290.06 1471.19 1291.87 1467.64 Q1293.7 1464.08 1293.7 1456.97 Q1293.7 1449.84 1291.87 1446.3 Q1290.06 1442.74 1286.43 1442.74 M1286.43 1439.03 Q1292.24 1439.03 1295.3 1443.64 Q1298.37 1448.22 1298.37 1456.97 Q1298.37 1465.7 1295.3 1470.31 Q1292.24 1474.89 1286.43 1474.89 Q1280.62 1474.89 1277.54 1470.31 Q1274.49 1465.7 1274.49 1456.97 Q1274.49 1448.22 1277.54 1443.64 Q1280.62 1439.03 1286.43 1439.03 Z\" fill=\"#000000\" fill-rule=\"evenodd\" fill-opacity=\"1\" /><path clip-path=\"url(#clip900)\" d=\"M1639.39 1455.08 Q1636.24 1455.08 1634.39 1457.23 Q1632.56 1459.38 1632.56 1463.13 Q1632.56 1466.86 1634.39 1469.03 Q1636.24 1471.19 1639.39 1471.19 Q1642.54 1471.19 1644.36 1469.03 Q1646.22 1466.86 1646.22 1463.13 Q1646.22 1459.38 1644.36 1457.23 Q1642.54 1455.08 1639.39 1455.08 M1648.67 1440.42 L1648.67 1444.68 Q1646.91 1443.85 1645.1 1443.41 Q1643.32 1442.97 1641.56 1442.97 Q1636.93 1442.97 1634.48 1446.09 Q1632.05 1449.22 1631.7 1455.54 Q1633.07 1453.52 1635.13 1452.46 Q1637.19 1451.37 1639.66 1451.37 Q1644.87 1451.37 1647.88 1454.54 Q1650.91 1457.69 1650.91 1463.13 Q1650.91 1468.45 1647.77 1471.67 Q1644.62 1474.89 1639.39 1474.89 Q1633.39 1474.89 1630.22 1470.31 Q1627.05 1465.7 1627.05 1456.97 Q1627.05 1448.78 1630.94 1443.92 Q1634.83 1439.03 1641.38 1439.03 Q1643.14 1439.03 1644.92 1439.38 Q1646.73 1439.73 1648.67 1440.42 Z\" fill=\"#000000\" fill-rule=\"evenodd\" fill-opacity=\"1\" /><path clip-path=\"url(#clip900)\" d=\"M1668.97 1442.74 Q1665.36 1442.74 1663.53 1446.3 Q1661.72 1449.84 1661.72 1456.97 Q1661.72 1464.08 1663.53 1467.64 Q1665.36 1471.19 1668.97 1471.19 Q1672.6 1471.19 1674.41 1467.64 Q1676.24 1464.08 1676.24 1456.97 Q1676.24 1449.84 1674.41 1446.3 Q1672.6 1442.74 1668.97 1442.74 M1668.97 1439.03 Q1674.78 1439.03 1677.84 1443.64 Q1680.91 1448.22 1680.91 1456.97 Q1680.91 1465.7 1677.84 1470.31 Q1674.78 1474.89 1668.97 1474.89 Q1663.16 1474.89 1660.08 1470.31 Q1657.03 1465.7 1657.03 1456.97 Q1657.03 1448.22 1660.08 1443.64 Q1663.16 1439.03 1668.97 1439.03 Z\" fill=\"#000000\" fill-rule=\"evenodd\" fill-opacity=\"1\" /><path clip-path=\"url(#clip900)\" d=\"M2021.89 1457.81 Q2018.56 1457.81 2016.64 1459.59 Q2014.74 1461.37 2014.74 1464.5 Q2014.74 1467.62 2016.64 1469.4 Q2018.56 1471.19 2021.89 1471.19 Q2025.23 1471.19 2027.15 1469.4 Q2029.07 1467.6 2029.07 1464.5 Q2029.07 1461.37 2027.15 1459.59 Q2025.25 1457.81 2021.89 1457.81 M2017.22 1455.82 Q2014.21 1455.08 2012.52 1453.02 Q2010.85 1450.96 2010.85 1447.99 Q2010.85 1443.85 2013.79 1441.44 Q2016.75 1439.03 2021.89 1439.03 Q2027.05 1439.03 2029.99 1441.44 Q2032.93 1443.85 2032.93 1447.99 Q2032.93 1450.96 2031.24 1453.02 Q2029.58 1455.08 2026.59 1455.82 Q2029.97 1456.6 2031.85 1458.89 Q2033.74 1461.19 2033.74 1464.5 Q2033.74 1469.52 2030.67 1472.2 Q2027.61 1474.89 2021.89 1474.89 Q2016.18 1474.89 2013.1 1472.2 Q2010.04 1469.52 2010.04 1464.5 Q2010.04 1461.19 2011.94 1458.89 Q2013.84 1456.6 2017.22 1455.82 M2015.5 1448.43 Q2015.5 1451.12 2017.17 1452.62 Q2018.86 1454.13 2021.89 1454.13 Q2024.9 1454.13 2026.59 1452.62 Q2028.3 1451.12 2028.3 1448.43 Q2028.3 1445.75 2026.59 1444.24 Q2024.9 1442.74 2021.89 1442.74 Q2018.86 1442.74 2017.17 1444.24 Q2015.5 1445.75 2015.5 1448.43 Z\" fill=\"#000000\" fill-rule=\"evenodd\" fill-opacity=\"1\" /><path clip-path=\"url(#clip900)\" d=\"M2052.05 1442.74 Q2048.44 1442.74 2046.61 1446.3 Q2044.81 1449.84 2044.81 1456.97 Q2044.81 1464.08 2046.61 1467.64 Q2048.44 1471.19 2052.05 1471.19 Q2055.69 1471.19 2057.49 1467.64 Q2059.32 1464.08 2059.32 1456.97 Q2059.32 1449.84 2057.49 1446.3 Q2055.69 1442.74 2052.05 1442.74 M2052.05 1439.03 Q2057.86 1439.03 2060.92 1443.64 Q2064 1448.22 2064 1456.97 Q2064 1465.7 2060.92 1470.31 Q2057.86 1474.89 2052.05 1474.89 Q2046.24 1474.89 2043.17 1470.31 Q2040.11 1465.7 2040.11 1456.97 Q2040.11 1448.22 2043.17 1443.64 Q2046.24 1439.03 2052.05 1439.03 Z\" fill=\"#000000\" fill-rule=\"evenodd\" fill-opacity=\"1\" /><polyline clip-path=\"url(#clip903)\" style=\"stroke:#000000; stroke-linecap:butt; stroke-linejoin:round; stroke-width:2; stroke-opacity:0.1; fill:none\" points=\"\n",
       "  141.853,368.04 2112.76,368.04 \n",
       "  \"/>\n",
       "<polyline clip-path=\"url(#clip903)\" style=\"stroke:#000000; stroke-linecap:butt; stroke-linejoin:round; stroke-width:2; stroke-opacity:0.1; fill:none\" points=\"\n",
       "  141.853,559.559 2112.76,559.559 \n",
       "  \"/>\n",
       "<polyline clip-path=\"url(#clip903)\" style=\"stroke:#000000; stroke-linecap:butt; stroke-linejoin:round; stroke-width:2; stroke-opacity:0.1; fill:none\" points=\"\n",
       "  141.853,751.078 2112.76,751.078 \n",
       "  \"/>\n",
       "<polyline clip-path=\"url(#clip903)\" style=\"stroke:#000000; stroke-linecap:butt; stroke-linejoin:round; stroke-width:2; stroke-opacity:0.1; fill:none\" points=\"\n",
       "  141.853,942.597 2112.76,942.597 \n",
       "  \"/>\n",
       "<polyline clip-path=\"url(#clip903)\" style=\"stroke:#000000; stroke-linecap:butt; stroke-linejoin:round; stroke-width:2; stroke-opacity:0.1; fill:none\" points=\"\n",
       "  141.853,1134.12 2112.76,1134.12 \n",
       "  \"/>\n",
       "<polyline clip-path=\"url(#clip903)\" style=\"stroke:#000000; stroke-linecap:butt; stroke-linejoin:round; stroke-width:2; stroke-opacity:0.1; fill:none\" points=\"\n",
       "  141.853,1325.64 2112.76,1325.64 \n",
       "  \"/>\n",
       "<polyline clip-path=\"url(#clip900)\" style=\"stroke:#000000; stroke-linecap:butt; stroke-linejoin:round; stroke-width:4; stroke-opacity:1; fill:none\" points=\"\n",
       "  141.853,186.097 141.853,1411.82 \n",
       "  \"/>\n",
       "<polyline clip-path=\"url(#clip900)\" style=\"stroke:#000000; stroke-linecap:butt; stroke-linejoin:round; stroke-width:4; stroke-opacity:1; fill:none\" points=\"\n",
       "  141.853,368.04 158.699,368.04 \n",
       "  \"/>\n",
       "<polyline clip-path=\"url(#clip900)\" style=\"stroke:#000000; stroke-linecap:butt; stroke-linejoin:round; stroke-width:4; stroke-opacity:1; fill:none\" points=\"\n",
       "  141.853,559.559 158.699,559.559 \n",
       "  \"/>\n",
       "<polyline clip-path=\"url(#clip900)\" style=\"stroke:#000000; stroke-linecap:butt; stroke-linejoin:round; stroke-width:4; stroke-opacity:1; fill:none\" points=\"\n",
       "  141.853,751.078 158.699,751.078 \n",
       "  \"/>\n",
       "<polyline clip-path=\"url(#clip900)\" style=\"stroke:#000000; stroke-linecap:butt; stroke-linejoin:round; stroke-width:4; stroke-opacity:1; fill:none\" points=\"\n",
       "  141.853,942.597 158.699,942.597 \n",
       "  \"/>\n",
       "<polyline clip-path=\"url(#clip900)\" style=\"stroke:#000000; stroke-linecap:butt; stroke-linejoin:round; stroke-width:4; stroke-opacity:1; fill:none\" points=\"\n",
       "  141.853,1134.12 158.699,1134.12 \n",
       "  \"/>\n",
       "<polyline clip-path=\"url(#clip900)\" style=\"stroke:#000000; stroke-linecap:butt; stroke-linejoin:round; stroke-width:4; stroke-opacity:1; fill:none\" points=\"\n",
       "  141.853,1325.64 158.699,1325.64 \n",
       "  \"/>\n",
       "<path clip-path=\"url(#clip900)\" d=\"M54.5569 381.385 L62.1958 381.385 L62.1958 355.019 L53.8856 356.686 L53.8856 352.426 L62.1495 350.76 L66.8254 350.76 L66.8254 381.385 L74.4642 381.385 L74.4642 385.32 L54.5569 385.32 L54.5569 381.385 Z\" fill=\"#000000\" fill-rule=\"evenodd\" fill-opacity=\"1\" /><path clip-path=\"url(#clip900)\" d=\"M93.9086 353.838 Q90.2975 353.838 88.4688 357.403 Q86.6632 360.945 86.6632 368.074 Q86.6632 375.181 88.4688 378.746 Q90.2975 382.287 93.9086 382.287 Q97.5428 382.287 99.3483 378.746 Q101.177 375.181 101.177 368.074 Q101.177 360.945 99.3483 357.403 Q97.5428 353.838 93.9086 353.838 M93.9086 350.135 Q99.7187 350.135 102.774 354.741 Q105.853 359.325 105.853 368.074 Q105.853 376.801 102.774 381.408 Q99.7187 385.991 93.9086 385.991 Q88.0984 385.991 85.0197 381.408 Q81.9642 376.801 81.9642 368.074 Q81.9642 359.325 85.0197 354.741 Q88.0984 350.135 93.9086 350.135 Z\" fill=\"#000000\" fill-rule=\"evenodd\" fill-opacity=\"1\" /><path clip-path=\"url(#clip900)\" d=\"M57.7745 572.904 L74.0939 572.904 L74.0939 576.839 L52.1495 576.839 L52.1495 572.904 Q54.8115 570.149 59.3949 565.519 Q64.0013 560.867 65.1819 559.524 Q67.4272 557.001 68.3068 555.265 Q69.2096 553.506 69.2096 551.816 Q69.2096 549.061 67.2652 547.325 Q65.3439 545.589 62.2421 545.589 Q60.043 545.589 57.5893 546.353 Q55.1588 547.117 52.381 548.668 L52.381 543.946 Q55.2051 542.811 57.6588 542.233 Q60.1124 541.654 62.1495 541.654 Q67.5198 541.654 70.7142 544.339 Q73.9087 547.024 73.9087 551.515 Q73.9087 553.645 73.0985 555.566 Q72.3115 557.464 70.205 560.057 Q69.6263 560.728 66.5245 563.945 Q63.4226 567.14 57.7745 572.904 Z\" fill=\"#000000\" fill-rule=\"evenodd\" fill-opacity=\"1\" /><path clip-path=\"url(#clip900)\" d=\"M93.9086 545.358 Q90.2975 545.358 88.4688 548.922 Q86.6632 552.464 86.6632 559.594 Q86.6632 566.7 88.4688 570.265 Q90.2975 573.806 93.9086 573.806 Q97.5428 573.806 99.3483 570.265 Q101.177 566.7 101.177 559.594 Q101.177 552.464 99.3483 548.922 Q97.5428 545.358 93.9086 545.358 M93.9086 541.654 Q99.7187 541.654 102.774 546.26 Q105.853 550.844 105.853 559.594 Q105.853 568.32 102.774 572.927 Q99.7187 577.51 93.9086 577.51 Q88.0984 577.51 85.0197 572.927 Q81.9642 568.32 81.9642 559.594 Q81.9642 550.844 85.0197 546.26 Q88.0984 541.654 93.9086 541.654 Z\" fill=\"#000000\" fill-rule=\"evenodd\" fill-opacity=\"1\" /><path clip-path=\"url(#clip900)\" d=\"M67.9133 749.724 Q71.2698 750.441 73.1448 752.71 Q75.0429 754.978 75.0429 758.312 Q75.0429 763.427 71.5244 766.228 Q68.0059 769.029 61.5245 769.029 Q59.3486 769.029 57.0338 768.589 Q54.7421 768.173 52.2884 767.316 L52.2884 762.802 Q54.2328 763.937 56.5477 764.515 Q58.8625 765.094 61.3856 765.094 Q65.7837 765.094 68.0754 763.358 Q70.3902 761.622 70.3902 758.312 Q70.3902 755.256 68.2374 753.543 Q66.1078 751.807 62.2884 751.807 L58.2606 751.807 L58.2606 747.965 L62.4735 747.965 Q65.9226 747.965 67.7513 746.599 Q69.58 745.21 69.58 742.617 Q69.58 739.955 67.6819 738.543 Q65.8069 737.108 62.2884 737.108 Q60.3671 737.108 58.168 737.525 Q55.969 737.941 53.3301 738.821 L53.3301 734.654 Q55.9921 733.914 58.3069 733.543 Q60.6449 733.173 62.705 733.173 Q68.0291 733.173 71.1309 735.603 Q74.2327 738.011 74.2327 742.131 Q74.2327 745.002 72.5892 746.992 Q70.9457 748.96 67.9133 749.724 Z\" fill=\"#000000\" fill-rule=\"evenodd\" fill-opacity=\"1\" /><path clip-path=\"url(#clip900)\" d=\"M93.9086 736.877 Q90.2975 736.877 88.4688 740.441 Q86.6632 743.983 86.6632 751.113 Q86.6632 758.219 88.4688 761.784 Q90.2975 765.326 93.9086 765.326 Q97.5428 765.326 99.3483 761.784 Q101.177 758.219 101.177 751.113 Q101.177 743.983 99.3483 740.441 Q97.5428 736.877 93.9086 736.877 M93.9086 733.173 Q99.7187 733.173 102.774 737.779 Q105.853 742.363 105.853 751.113 Q105.853 759.839 102.774 764.446 Q99.7187 769.029 93.9086 769.029 Q88.0984 769.029 85.0197 764.446 Q81.9642 759.839 81.9642 751.113 Q81.9642 742.363 85.0197 737.779 Q88.0984 733.173 93.9086 733.173 Z\" fill=\"#000000\" fill-rule=\"evenodd\" fill-opacity=\"1\" /><path clip-path=\"url(#clip900)\" d=\"M66.5939 929.391 L54.7884 947.84 L66.5939 947.84 L66.5939 929.391 M65.367 925.317 L71.2466 925.317 L71.2466 947.84 L76.1772 947.84 L76.1772 951.729 L71.2466 951.729 L71.2466 959.877 L66.5939 959.877 L66.5939 951.729 L50.9921 951.729 L50.9921 947.215 L65.367 925.317 Z\" fill=\"#000000\" fill-rule=\"evenodd\" fill-opacity=\"1\" /><path clip-path=\"url(#clip900)\" d=\"M93.9086 928.396 Q90.2975 928.396 88.4688 931.961 Q86.6632 935.502 86.6632 942.632 Q86.6632 949.738 88.4688 953.303 Q90.2975 956.845 93.9086 956.845 Q97.5428 956.845 99.3483 953.303 Q101.177 949.738 101.177 942.632 Q101.177 935.502 99.3483 931.961 Q97.5428 928.396 93.9086 928.396 M93.9086 924.692 Q99.7187 924.692 102.774 929.298 Q105.853 933.882 105.853 942.632 Q105.853 951.359 102.774 955.965 Q99.7187 960.548 93.9086 960.548 Q88.0984 960.548 85.0197 955.965 Q81.9642 951.359 81.9642 942.632 Q81.9642 933.882 85.0197 929.298 Q88.0984 924.692 93.9086 924.692 Z\" fill=\"#000000\" fill-rule=\"evenodd\" fill-opacity=\"1\" /><path clip-path=\"url(#clip900)\" d=\"M53.793 1116.84 L72.1494 1116.84 L72.1494 1120.77 L58.0754 1120.77 L58.0754 1129.24 Q59.0939 1128.9 60.1124 1128.73 Q61.131 1128.55 62.1495 1128.55 Q67.9365 1128.55 71.3161 1131.72 Q74.6957 1134.89 74.6957 1140.31 Q74.6957 1145.89 71.2235 1148.99 Q67.7513 1152.07 61.4319 1152.07 Q59.256 1152.07 56.9875 1151.7 Q54.7421 1151.33 52.3347 1150.59 L52.3347 1145.89 Q54.418 1147.02 56.6402 1147.58 Q58.8625 1148.13 61.3393 1148.13 Q65.3439 1148.13 67.6819 1146.03 Q70.0198 1143.92 70.0198 1140.31 Q70.0198 1136.7 67.6819 1134.59 Q65.3439 1132.48 61.3393 1132.48 Q59.4643 1132.48 57.5893 1132.9 Q55.7375 1133.32 53.793 1134.2 L53.793 1116.84 Z\" fill=\"#000000\" fill-rule=\"evenodd\" fill-opacity=\"1\" /><path clip-path=\"url(#clip900)\" d=\"M93.9086 1119.91 Q90.2975 1119.91 88.4688 1123.48 Q86.6632 1127.02 86.6632 1134.15 Q86.6632 1141.26 88.4688 1144.82 Q90.2975 1148.36 93.9086 1148.36 Q97.5428 1148.36 99.3483 1144.82 Q101.177 1141.26 101.177 1134.15 Q101.177 1127.02 99.3483 1123.48 Q97.5428 1119.91 93.9086 1119.91 M93.9086 1116.21 Q99.7187 1116.21 102.774 1120.82 Q105.853 1125.4 105.853 1134.15 Q105.853 1142.88 102.774 1147.48 Q99.7187 1152.07 93.9086 1152.07 Q88.0984 1152.07 85.0197 1147.48 Q81.9642 1142.88 81.9642 1134.15 Q81.9642 1125.4 85.0197 1120.82 Q88.0984 1116.21 93.9086 1116.21 Z\" fill=\"#000000\" fill-rule=\"evenodd\" fill-opacity=\"1\" /><path clip-path=\"url(#clip900)\" d=\"M64.3254 1323.77 Q61.1773 1323.77 59.3254 1325.92 Q57.4967 1328.08 57.4967 1331.83 Q57.4967 1335.55 59.3254 1337.73 Q61.1773 1339.88 64.3254 1339.88 Q67.4735 1339.88 69.3022 1337.73 Q71.1541 1335.55 71.1541 1331.83 Q71.1541 1328.08 69.3022 1325.92 Q67.4735 1323.77 64.3254 1323.77 M73.6077 1309.12 L73.6077 1313.38 Q71.8485 1312.55 70.0429 1312.11 Q68.2606 1311.67 66.5013 1311.67 Q61.8717 1311.67 59.418 1314.79 Q56.9875 1317.92 56.6402 1324.23 Q58.006 1322.22 60.0662 1321.16 Q62.1263 1320.07 64.6032 1320.07 Q69.8115 1320.07 72.8207 1323.24 Q75.8531 1326.39 75.8531 1331.83 Q75.8531 1337.15 72.705 1340.37 Q69.5568 1343.59 64.3254 1343.59 Q58.33 1343.59 55.1588 1339 Q51.9875 1334.4 51.9875 1325.67 Q51.9875 1317.48 55.8764 1312.61 Q59.7652 1307.73 66.3161 1307.73 Q68.0754 1307.73 69.8578 1308.08 Q71.6633 1308.42 73.6077 1309.12 Z\" fill=\"#000000\" fill-rule=\"evenodd\" fill-opacity=\"1\" /><path clip-path=\"url(#clip900)\" d=\"M93.9086 1311.43 Q90.2975 1311.43 88.4688 1315 Q86.6632 1318.54 86.6632 1325.67 Q86.6632 1332.78 88.4688 1336.34 Q90.2975 1339.88 93.9086 1339.88 Q97.5428 1339.88 99.3483 1336.34 Q101.177 1332.78 101.177 1325.67 Q101.177 1318.54 99.3483 1315 Q97.5428 1311.43 93.9086 1311.43 M93.9086 1307.73 Q99.7187 1307.73 102.774 1312.34 Q105.853 1316.92 105.853 1325.67 Q105.853 1334.4 102.774 1339 Q99.7187 1343.59 93.9086 1343.59 Q88.0984 1343.59 85.0197 1339 Q81.9642 1334.4 81.9642 1325.67 Q81.9642 1316.92 85.0197 1312.34 Q88.0984 1307.73 93.9086 1307.73 Z\" fill=\"#000000\" fill-rule=\"evenodd\" fill-opacity=\"1\" /><path clip-path=\"url(#clip900)\" d=\"M1124.29 8.93 Q1124.29 11.7993 1120.19 11.7993 L1110.97 11.7993 Q1113.55 15.4883 1113.55 20.9399 Q1113.55 25.6126 1111.63 29.9985 Q1109.74 34.3434 1106.71 37.3766 Q1103.71 40.4098 1099.94 42.2543 Q1096.17 44.0578 1092.48 44.0578 Q1086.87 44.0578 1083.38 40.2458 Q1079.9 36.4338 1079.9 30.7773 Q1079.9 27.7851 1080.92 24.4649 Q1081.99 21.1448 1084 18.0706 Q1086.01 14.9554 1088.63 12.4551 Q1091.3 9.95474 1094.74 8.43813 Q1098.22 6.92153 1101.87 6.92153 L1121.01 6.92153 Q1122.04 6.92153 1122.57 7.00351 Q1123.14 7.0445 1123.72 7.53637 Q1124.29 7.98725 1124.29 8.93 M1108.18 19.9561 Q1108.18 18.9724 1108.06 18.1116 Q1107.94 17.2098 1107.49 16.0211 Q1107.03 14.7915 1106.26 13.9307 Q1105.48 13.0289 1103.96 12.4141 Q1102.49 11.7993 1100.48 11.7993 Q1097.65 11.7993 1094.53 13.3568 Q1091.42 14.9144 1089.04 18.7674 Q1087.07 22.0466 1086.09 26.3095 Q1085.11 30.5723 1085.11 33.1137 Q1085.11 37.4585 1087.2 39.8359 Q1089.33 42.1723 1092.57 42.1723 Q1095.23 42.1723 1098.26 40.3688 Q1101.3 38.5243 1103.63 35.0402 Q1105.68 32.007 1106.91 27.5801 Q1108.18 23.1533 1108.18 19.9561 Z\" fill=\"#000000\" fill-rule=\"evenodd\" fill-opacity=\"1\" /><path clip-path=\"url(#clip900)\" d=\"M1164.81 34.9655 Q1164.81 35.7115 1164.49 37.1461 Q1163.49 41.1918 1159.73 43.9749 Q1159.1 44.4914 1157.98 45.1513 Q1159.33 46.0408 1160.5 47.6763 Q1162.25 50.3734 1162.25 54.0173 Q1162.25 55.7102 1161.79 57.776 Q1160.5 62.5677 1155.97 66.0108 Q1151.41 69.3678 1145.98 69.3678 Q1143.06 69.3678 1141.05 67.8184 Q1139.07 66.2403 1138.29 63.6006 L1134.31 79.6971 Q1134.22 80.0988 1133.7 80.0988 L1133.42 80.0988 Q1132.81 80.0988 1132.81 79.4102 L1141.88 43.2576 Q1142.48 40.8188 1143.46 38.5234 Q1144.43 36.228 1145.78 34.1621 Q1147.16 32.0963 1148.74 30.5755 Q1150.32 29.0262 1152.27 28.1367 Q1154.22 27.2185 1156.28 27.2185 Q1160.62 27.2185 1163.08 30.1739 Q1164.81 32.2684 1164.81 34.9655 M1161.51 33.9326 Q1161.51 32.1536 1160.79 30.9199 Q1159.33 28.5671 1156.23 28.5671 Q1154.36 28.5671 1152.58 29.4278 Q1150.83 30.2599 1149.43 31.6946 Q1148.02 33.1292 1146.82 35.0803 Q1145.61 37.0314 1144.72 39.1546 Q1143.86 41.2492 1143.29 43.5446 L1139.76 57.776 Q1139.41 59.2967 1139.41 60.6453 Q1139.41 63.8588 1141.19 65.9534 Q1142.97 68.0479 1146.04 68.0479 Q1150.11 68.0479 1153.62 65.0065 Q1156.66 62.2808 1157.92 57.4891 Q1158.64 54.4764 1158.64 52.3818 Q1158.64 50.0864 1157.8 48.3075 Q1157.2 46.8729 1156.03 46.0121 Q1153.84 46.7868 1151.64 46.7868 Q1150.57 46.7868 1150 46.7581 Q1149.45 46.7294 1148.65 46.6147 Q1147.88 46.4999 1147.5 46.1843 Q1147.16 45.8686 1147.16 45.3809 Q1147.16 45.094 1147.22 44.9792 Q1147.33 44.5201 1147.7 44.2045 Q1148.08 43.8889 1148.51 43.7454 Q1148.94 43.5732 1149.66 43.4872 Q1150.4 43.4011 1150.89 43.4011 Q1151.38 43.3724 1152.21 43.3724 Q1154.16 43.3724 1156.14 44.1471 Q1156.89 43.7454 1157.69 43.0281 Q1160.24 40.6466 1161.1 36.8592 Q1161.51 35.4533 1161.51 33.9326 M1154.28 45.0366 Q1153.07 44.7209 1152.15 44.7209 Q1148.79 44.7209 1148.62 45.2661 Q1148.62 45.3235 1148.74 45.3809 Q1148.85 45.4096 1149.11 45.4383 Q1149.4 45.4383 1149.63 45.467 Q1149.89 45.4956 1150.32 45.4956 Q1150.75 45.4956 1150.98 45.4956 Q1151.23 45.4956 1151.69 45.4956 Q1152.84 45.4956 1154.28 45.0366 Z\" fill=\"#000000\" fill-rule=\"evenodd\" fill-opacity=\"1\" /><g clip-path=\"url(#clip903)\">\n",
       "<image width=\"1226\" height=\"1226\" xlink:href=\"data:image/png;base64,\n",
       "iVBORw0KGgoAAAANSUhEUgAABMoAAATKCAYAAACg84g5AAAgAElEQVR4nOza8bPnBX3f++dhv7sH\n",
       "cEuiMsoPodygGGjCRW0FRgwZJUajNhCiU+j0B9qI1Tjj+INTJ44znc44duz4g+NMoxVN+SFT7JgS\n",
       "SNWgXuSGIAO00dCkBUXpVe4PxKvQmIXdc/bsnvsD09nMmEjw+2bPd/c8Hn/Aa97Mnu/nfM+Tz9rW\n",
       "9u9sN2ixdt3kHAAAAAAcF6fs9AEAAAAAsAqEMgAAAABIKAMAAACASigDAAAAgEooAwAAAIBKKAMA\n",
       "AACASigDAAAAgEooAwAAAIBKKAMAAACASigDAAAAgEooAwAAAIBKKAMAAACASigDAAAAgEooAwAA\n",
       "AIBKKAMAAACASigDAAAAgEooAwAAAIBKKAMAAACASigDAAAAgKrWarE9Obj1+8+bnKsnnhybWlx7\n",
       "aGyr6uAH9i+9cdr7DwxccmI48L7nj+7t/+D3R/c4sT105SWje+fdeu/oHsDT+bPXXz6693O33Tm6\n",
       "BwCwG3ijDAAAAAASygAAAACgEsoAAAAAoBLKAAAAAKASygAAAACgEsoAAAAAoBLKAAAAAKASygAA\n",
       "AACgEsoAAAAAoBLKAAAAAKASygAAAACgEsoAAAAAoBLKAAAAAKASygAAAACgEsoAAAAAoBLKAAAA\n",
       "AKASygAAAACgEsoAAAAAoBLKAAAAAKCqxfjiE0/O7j3n9MGxQ4NbdeTJ9YGVAwMbJ4Y9p2/s9Amc\n",
       "xDY2Jj6PADtnfd3vSQCAneaNMgAAAABIKAMAAACASigDAAAAgEooAwAAAIBKKAMAAACASigDAAAA\n",
       "gEooAwAAAIBKKAMAAACASigDAAAAgEooAwAAAIBKKAMAAACASigDAAAAgEooAwAAAIBKKAMAAACA\n",
       "SigDAAAAgEooAwAAAIBKKAMAAACASigDAAAAgKrWarG900ccL1s3/8To3uLqv1h649Hrzh+45Jj1\n",
       "M54Y23ruRx8Z23o2PP6us5fe2PjBcwYuecpZNz44tlX14JteObp3/mfvHt072X350ivHtvYttsa2\n",
       "ql511+eW3vjwi64fuOSY93zrhtG9VXXDBdeN7Fz/wI0jO/Cj3PWqN47ubW4tlt54zT23DlxyzNRn\n",
       "snbH53Ly2b9bnvs8c//8Bb8xuvfvvvtbo3sAT8cbZQAAAACQUAYAAAAAlVAGAAAAAJVQBgAAAACV\n",
       "UAYAAAAAlVAGAAAAAJVQBgAAAACVUAYAAAAAlVAGAAAAAJVQBgAAAACVUAYAAAAAlVAGAAAAAJVQ\n",
       "BgAAAACVUAYAAAAAlVAGAAAAAJVQBgAAAACVUAYAAAAAlVAGAAAAAJVQBgAAAABVrdVie3Lw4Af2\n",
       "T8515Mn1sa39H/z+2FbV4Y8t3xn3vuPowCUnho0P7xvdW3/P5ugeJ7bpZ89p7z8wugfwdA687/mj\n",
       "e9PfewAAdgNvlAEAAABAQhkAAAAAVEIZAAAAAFRCGQAAAABUQhkAAAAAVEIZAAAAAFRCGQAAAABU\n",
       "QhkAAAAAVEIZAAAAAFRCGQAAAABUQhkAAAAAVEIZAAAAAFRCGQAAAABUQhkAAAAAVEIZAAAAAFRC\n",
       "GQAAAABUtVaL7Z0+4nh59LrzR/fOuvHBpTcO/OaZA5ccc+jxM8a2zvz4w2Nbz4bvvf3cpTeObO4d\n",
       "uOQpL/ztr49tVT101SWje+fdcu/o3snuO9dcNLZ16OBpY1tVL7n1nqU3vnzplQOXHPOae24d3VtV\n",
       "X7j46pGd191388gO/CjfuPLS0b2NjX1Lb1x4250Dlxwz9Zms3fG5/E8vvWZs69f+5NNjW5xcPvyi\n",
       "60f33vOtG0b3AJ6ON8oAAAAAIKEMAAAAACqhDAAAAAAqoQwAAAAAKqEMAAAAACqhDAAAAAAqoQwA\n",
       "AAAAKqEMAAAAACqhDAAAAAAqoQwAAAAAKqEMAAAAACqhDAAAAAAqoQwAAAAAKqEMAAAAACqhDAAA\n",
       "AAAqoQwAAAAAKqEMAAAAACqhDAAAAAAqoQwAAAAAqlrs9AHH0/oZT+z0CT/k0ONnjO6trW2P7q2y\n",
       "o4f3LL2xZ9/hgUueHfv2bu70CbvaE3+5f2xrsXdrbGvK4aPLf352o9MWPpecODY39o3uLfYcGd2b\n",
       "sDhl9W5aZfv3eYbx7PuJFf5+DfC34Y0yAAAAAEgoAwAAAIBKKAMAAACASigDAAAAgEooAwAAAIBK\n",
       "KAMAAACASigDAAAAgEooAwAAAIBKKAMAAACASigDAAAAgEooAwAAAIBKKAMAAACASigDAAAAgEoo\n",
       "AwAAAIBKKAMAAACASigDAAAAgEooAwAAAIBKKAMAAACAqtZqsb3TR7CaNv7N+uje+r/YGN1bNU/+\n",
       "qzNG907/lz8Y3Xv0uvPHtg5vLP+zcfZN9w9csjtN/FuedeODA5ccc8vL/tHY1ul7N8e2qn7pvt8b\n",
       "3Zvwh6/8h2NbT2zOPqvf8F9/d2zrIy9+69hW1bu/+cnRPY6/R669aHRv8nfJFy/+1bGtaav4HPv8\n",
       "P3jz6N7/2jh1bOsf/+nvjG1Vfejcty298d6HPzFwye408btk4+jc+yHT/5bXPvc3Rvduevy3RvdW\n",
       "zdVnvGN07+YffGx0j5ODN8oAAAAAIKEMAAAAACqhDAAAAAAqoQwAAAAAKqEMAAAAACqhDAAAAAAq\n",
       "oQwAAAAAKqEMAAAAACqhDAAAAAAqoQwAAAAAKqEMAAAAACqhDAAAAAAqoQwAAAAAKqEMAAAAACqh\n",
       "DAAAAAAqoQwAAAAAKqEMAAAAACqhDAAAAAAqoQwAAAAAqlqrxfbk4IH3PX9yrj2nb4xtnfb+A2Nb\n",
       "VRsf3rf0xvp7NgcuOTEc/thsl937jqOje5zYpp89+z/4/dE9gKdz8AP7R/emv/cAAOwG3igDAAAA\n",
       "gIQyAAAAAKiEMgAAAACohDIAAAAAqIQyAAAAAKiEMgAAAACohDIAAAAAqIQyAAAAAKiEMgAAAACo\n",
       "hDIAAAAAqIQyAAAAAKiEMgAAAACohDIAAAAAqIQyAAAAAKiEMgAAAACohDIAAAAAqIQyAAAAAKiE\n",
       "MgAAAACohDIAAAAAqGqtFts7fcTx8vi7zh7de+5HH1l643tvP3fgkmOOHt4ztvWCTz00tvVs+P47\n",
       "fnrpje3ttYFLnnLmxx8e26r69lteNrp3zme+Nrp3snvgjZeNbR05Mve5rPq52+5ceuMLF189cMkx\n",
       "r7vv5tG9VXX7pVeO7Fxxz60jO/CjPHTVJaN7W4cXS29c8LmvDFxyzJ2vfNPY1uV3f3Zsa1VNPvt3\n",
       "y3OfZ+6GC64b3bv+gRtH9wCejjfKAAAAACChDAAAAAAqoQwAAAAAKqEMAAAAACqhDAAAAAAqoQwA\n",
       "AAAAKqEMAAAAACqhDAAAAAAqoQwAAAAAKqEMAAAAACqhDAAAAAAqoQwAAAAAKqEMAAAAACqhDAAA\n",
       "AAAqoQwAAAAAKqEMAAAAAKpa7PQBx9PGD56z0yf8kCObe0f39uw7PLq3yra315beOPW5Pxi45Nmx\n",
       "eXjfTp+wq20d2TO2tb6+ObY15cCmn68fx9bRuZ8LeLZN/J78q57zdw6M7k04uOVZ9kzsPeXITp/A\n",
       "LvAXw3/fABxv3igDAAAAgIQyAAAAAKiEMgAAAACohDIAAAAAqIQyAAAAAKiEMgAAAACohDIAAAAA\n",
       "qIQyAAAAAKiEMgAAAACohDIAAAAAqIQyAAAAAKiEMgAAAACohDIAAAAAqIQyAAAAAKiEMgAAAACo\n",
       "hDIAAAAAqIQyAAAAAKiEMgAAAACoaq0W2zt9BKvpyX91xuje6f/yB6N7q2bj36yP7q3/i43RvUeu\n",
       "vWhsa+/68reddeODA5fsThP/lmffdP/AJcf8hwv/ydjWT64fGtuqesN//d3RvQlfvPhXd/qEv9Ev\n",
       "3fd7Y1sfOvdtY1tV7334E6N7HH+PXnf+6N7k75LP/4M3j21VPWff3O/xX7j7P49tTZl+jj15eN/Y\n",
       "1lVf+49jW1UfefFbl9549zc/OXDJ7jTxu2T9lKMDlzxl+t/y6jPeMbp38w8+Nrq3aq597m+M7t30\n",
       "+G+N7nFy8EYZAAAAACSUAQAAAEAllAEAAABAJZQBAAAAQCWUAQAAAEAllAEAAABAJZQBAAAAQCWU\n",
       "AQAAAEAllAEAAABAJZQBAAAAQCWUAQAAAEAllAEAAABAJZQBAAAAQCWUAQAAAEAllAEAAABAJZQB\n",
       "AAAAQCWUAQAAAEAllAEAAABAJZQBAAAAQFVrtdje6SOOlwff9MrRvfM/e/fSGw9ddcnAJcfs27s5\n",
       "tnXOZ742tvVs+PZbXrb0xubhfQOXPOW8W+4d26r6X+/+qdG9n/zI/zu6d7L76hVXjG3tOeXo2FbV\n",
       "RV+6Y+mN6WfP9M//qpp47tTqP185Odz/2leP7h05uvz/X3357bcPXHLM1GeydsfncvLZv1ue+zxz\n",
       "q/g3F8Az4Y0yAAAAAEgoAwAAAIBKKAMAAACASigDAAAAgEooAwAAAIBKKAMAAACASigDAAAAgEoo\n",
       "AwAAAIBKKAMAAACASigDAAAAgEooAwAAAIBKKAMAAACASigDAAAAgEooAwAAAIBKKAMAAACASigD\n",
       "AAAAgEooAwAAAIBKKAMAAACASigDAAAAgKrWarG900ewmh697vzRvbNufHB0b9U8cu1Fo3tn33T/\n",
       "6N5j7zxnbGvr0PrSGy/41DcGLtmdvvaLr1l642X/15cHLjnmq1dcMbZ1aHPf2FbVK//oD0b3Jtz/\n",
       "2lePbR05Ovv/vF5+++1jWze/9Jqxraqr/+TTo3scf//l1b80uveKO744tvXff/nnx7aqnjx06tjW\n",
       "K+740tjWlHt+4XWje0eO7Bnbuuyuz49tVf3uRdcuvfHm+28auGR3+tIlVy29sbG1d+CSp7zpjz8z\n",
       "tlX1kRe/dXTv3d/85OjeqvnQuW8b3Xvvw58Y3ePk4I0yAAAAAEgoAwAAAIBKKAMAAACASigDAAAA\n",
       "gEooAwAAAIBKKAMAAACASigDAAAAgEooAwAAAIBKKAMAAACASigDAAAAgEooAwAAAIBKKAMAAACA\n",
       "SigDAAAAgEooAwAAAIBKKAMAAACASigDAAAAgEooAwAAAIBKKAMAAACAqhY7fQCr6/DG+k6fcELZ\n",
       "u76x0yf8SFuH5v49F6eu9n/ryW7ryOo9ug8OPi/27DkytrWqNrfm/g1PP/XQ2Na0o9trO30CK2ax\n",
       "Z2unT/gbbWzuG93bt1jd/9YJR4/O/v/201b4e9Qpa9s7fcKutrG1d+mN9cXhgUueHRvDn6WT3fop\n",
       "R3f6BHYBn0oAAAAASCgDAAAAgEooAwAAAIBKKAMAAACASigDAAAAgEooAwAAAIBKKAMAAACASigD\n",
       "AAAAgEooAwAAAIBKKAMAAACASigDAAAAgEooAwAAAIBKKAMAAACASigDAAAAgEooAwAAAIBKKAMA\n",
       "AACAqtZqsb3TRwC7z9bNPzG6t7j6L0b3OHk8et35Y1tn3fjg2NaqevxdZ49tPfejj4xtVX350iuX\n",
       "3ti32Bq45JhX3fW50T3460x9Lqc/k6tq8rlfM8/+u171xoFLjtncWoxtveaeW8e2doMH3/TK0b3z\n",
       "P3v36N6HX3T92NZP7Du89Mb1D9y4/CHPohsuuG5s6y82945tVb3nWzcsvfHPX/AbA5cc8++++1uj\n",
       "e6vKG2UAAAAAkFAGAAAAAJVQBgAAAACVUAYAAAAAlVAGAAAAAJVQBgAAAACVUAYAAAAAlVAGAAAA\n",
       "AJVQBgAAAACVUAYAAAAAlVAGAAAAAJVQBgAAAACVUAYAAAAAlVAGAAAAAJVQBgAAAACVUAYAAAAA\n",
       "lVAGAAAAAJVQBgAAAACVUAYAAAAAVa3VYnty8KErL5mca2NjfWzr5267c2yr6uAH9i+9cdr7Dwxc\n",
       "cmI48L7nj+7t/+D3R/c4sW39/vNG9xa/8tjoHsDT2brp1NG9xbWHRvcAAHYDb5QBAAAAQEIZAAAA\n",
       "AFRCGQAAAABUQhkAAAAAVEIZAAAAAFRCGQAAAABUQhkAAAAAVEIZAAAAAFRCGQAAAABUQhkAAAAA\n",
       "VEIZAAAAAFRCGQAAAABUQhkAAAAAVEIZAAAAAFRCGQAAAABUQhkAAAAAVEIZAAAAAFRCGQAAAABU\n",
       "QhkAAAAAVLVWi+2dPuJ4+fKlV47uveaeW5fe+M41Fw1ccswTf7l/bOuCz31lbOvZ8MAbL1t6Y+vI\n",
       "noFLnnLhbXeObVV99YorRvdefvvto3snu8feec7Y1uEnTx3bqnrhv//60hvTz56/++n7R/dW1cRz\n",
       "p1b/+crJ4c//6c+M7h0+tL70xk/d9N8GLjlm6jNZu+Nz+aevv3xsa/p7DyePVfybC+CZ8EYZAAAA\n",
       "ACSUAQAAAEAllAEAAABAJZQBAAAAQCWUAQAAAEAllAEAAABAJZQBAAAAQCWUAQAAAEAllAEAAABA\n",
       "JZQBAAAAQCWUAQAAAEAllAEAAABAJZQBAAAAQCWUAQAAAEAllAEAAABAJZQBAAAAQCWUAQAAAEAl\n",
       "lAEAAABAVYudPuB42rfY2ukTfsihg6eN7i32rt5/47PlyJE9S2+sr28OXPLs2HPK0Z0+YVc7/OSp\n",
       "Y1uL9cNjW1Omnz27xW56xnLiO7yxPrq399SN0b0JE98FdpNV/t7DyWMV/+YCeCa8UQYAAAAACWUA\n",
       "AAAAUAllAAAAAFAJZQAAAABQCWUAAAAAUAllAAAAAFAJZQAAAABQCWUAAAAAUAllAAAAAFAJZQAA\n",
       "AABQCWUAAAAAUAllAAAAAFAJZQAAAABQCWUAAAAAUAllAAAAAFAJZQAAAABQCWUAAAAAUAllAAAA\n",
       "AFAJZQAAAABQ1Vottnf6CFbTo9edP7p31o0Pju6tmkeuvWh07+yb7h/d+9ovvmZsa+vIYumNV9zx\n",
       "xYFLdqfH3nnO0hvP+7ffHrjkmK9eccXY1vq+zbGtqp/9gz8a3Ztw/2tfPbZ1cHPf2FbVpX/4hbGt\n",
       "L11y1dhW1WvvvWV0j+Pvu7/+ktG9F3zqG2Nbd//8L49tVe1dbI1tveKOL41tTZl87lcd3Fgf27rs\n",
       "rs+PbVV99u+/ZemNN/3xZwYu2Z1ufuk1S28c3V4buOQpb77/prGtqo+8+K2je+/+5idH91bNh859\n",
       "2+jeex/+xOgeJwdvlAEAAABAQhkAAAAAVEIZAAAAAFRCGQAAAABUQhkAAAAAVEIZAAAAAFRCGQAA\n",
       "AABUQhkAAAAAVEIZAAAAAFRCGQAAAABUQhkAAAAAVEIZAAAAAFRCGQAAAABUQhkAAAAAVEIZAAAA\n",
       "AFRCGQAAAABUtVaL7Z0+4nj58IuuH917z7duWHrjy5deOXDJMYeP7hnbet19N49tPRu+cPHVS28c\n",
       "2Nw3cMlTfu1PPj22VfXQVZeM7p13y72jeye771xz0djWoYOnjW1VveTWe5beOPCbZw5ccsz+f/29\n",
       "0b1V9b23nzuyc+bHHx7ZgR/lG1deOrq3sbH878wLb7tz4JJjpj6TtTs+l3/+z35mbOuFv/31sS1O\n",
       "Lo9ed/7o3lk3Pji6B/B0vFEGAAAAAAllAAAAAFAJZQAAAABQCWUAAAAAUAllAAAAAFAJZQAAAABQ\n",
       "CWUAAAAAUAllAAAAAFAJZQAAAABQCWUAAAAAUAllAAAAAFAJZQAAAABQCWUAAAAAUAllAAAAAFAJ\n",
       "ZQAAAABQCWUAAAAAUAllAAAAAFAJZQAAAABQCWUAAAAAUNVaLbZ3+ghW0y0v+0eje1d97T+O7q2a\n",
       "/3DhPxnd+8d/+juje1+94oqxrYMb60tvXHbX5wcu2Z0m/i1ffvvtA5cc8/+97cVjW088dsbYVtX/\n",
       "8btfHd2b8M2rLhnb2tzcO7ZV9fc+f9fY1uRzp+Z/bjn+vvKqN4zuTf4u+X/e/PKxraq/PLB/bOvC\n",
       "2+4c25ryP97wqtG9ra3F2Nb/+cX/e2yrZn5ufe/58U38Lpn47vq/Tf9b+pvrmVn1v7k4OXijDAAA\n",
       "AAASygAAAACgEsoAAAAAoBLKAAAAAKASygAAAACgEsoAAAAAoBLKAAAAAKASygAAAACgEsoAAAAA\n",
       "oBLKAAAAAKASygAAAACgEsoAAAAAoBLKAAAAAKASygAAAACgEsoAAAAAoBLKAAAAAKASygAAAACg\n",
       "EsoAAAAAoKrFTh/A6jp97+ZOn3BC+cn1Qzt9wo90aHPf2NaePUfGtnjm1vet3mfzicfOGNvabm1s\n",
       "a1Vtbu4d29qz5+jY1rRV/FllZ522vrHTJ/yNDhzYP7p3ytr26N6q2dqa/TNisdga3Zu0yj+3u8HE\n",
       "d9hV/u7qb65nZtX/5uLk4I0yAAAAAEgoAwAAAIBKKAMAAACASigDAAAAgEooAwAAAIBKKAMAAACA\n",
       "SigDAAAAgEooAwAAAIBKKAMAAACASigDAAAAgEooAwAAAIBKKAMAAACASigDAAAAgEooAwAAAIBK\n",
       "KAMAAACASigDAAAAgEooAwAAAIBKKAMAAACASigDAAAAgKrWarG900cAu8+j150/unfWjQ+O7nHy\n",
       "OPCbZ45t7f/X3xvbWlXfe/u5Y1tnfvzhsa2q71xz0dIbhw6eNnDJMS+59Z7RPfjrTH0upz+Tq+rP\n",
       "/9nPjO698Le/vvTGN668dOCSYzY29o1tXXjbnWNbu8FDV10yunfeLfeO7n350ivHtg4f3bP0xuvu\n",
       "u3ngkmfPFy6+emzrwObc57Lq1/7k00tvfPhF1w9ccsx7vnXD6N6q8kYZAAAAACSUAQAAAEAllAEA\n",
       "AABAJZQBAAAAQCWUAQAAAEAllAEAAABAJZQBAAAAQCWUAQAAAEAllAEAAABAJZQBAAAAQCWUAQAA\n",
       "AEAllAEAAABAJZQBAAAAQCWUAQAAAEAllAEAAABAJZQBAAAAQCWUAQAAAEAllAEAAABAVWu12N7p\n",
       "I46XGy64bnTv+gduXHrjCxdfvfwhf8Vpi82xrcvv/uzY1rPh9kuvXHpj6+iegUue8rr7bh7bqvr2\n",
       "W142unfOZ742uneye+CNl41tLfZujW1VnXfLvUtvfO/t5w5ccsyZH394dG9Vff8dPz2y8/yP/c+R\n",
       "HfhR/uz1l4/u7dlzZOmNCz73lYFLjvnur583tvWCTz00trWqJp/9u+W5zzP3+LvOHt177kcfGd0D\n",
       "eDreKAMAAACAhDIAAAAAqIQyAAAAAKiEMgAAAACohDIAAAAAqIQyAAAAAKiEMgAAAACohDIAAAAA\n",
       "qIQyAAAAAKiEMgAAAACohDIAAAAAqIQyAAAAAKiEMgAAAACohDIAAAAAqIQyAAAAAKiEMgAAAACo\n",
       "hDIAAAAAqGqtFts7fQSr6Q9f+Q9H937h7v88urdqvnjxr47u/dJ9vze6d/9rXz22tbm1WHrjFXd8\n",
       "aeCS3Wni3/KiL90xcMkx37zqkrGtzc29Y1tVf+/zd43uTXjgjZeNbR09Ovv/vH72D/5obGvyuVPz\n",
       "P7ccf//l1a8d3Zv8XfI/3vCqsa2qzcNzz7KXruDP/n//5Z8f3Tu6vTa2deFtd45t1czPre89P76J\n",
       "3yUT313/t+l/S39zPTOr/jcXJwdvlAEAAABAQhkAAAAAVEIZAAAAAFRCGQAAAABUQhkAAAAAVEIZ\n",
       "AAAAAFRCGQAAAABUQhkAAAAAVEIZAAAAAFRCGQAAAABUQhkAAAAAVEIZAAAAAFRCGQAAAABUQhkA\n",
       "AAAAVEIZAAAAAFRCGQAAAABUQhkAAAAAVEIZAAAAAFS12OkDWF1PbK7v9AkMOnJ0rouffuqhsS2e\n",
       "uYOb+3b6hB+yubl3bGvPnqNjW6vq6OTn8TlPjm1NW8WfVXbW4a3V/eq5NXzbvr2HR/dWzfb22uje\n",
       "39l/YHRv0ir/3O4GE99hV/m7q7+5YPV4owwAAAAAEsoAAAAAoBLKAAAAAKASygAAAACgEsoAAAAA\n",
       "oBLKAAAAAKASygAAAACgEsoAAAAAoBLKAAAAAKASygAAAACgEsoAAAAAoBLKAAAAAKASygAAAACg\n",
       "EsoAAAAAoBLKAAAAAKASygAAAACgEsoAAAAAoBLKAAAAAKASygAAAACgqrVabO/0EcDu8/i7zh7d\n",
       "e+5HHxnd4+TxvbefO7Z15scfHttaVd9/x0+PbT3/Y/9zbKvqgTdetvTGYu/WwCXHnHfLvaN78Nf5\n",
       "7q+fN7Lzgk89NLKz6iaf+zXz7P+z118+cMkxe/YcGdu64HNfGdvaDb79lpeN7p3zma+N7n3h4qvH\n",
       "tk5bbC69cfndnx245Nlz+6VXjm1tHd0ztlX1uvtuXnrjhguuW/6Qv+L6B24c3VtV3igDAAAAgIQy\n",
       "AAAAAKiEMgAAAACohDIAAAAAqIQyAAAAAKiEMgAAAACohDIAAAAAqIQyAAAAAKiEMgAAAACohDIA\n",
       "AAAAqIQyAAAAAKiEMgAAAACohDIAAAAAqIQyAAAAAKiEMgAAAACohDIAAAAAqIQyAAAAAKiEMgAA\n",
       "AACoaq0W2zt9BKvpIy9+6+jeu7/5ydG9VfOhc982uvfehz8xunfzS68Z2zq6vbb0xpvvv2ngkt3p\n",
       "S5dctfTGa++9ZeCSY756xRVjW+v7Nse2qn72D/5odG/C/a999djWwc19Y1tVl/7hF8a2HnvnOWNb\n",
       "Vc/7t98e3eP4++zff8vo3pv++DNjW3f//C+PbVXtXWyNbb3iji+NbU2ZfO5XHdxYH9u67K7Pj21V\n",
       "fffXX7L0xgs+9Y2BS3anr/3ia5be2DqyGLjkKa+444tjW1WPXnf+6N5ZNz44urdqHrn2otG9s2+6\n",
       "f3SPk4M3ygAAAAAgoQwAAAAAKqEMAAAAACqhDAAAAAAqoQwAAAAAKqEMAAAAACqhDAAAAAAqoQwA\n",
       "AAAAKqEMAAAAACqhDAAAAAAqoQwAAAAAKqEMAAAAACqhDAAAAAAqoQwAAAAAKqEMAAAAACqhDAAA\n",
       "AAAqoQwAAAAAKqEMAAAAACqhDAAAAACqWqvF9k4fAew+X770ytG919xz6+geJ4/vXHPR2Nbf/fT9\n",
       "Y1ur6oE3Xja2dcHnvjK2VfXYO89ZeuPwk6cOXHLMC//910f34K8z9bmc/kyuqj99/eWjexfedufS\n",
       "G3/+T39m4JJjDh9aH9v6qZv+29jWbvDVK8W8IM4AACAASURBVK4Y3Xv57beP7k1+73niL/cvvbHq\n",
       "z53J7z1bR/aMbdXMs8ffXD8eb5QBAAAAQEIZAAAAAFRCGQAAAABUQhkAAAAAVEIZAAAAAFRCGQAA\n",
       "AABUQhkAAAAAVEIZAAAAAFRCGQAAAABUQhkAAAAAVEIZAAAAAFRCGQAAAABUQhkAAAAAVEIZAAAA\n",
       "AFRCGQAAAABUQhkAAAAAVLXY6QOA3WnfYmunT2CXOHTwtJ0+4YSy2Lu6n83DT5669MZi/fDAJXB8\n",
       "HTmyZ6dPOKGsr2/u9Ak/5PDG+uje3lM3Rvf429tzytGdPuFHmvzes8rfCaZMPl9X8dnjb64fjzfK\n",
       "AAAAACChDAAAAAAqoQwAAAAAKqEMAAAAACqhDAAAAAAqoQwAAAAAKqEMAAAAACqhDAAAAAAqoQwA\n",
       "AAAAKqEMAAAAACqhDAAAAAAqoQwAAAAAKqEMAAAAACqhDAAAAAAqoQwAAAAAKqEMAAAAACqhDAAA\n",
       "AAAqoQwAAAAAKqEMAAAAAKpaq8X2Th8BAHAi2vr9541tLX7lsbEtgL+trZtOHd1bXHtodI8T28EP\n",
       "7B/dO+39B0b3VtmB9z1/6Y39H/z+wCXHPHTlJWNbGxvrY1tVP3fbnWNb3igDAAAAgIQyAAAAAKiE\n",
       "MgAAAACohDIAAAAAqIQyAAAAAKiEMgAAAACohDIAAAAAqIQyAAAAAKiEMgAAAACohDIAAAAAqIQy\n",
       "AAAAAKiEMgAAAACohDIAAAAAqIQyAAAAAKiEMgAAAACohDIAAAAAqIQyAAAAAKiEMgAAAACoaq0W\n",
       "25ODf/b6yyfnWl/fGNs679Z7x7aqDrzv+Utv7P/g9wcuOTEc/MD+0b3T3n9gdI8T29ZNp47uLa49\n",
       "NLoH8HS2fv95o3uLX3lsdA8AYDfwRhkAAAAAJJQBAAAAQCWUAQAAAEAllAEAAABAJZQBAAAAQCWU\n",
       "AQAAAEAllAEAAABAJZTx/7drfz+eH/R975/jnZ3x2htSwAJfxOXEYGJaWgeS2pZjQMYHzA/n2HFB\n",
       "xVUv3AZTSCTEBSpKFKmqFKWi4gIhNVAMqS+qmAri2D38MDiG1hi0NkmIm1AMBudwfC4chOOELvbO\n",
       "7MzOuaDRUAUIzvftne/uPB5/wEtv2O/3M9/v018AAAAAKqEMAAAAACqhDAAAAAAqoQwAAAAAKqEM\n",
       "AAAAACqhDAAAAAAqoQwAAAAAKqEMAAAAACqhDAAAAAAqoQwAAAAAKqEMAAAAACqhDAAAAACqWqnV\n",
       "nb0+4mS55/LXju5dfs/HFt746jWXDlyya3NjbWzrhXfcPbb1VHjw2ksW3tjZWRm45Luef/uRsa2q\n",
       "+19xxejeRXd+ZnTvdPdn//ynxraOb6yPbVX9xG//94U3pp8906//ZfUnr3rpyM6yP185PTz65vNH\n",
       "97Y2Di688ez/+JWBS3ZNfBb4Kxfcdu/Y1rKafPbvl+c+T94yfucCeDL8ogwAAAAAEsoAAAAAoBLK\n",
       "AAAAAKASygAAAACgEsoAAAAAoBLKAAAAAKASygAAAACgEsoAAAAAoBLKAAAAAKASygAAAACgEsoA\n",
       "AAAAoBLKAAAAAKASygAAAACgEsoAAAAAoBLKAAAAAKASygAAAACgEsoAAAAAoBLKAAAAAKASygAA\n",
       "AACgqtW9PuBk2txavv+5Gxtro3urB7ZH95bZ1vHF/z3P/rGjA5c8NbZP6Nh76fix9bGtg2dujG1N\n",
       "mX727BcH9tEzllPf1sbB0b2DZx0b3Zsw8VlgPznz0BN7fQL7wDJ+5wJ4MnwTBwAAAICEMgAAAACo\n",
       "hDIAAAAAqIQyAAAAAKiEMgAAAACohDIAAAAAqIQyAAAAAKiEMgAAAACohDIAAAAAqIQyAAAAAKiE\n",
       "MgAAAACohDIAAAAAqIQyAAAAAKiEMgAAAACohDIAAAAAqIQyAAAAAKhqpVZ39voIltPD1180unfe\n",
       "LfeP7i2bR264cHTv3JsfGN37whWvHNtaPbC18MaLfu/TA5fsT9/8xecvvPGsD3514JJdn7v8NWNb\n",
       "h9Y3xraqXnzXXaN7E75wxSvGto5vrY5tVV322U+MbX30Z14/tlV19R98eHSPk+/Pf/k5o3vP+Pff\n",
       "GNs68rKrxraqDq1tjm1ddOdnxramfOnVLxnd29hcG9uafu7fecm1C2+84t7bBi7Znz5y0fULb5yx\n",
       "MveV97o/+tDYVtU7z3/T6N47Hnr/6N6yeffz3ji697avfWB0j9ODX5QBAAAAQEIZAAAAAFRCGQAA\n",
       "AABUQhkAAAAAVEIZAAAAAFRCGQAAAABUQhkAAAAAVEIZAAAAAFRCGQAAAABUQhkAAAAAVEIZAAAA\n",
       "AFRCGQAAAABUQhkAAAAAVEIZAAAAAFRCGQAAAABUQhkAAAAAVEIZAAAAAFRCGQAAAABUQhkAAAAA\n",
       "VLVSqzt7fcTJctMLbhjdu/HLNy+88cmLr1v8kO+xesb22NaVR24f23oq3H3Z1QtvPLG1NnDJd111\n",
       "361jW1XfeP2LRvee8+Evju6d7r782p8b29rePjC2VfXCO+5eeONbbz5/4JJd57zvodG9ZfXNX7xg\n",
       "ZOdZH3xwZAd+mAevvWR0b+v46sIbL/jY5wYu2fXoW35ybOuZ7/3Tsa1lNfns3y/PfZ68x9563uje\n",
       "09/z8OgewN/EL8oAAAAAIKEMAAAAACqhDAAAAAAqoQwAAAAAKqEMAAAAACqhDAAAAAAqoQwAAAAA\n",
       "KqEMAAAAACqhDAAAAAAqoQwAAAAAKqEMAAAAACqhDAAAAAAqoQwAAAAAKqEMAAAAACqhDAAAAAAq\n",
       "oQwAAAAAKqEMAAAAACqhDAAAAACqWqnVnb0+guX0qYt/YXTvlff97ujesvn4z75udO81v/+R0b0v\n",
       "vfolY1sbm2sLb7z4rrsGLtmfPv+SVy+8cdlnPzFwya7/53UvHts6evTw2FbVC++4e3Rvwv94zeVj\n",
       "W1tbq2NbVf/wU/91bGvitfq9pl+3nHxHXnbV6N6l/+2TY1t/+rqfGduqevw7Z41t/f1PfHZsa8pX\n",
       "fv6y0b3t7bn/fv/3Pn7P2FbNvG4nX6v7zcRn2InPrn9l+jOs71xPzrJ/5+L04BdlAAAAAJBQBgAA\n",
       "AACVUAYAAAAAlVAGAAAAAJVQBgAAAACVUAYAAAAAlVAGAAAAAJVQBgAAAACVUAYAAAAAlVAGAAAA\n",
       "AJVQBgAAAACVUAYAAAAAlVAGAAAAAJVQBgAAAACVUAYAAAAAlVAGAAAAAJVQBgAAAACVUAYAAAAA\n",
       "lVAGAAAAAFWt7vUBcLo4e21jr0/4oR4/dubY1trq1tgWT97BJfz//38ePTy2dcbKztjWsto8fnBs\n",
       "a+3g8bGtacv4WmVvHVrb3OsTfqDHv3PW6N4ZZ5wY3Vs229uz/719bW15n2XL/LrdDyY+w/rsevpY\n",
       "9u9cnB78ogwAAAAAEsoAAAAAoBLKAAAAAKASygAAAACgEsoAAAAAoBLKAAAAAKASygAAAACgEsoA\n",
       "AAAAoBLKAAAAAKASygAAAACgEsoAAAAAoBLKAAAAAKASygAAAACgEsoAAAAAoBLKAAAAAKASygAA\n",
       "AACgEsoAAAAAoBLKAAAAAKCqlVrd2esjgP3nsbeeN7r39Pc8PLrH6eNbbz5/bOuc9z00trWsvvmL\n",
       "F4xtPeuDD45tVX35tT+38Mb29oGBS3a98I67R/fg+3n0LT85svPM9/7pyM6ym3zu18yz/8FrLxm4\n",
       "ZNfW8dWxrRd87HNjW/vBN17/otG953z4i6N7n7z4urGt1TO2F9648sjtA5c8de6+7OqxrSe21sa2\n",
       "qq6679aFN256wQ2LH/I9bvzyzaN7y8ovygAAAAAgoQwAAAAAKqEMAAAAACqhDAAAAAAqoQwAAAAA\n",
       "KqEMAAAAACqhDAAAAAAqoQwAAAAAKqEMAAAAACqhDAAAAAAqoQwAAAAAKqEMAAAAACqhDAAAAAAq\n",
       "oQwAAAAAKqEMAAAAACqhDAAAAAAqoQwAAAAAqlqp1Z29PuJkeddzbxzde/vXb1p443d++g0Dl+w6\n",
       "vLY5tnXVfbeObT0VPnnxdQtvHDxje+CS73r5kdvHtqoevPaS0b0Lbrt3dO9098eveunY1vr63Puy\n",
       "6vm3H1l448/+xU8NXLLr2b/1ldG9ZfWtN58/snPO+x4a2YEf5qvXXDq6d+ahJxbe+Lsfun/gkl1T\n",
       "78naH+/Lo79yztjW4X/7rbEtTi+P3HDh6N65Nz8wugfwN/GLMgAAAABIKAMAAACASigDAAAAgEoo\n",
       "AwAAAIBKKAMAAACASigDAAAAgEooAwAAAIBKKAMAAACASigDAAAAgEooAwAAAIBKKAMAAACASigD\n",
       "AAAAgEooAwAAAIBKKAMAAACASigDAAAAgEooAwAAAIBKKAMAAACASigDAAAAgKpWanVnr49gOX38\n",
       "Z183uvea3//I6N6y+dTFvzC698r7fnd078jLrhrbOnFi8cZ+2Wc/MXDJ/vSHV1658MaL77pr4JJd\n",
       "/+M1l49tbW2tjm1V/cNP/dfRvQlfevVLxrZ2dlbGtqpeeMfdY1sTr9XvNf265eSbfO1X/f1PfHZs\n",
       "6ys/f9nYVtX29tx/j/57H79nbGvKn77uZ0b3Vpr7SvJ/fOQPx7Zq5nU7+VrdbyY+w058dv0r059h\n",
       "fed6cpb9OxenB78oAwAAAICEMgAAAACohDIAAAAAqIQyAAAAAKiEMgAAAACohDIAAAAAqIQyAAAA\n",
       "AKiEMgAAAACohDIAAAAAqIQyAAAAAKiEMgAAAACohDIAAAAAqIQyAAAAAKiEMgAAAACohDIAAAAA\n",
       "qIQyAAAAAKiEMgAAAACohDIAAAAAqIQyAAAAAKhqda8PYHn9xcaZe33CKeXx42t7fcIPtb19YGzr\n",
       "0PrG2BZP3hMb63t9wl+ztTX352R1dWtsa1md2FkZ2/qxw0fHtqYt42uVvbWxubx/K7e3Z//78dra\n",
       "8dG9ZbPSzuje2c/49ujepGV+3e4HE59hl/mzq+9cT86yf+fi9OAXZQAAAACQUAYAAAAAlVAGAAAA\n",
       "AJVQBgAAAACVUAYAAAAAlVAGAAAAAJVQBgAAAACVUAYAAAAAlVAGAAAAAJVQBgAAAACVUAYAAAAA\n",
       "lVAGAAAAAJVQBgAAAACVUAYAAAAAlVAGAAAAAJVQBgAAAACVUAYAAAAAlVAGAAAAAFWt1OrOXh8B\n",
       "7D+P3HDh6N65Nz8wusfp48/+xU+NbT37t74ytrWsvvXm88e2znnfQ2NbVX/8qpcuvLG+vjlwya7n\n",
       "335kdA++n6n35fR7clkd/ZVzRvcO/9tvLbzx1WsuHbhk15mHnhjb+rsfun9saz948NpLRvcuuO3e\n",
       "0b3f+ek3jG0dXlv8b+ZV9906cMlT55MXXze2dfCM7bGtqpcfuX3hjXc998aBS3a9/es3je4tK78o\n",
       "AwAAAICEMgAAAACohDIAAAAAqIQyAAAAAKiEMgAAAACohDIAAAAAqIQyAAAAAKiEMgAAAACohDIA\n",
       "AAAAqIQyAAAAAKiEMgAAAACohDIAAAAAqIQyAAAAAKiEMgAAAACohDIAAAAAqIQyAAAAAKiEMgAA\n",
       "AACohDIAAAAAqIQyAAAAAKhqpVZ39voIltM7z3/T6N47Hnr/6N6yeffz3ji697avfWB07yMXXT+2\n",
       "dcbK4o+N6/7oQwOX7E8f/ZnXL7xx9R98eOCSXZ+7/DVjW4fWN8a2ql58112jexO+cMUrxraOb62O\n",
       "bVVd9tlPjG198xefP7ZV9awPfnV0j5PvzkuuHd17xb23jW0dedlVY1tVh9Y2x7YuuvMzY1tTvvTq\n",
       "l4zubWyujW1NP/f//Jefs/DGM/79NwYu2Z++cMUrF95YPbA1cMl3vej3Pj22VfXw9ReN7p13y/2j\n",
       "e8vmkRsuHN079+YHRvc4PfhFGQAAAAAklAEAAABAJZQBAAAAQCWUAQAAAEAllAEAAABAJZQBAAAA\n",
       "QCWUAQAAAEAllAEAAABAJZQBAAAAQCWUAQAAAEAllAEAAABAJZQBAAAAQCWUAQAAAEAllAEAAABA\n",
       "JZQBAAAAQCWUAQAAAEBVK7W6s9dHAPvPPZe/dnTv8ns+NrrH6eOr11w6tvX824+MbS2rP3nVS8e2\n",
       "XnjH3WNbVX/2z39q4Y3jG+sDl+z6id/+76N78P08eO0lIzsX3HbvyM6ym3zu18yz/9E3nz9wya6t\n",
       "jYNjW8/+j18Z29oP7n/FFaN7F935mdG9ydf/5sbawhvTnwWmTT1fq3Z2Vsa2aubZ4zvX345flAEA\n",
       "AABAQhkAAAAAVEIZAAAAAFRCGQAAAABUQhkAAAAAVEIZAAAAAFRCGQAAAABUQhkAAAAAVEIZAAAA\n",
       "AFRCGQAAAABUQhkAAAAAVEIZAAAAAFRCGQAAAABUQhkAAAAAVEIZAAAAAFRCGQAAAABUQhkAAAAA\n",
       "VEIZAAAAAFRCGQAAAABUtbrXBwD70+aWxw8nx8bG2l6fcEo5cGB7r0/4gY4fW1944+CZGwOXwMm1\n",
       "ddzfzCfjzENP7PUJf83WxsHRvYNnHRvd40e3fWK5f2sy+blndYk/E0yZfL6e/WNHx7am+M71t7Pc\n",
       "73IAAAAAOEmEMgAAAABIKAMAAACASigDAAAAgEooAwAAAIBKKAMAAACASigDAAAAgEooAwAAAIBK\n",
       "KAMAAACASigDAAAAgEooAwAAAIBKKAMAAACASigDAAAAgEooAwAAAIBKKAMAAACASigDAAAAgEoo\n",
       "AwAAAIBKKAMAAACAqlZqdWevjwAAOBVt3XLm2Nbq9cfGtgB+VFv/5Rmje6v/15+P7nFqO/qrzxzd\n",
       "O/wbj47uLbMnfv3wwhuHfu3owCW7/uRVLx3bWl/fGNuquuD2e8e2/KIMAAAAABLKAAAAAKASygAA\n",
       "AACgEsoAAAAAoBLKAAAAAKASygAAAACgEsoAAAAAoBLKAAAAAKASygAAAACgEsoAAAAAoBLKAAAA\n",
       "AKASygAAAACgEsoAAAAAoBLKAAAAAKASygAAAACgEsoAAAAAoBLKAAAAAKASygAAAACgEsoAAAAA\n",
       "oKqVWt3Z6yNOln/5rF8a3fsP3/zNhTfe9dwbBy7Z9eNrx8e2bvzyzWNbT4WbXnDDwht/uXlw8UP+\n",
       "l7d//aaxraoHrr5sdO/Cj35+dO909+lLrxnbWlvdGtuquvyejy288cgNFw5csuvcmx8Y3VtWj731\n",
       "vJGdp7/n4ZEd+GHuufy1o3ubW6sLb7z8yO0Dl+yaek/W/nhfTj7798tznydv69YfH91bve4vR/cA\n",
       "/iZ+UQYAAAAACWUAAAAAUAllAAAAAFAJZQAAAABQCWUAAAAAUAllAAAAAFAJZQAAAABQCWUAAAAA\n",
       "UAllAAAAAFAJZQAAAABQCWUAAAAAUAllAAAAAFAJZQAAAABQCWUAAAAAUAllAAAAAFAJZQAAAABQ\n",
       "CWUAAAAAUAllAAAAAFAJZQAAAABQ1Uqt7uz1ESyndz/vjaN7b/vaB0b3ls07z3/T6N47Hnr/6N6d\n",
       "l1w7trWxdXDhjav/4MMDl+xPt/70GxbeuO6PPjRwya4/vPLKsa1jm2tjW1WXffYTo3sT7n/FFWNb\n",
       "2ydm/5vXi++6a2zri//ny8e2ql70e58e3ePk+8hF14/uve7+W8a2vvTql4xtVT1+7MyxrX/0mTvH\n",
       "tqYcedlVo3vb2wfGtn7uno+PbVV94YpXLrzxjz7zqYFL9qc//+XnLLyxdWx94JLvetYHvzq2VfXI\n",
       "DReO7p178wOje8vm4esvGt0775b7R/c4PfhFGQAAAAAklAEAAABAJZQBAAAAQCWUAQAAAEAllAEA\n",
       "AABAJZQBAAAAQCWUAQAAAEAllAEAAABAJZQBAAAAQCWUAQAAAEAllAEAAABAJZQBAAAAQCWUAQAA\n",
       "AEAllAEAAABAJZQBAAAAQCWUAQAAAEBVq3t9AMtr44SO+mSsn3Fir0/4oTa2Do5tra8eH9viyTux\n",
       "s7LXJ/w1T2ysj20dOLA9trWsNrfm/vyedeaxsa1pW9s+ZvC/O2NlZ69P+IE2NtdG99ZWt0b3ls2J\n",
       "4c+Jh9Y3RvcmrR44vf8tl93WscU/Y6yeubyvr+ODn6H2g4NL/Kzg9KGEAAAAAEBCGQAAAABUQhkA\n",
       "AAAAVEIZAAAAAFRCGQAAAABUQhkAAAAAVEIZAAAAAFRCGQAAAABUQhkAAAAAVEIZAAAAAFRCGQAA\n",
       "AABUQhkAAAAAVEIZAAAAAFRCGQAAAABUQhkAAAAAVEIZAAAAAFRCGQAAAABUQhkAAAAAVLVSqzt7\n",
       "fQSw/zxw9WWjexd+9POje5w+Hrz2krGtC267d2xrWX3j9S8a23rOh784tlX1h1deufDGgTNODFyy\n",
       "66I7PzO6B9/P1Pty+j25rCaf+zXz7L//FVcMXLJr+8Tc7x1efNddY1v7wV+87SdG9/7Ou/+/0b3J\n",
       "1//awc2FN5b9uTP5uWfz+NrYVs08e3zn+tvxizIAAAAASCgDAAAAgEooAwAAAIBKKAMAAACASigD\n",
       "AAAAgEooAwAAAIBKKAMAAACASigDAAAAgEooAwAAAIBKKAMAAACASigDAAAAgEooAwAAAIBKKAMA\n",
       "AACASigDAAAAgEooAwAAAIBKKAMAAACASigDAAAAgEooAwAAAIBKKAMAAACAqlZqdWevj2A5Xf/0\n",
       "Xxrdu+Wx3xzdWzbXPe0to3u3fvu9o3vvft4bx7Y2Tize2N/x0PsHLtmfJv4t3/a1Dwxcsuu2F/2T\n",
       "sa2zDm6ObVW98r7fHd2b8N8u+/mxre9sro9tVb3m9z8ytvXIDReObVWde/MDo3ucfO88/02je5N/\n",
       "Sz518S+MbU1bxufYx3/2daN7f7Fx5tjWP/3j/zS2VfXw9RctvHHeLfcPXLI/TfwtOb4x97dy+t9y\n",
       "49/N/h1f/1cbo3vL5vF/87TRvbP+9bdH9zg9+EUZAAAAACSUAQAAAEAllAEAAABAJZQBAAAAQCWU\n",
       "AQAAAEAllAEAAABAJZQBAAAAQCWUAQAAAEAllAEAAABAJZQBAAAAQCWUAQAAAEAllAEAAABAJZQB\n",
       "AAAAQCWUAQAAAEAllAEAAABAJZQBAAAAQCWUAQAAAEAllAEAAABAJZQBAAAAQFUrtbqz10cA+8+7\n",
       "nnvj6N7bv37T6B6nj09fes3Y1suP3D62taw+efF1Y1tX3Xfr2FbV//uGixbeOPbEoYFLdj3/9iOj\n",
       "e/D9TL0vp9+Ty+p3fvoNo3v/+I8+tPDGV6+5dOCSXRsba2Nb/+COu8e29oMHr71kdO+C2+4d3Tv6\n",
       "K+eMbR177GkLb5zzvocGLnnqfOvN549tbW8eHNuqevZvfWXhjUduuHDgkl3n3vzA6N6y8osyAAAA\n",
       "AEgoAwAAAIBKKAMAAACASigDAAAAgEooAwAAAIBKKAMAAACASigDAAAAgEooAwAAAIBKKAMAAACA\n",
       "SigDAAAAgEooAwAAAIBKKAMAAACASigDAAAAgEooAwAAAIBKKAMAAACASigDAAAAgEooAwAAAIBK\n",
       "KAMAAACAqlb3+gBgf/rxteN7fQL7xPETB/b6hFPKodXNvT7hB/rO/zy88Mbqwa2BS+DkWj1je69P\n",
       "OKUcXlu+59jmxtro3uoBr4m9snZw+V5f3+vYY08b21pZ2RnbWlYnjs99TjywhN9v1p/2nb0+4ZTk\n",
       "F2UAAAAAkFAGAAAAAJVQBgAAAACVUAYAAAAAlVAGAAAAAJVQBgAAAACVUAYAAAAAlVAGAAAAAJVQ\n",
       "BgAAAACVUAYAAAAAlVAGAAAAAJVQBgAAAACVUAYAAAAAlVAGAAAAAJVQBgAAAACVUAYAAAAAVa3U\n",
       "6s5eHwEAcCp64tcPj20d+rWjY1sAP6qjv/rM0b3Dv/Ho6B6ntuPvnf1tzsG3nBjdW2Yb71pbeGP9\n",
       "7ZsDl+ya/Nyz/fj62FbNPnv8ogwAAAAAEsoAAAAAoBLKAAAAAKASygAAAACgEsoAAAAAoBLKAAAA\n",
       "AKASygAAAACgEsoAAAAAoBLKAAAAAKASygAAAACgEsoAAAAAoBLKAAAAAKASygAAAACgEsoAAAAA\n",
       "oBLKAAAAAKASygAAAACgEsoAAAAAoBLKAAAAAKASygAAAACgqpVa3dnrI1hO1z3tLaN7t377vaN7\n",
       "y+b6p//S6N4tj/3m6N47z3/T2Nb6GScW3njb1z4wcMn+NPFv+Y6H3j9wya7f/gf/bGzr76wfG9uq\n",
       "es3vf2R0b8KnLv6FvT7hB3rlfb87tvXw9ReNbVWdd8v9o3ucfO9+3htH9yb/lnz8Z183tlV19trG\n",
       "2NbLPv9/j21NmX6OPX58bWzr2i/+57GtqkduuHDhjXNvfmDgkv1p4m/JwfW59+P0v+Xj/+Zpo3tn\n",
       "/etvj+4tm41/tz66t/6v5l4bnD78ogwAAAAAEsoAAAAAoBLKAAAAAKASygAAAACgEsoAAAAAoBLK\n",
       "AAAAAKASygAAAACgEsoAAAAAoBLKAAAAAKASygAAAACgEsoAAAAAoBLKAAAAAKASygAAAACgEsoA\n",
       "AAAAoBLKAAAAAKASygAAAACgEsoAAAAAoBLKAAAAAKASygAAAACgqpVa3dnrI4D956YX3DC6d+OX\n",
       "bx7d4/TxyYuvG9u66r5bx7aW1V2XXjO2deWR28e2qr782p9beGN7+8DAJbteeMfdo3vw/dx92dUj\n",
       "Oy/9/EdHdpbd5HO/Zp79D157ycAlu7aOr45tveBjnxvb2g++8foXje4958NfHN371pvPH9s6cXzx\n",
       "v5nP+uCDA5c8dR59y0+Obe3srIxtVZ3zvocW3njsrecNXLLr6e95eHRvWflFGQAAAAAklAEAAABA\n",
       "JZQBAAAAQCWUAQAAAEAllAEAAABAJZQBAAAAQCWUAQAAAEAllAEAAABAJZQBAAAAQCWUAQAAAEAl\n",
       "lAEAAABAJZQBAAAAQCWUAQAAAEAllAEAAABAJZQBAAAAQCWUAQAAAEAllAEAAABAJZQBAAAAQFWr\n",
       "e30AsD/95ebBvT6BfeLo5tpen3BK2TpxYK9P+IG2the/bX19c+ASOLme2PIcezIOnrG91yf8NTs7\n",
       "K6N7Z//Y0dE9fnSbx5f7/bg9+Bn7X35VIQAABK1JREFUwNrxsa1lNfnePPPp3x7bmrLx7bP3+oRT\n",
       "kl+UAQAAAEBCGQAAAABUQhkAAAAAVEIZAAAAAFRCGQAAAABUQhkAAAAAVEIZAAAAAFRCGQAAAABU\n",
       "QhkAAAAAVEIZAAAAAFRCGQAAAABUQhkAAAAAVEIZAAAAAFRCGQAAAABUQhkAAAAAVEIZAAAAAFRC\n",
       "GQAAAABUQhkAAAAAVEIZAAAAAFS1Uqs7e30EAMCp6OivPnNs6/BvPDq2BfCjeuLXD4/uHfq1o6N7\n",
       "nNo23rU2urf+9s3RvWV2/L2L/67p4FtODFyya/Jzz4GzNsa2avbZ4xdlAAAAAJBQBgAAAACVUAYA\n",
       "AAAAlVAGAAAAAJVQBgAAAACVUAYAAAAAlVAGAAAAAJVQBgAAAACVUAYAAAAAlVAGAAAAAJVQBgAA\n",
       "AACVUAYAAAAAlVAGAAAAAJVQBgAAAACVUAYAAAAAlVAGAAAAAFWt1OrOXh8B7D//8lm/NLr3H775\n",
       "m6N7nD7e9dwbx7be/vWbxraW1U0vuGFs68Yv3zy2VfXpS69ZeGNtdWvgkl2X3/Ox0T34fqbel9Pv\n",
       "yWU1+dyvmWf/PZe/duCSXZtbq2NbLz9y+9jWfvDA1ZeN7l340c+P7j1yw4VjW+tP+87CG09/z8MD\n",
       "lzx1HnvreWNbG98+e2yr6tybH1h4Y+vWHx+4ZNfqdX85ures/KIMAAAAABLKAAAAAKASygAAAACg\n",
       "EsoAAAAAoBLKAAAAAKASygAAAACgEsoAAAAAoBLKAAAAAKASygAAAACgEsoAAAAAoBLKAAAAAKAS\n",
       "ygAAAACgEsoAAAAAoBLKAAAAAKASygAAAACgEsoAAAAAoBLKAAAAAKASygAAAACgEsoAAAAAoKqV\n",
       "Wt3Z6yMAAE5FD15zydjWBbffO7YF8KP6k1e9dHTvhXfcPbrHqe2JXz88unfo146O7i2zo7/6zIU3\n",
       "Dv/GowOX7Nr6L8+YG/vO43Nb1er1x8a2/KIMAAAAABLKAAAAAKASygAAAACgEsoAAAAAoBLKAAAA\n",
       "AKASygAAAACgEsoAAAAAoBLKAAAAAKASygAAAACgEsoAAAAAoBLKAAAAAKASygAAAACgEsoAAAAA\n",
       "oBLKAAAAAKASygAAAACgEsoAAAAAoBLKAAAAAKASygAAAACgqtW9PgAA4FS1sbG+1ycALGR9fWOv\n",
       "T+A0tv349N/Jo8N7y+vAWUv43vzO43NbZ581t1XVsbElvygDAAAAgIQyAAAAAKiEMgAAAACohDIA\n",
       "AAAAqIQyAAAAAKiEMgAAAACohDIAAAAAqIQyAAAAAKiEMgAAAACohDIAAAAAqIQyAAAAAKiEMgAA\n",
       "AACohDIAAAAAqIQyAAAAAKiEMgAAAACohDIAAAAAqIQyAAAAAKiEMgAAAACohDIAAAAAqGqlVnf2\n",
       "+ggAAAAA+NvY2rl5bMsvygAAAAAgoQwAAAAAKqEMAAAAACqhDAAAAAAqoQwAAAAAKqEMAAAAACqh\n",
       "DAAAAAAqoQwAAAAAKqEMAAAAACqhDAAAAAAqoQwAAAAAKqEMAAAAACqhDAAAAAAqoQwAAAAAKqEM\n",
       "AAAAACqhDAAAAAAqoQwAAAAAKqEMAAAAAKr6/wGbIJoqsuOidwAAAABJRU5ErkJggg==\n",
       "\" transform=\"translate(514, 186)\"/>\n",
       "</g>\n",
       "<defs>\n",
       "  <clipPath id=\"clip904\">\n",
       "    <rect x=\"2160\" y=\"186\" width=\"73\" height=\"1227\"/>\n",
       "  </clipPath>\n",
       "</defs>\n",
       "<g clip-path=\"url(#clip904)\">\n",
       "<image width=\"72\" height=\"1226\" xlink:href=\"data:image/png;base64,\n",
       "iVBORw0KGgoAAAANSUhEUgAAAEgAAATKCAYAAADy2iKHAAAKwklEQVR4nO3dwY3sRhAFQY5Q/lsh\n",
       "L6XfLQtUeSQPERYMEg9Ek8Od/f17/r4P/+uvtz/A1wkUBAoChTn337c/w6dZUBAoCBQECnPvn7c/\n",
       "w6dZUBAoCBQECk7SwYKCQEGgIFCY6yK9sqAgUBAozD2uQRsLCgIFgYJAwUExWFAQKAgUBAou0sGC\n",
       "gkBBoCBQ8LgjWFAQKAgUBArzOEmvLCgIFAQK7uaDBQWBgkBBoDCPu/mVBQWBgkBBoDDP+eftz/Bp\n",
       "FhQECgIFgYJHrsGCgkBBoCBQ8LgjWFAQKAgUXIOCBQWBgkBBoOBuPlhQECgIFAQK83OSXllQECgI\n",
       "FAQK8xw/druxoCBQECg4KAYLCgIFgYJAwUExWFAQKAgUBApeXggWFAQKAgWBwvycpFcWFAQKAgWB\n",
       "gjfMggUFgYJAwUExWFAQKAgUBAq+FwsWFAQKAgWBgpN0sKAgUBAoCBScpIMFBYGCQEGg4CQdLCgI\n",
       "FAQK85zz9mf4NAsKAgWBgkDBQTFYUBAoCBQECh65BgsKAgWBgkDBRTpYUBAoCBQECvPzTHplQUGg\n",
       "IFBwUAwWFAQKAgWBgpcXggUFgYJAQaDgbj5YUBAoCBQECh53BAsKAgWBgrv5YEFBoCBQECi4SAcL\n",
       "CgIFgYJAwd+LBQsKAgWBgkDBSTpYUBAoCBQECi7SwYKCQEGg4BoULCgIFAQKAgUX6WBBQaAgUBAo\n",
       "zHNdpDcWFAQKAgWBgpN0sKAgUBAoCBRcpIMFBYGCQME1KFhQECgIFAQK85z79mf4NAsKAgWBgkDB\n",
       "STpYUBAoCBQECk7SwYKCQEGgIFBwkg4WFAQKAgUHxWBBQaAgUBAozOOcuLKgIFAQKAgU5rlO0hsL\n",
       "CgIFgYJAwUk6WFAQKAgUXIOCBQWBgkBBoDB+/GVnQUGgIFAQKDhJBwsKAgWBgkDBRTpYUBAoCBQE\n",
       "CvOc39uf4dMsKAgUBApzr2vQxoKCQEGgIFBwNx8sKAgUBAoCBXfzwYKCQEGgIFCYezTaqBMECgIF\n",
       "gYKTdLCgIFAQKMzje7GVBQWBgkBBoDDXQXFlQUGgIFAQKMzjketKnSBQECgIFJykgwUFgYJAQaDg\n",
       "mXSwoCBQECh4gSqoEwQKAgWBgheoggUFgYJAQaDgkWuwoCBQECgIFOZejTbqBIGCQMHdfLCgIFAQ\n",
       "KAgU3M0HCwoCBYGCQGEed/MrdYJAQaAgUHCSDhYUBAoCBYGCi3SwoCBQECj4c6hgQUGgIFAQKPh7\n",
       "saBOECgIFAQK/glksKAgUBAoCBQ8cg0WFAQKAgWBgh+7DeoEgYJAwd18sKAgUBAoCBTczQcLCgIF\n",
       "gYJAwUk6WFAQKAgUBAreMAvqBIGCQEGg4CQdLCgIFAQKHrkGCwoCBYGCQMFBMVhQECgIFAQKfpE8\n",
       "WFAQKAgUBAr+dU1QJwgUBAru5oMFBYGCQEGg4HuxYEFBoCBQECg4SQcLCgIFgYJAYY6L9MqCgkBB\n",
       "oCBQ8PdiQZ0gUBAouJsPFhQECgIFgYKLdLCgIFAQKAgUvLwQLCgIFAQKAgUn6WBBQaAgUBAouEgH\n",
       "CwoCBYGCv1kN6gSBgkBBoDDHI9eVBQWBgkBBoOBuPlhQECgIFAQKLtLBgoJAQaAgUHCRDhYUBAoC\n",
       "BT8sECwoCBQECgIFB8VgQUGgIFAQKLhIBwsKAgWBgkDBa8BBnSBQECh4yzVYUBAoCBQECu7mgwUF\n",
       "gYJAQaDgIh0sKAgUBAoCBW+YBQsKAgWBgkDBSTpYUBAoCBTmPq5BGwsKAgWBgkDB3XywoCBQECgI\n",
       "FNzNBwsKAgWBgkDBSTpYUBAoCBQECk7SwYKCQEGg4KAYLCgIFAQKAgUHxWBBQaAgUBAouEgHCwoC\n",
       "BYGCQGGO14BXFhQECgIFB8VgQUGgIFAQKPheLFhQECgIFAQKc+/bH+HbLCgIFAQKAgUn6WBBQaAg\n",
       "UBAo+HmcYEFBoCBQcFAMFhQECgIFgYKXF4IFBYGCQEGg4C3XYEFBoCBQECh4eSFYUBAoCBQECp5J\n",
       "BwsKAgWBgkeuwYKCQEGgIFDwyDVYUBAoCBQECu7mgwUFgYJAQaDge7FgQUGgIFAQKHjcESwoCBQE\n",
       "Cr4XCxYUBAoCBYHCnLc/wcdZUBAoCBQECk7SwYKCQEGgIFDw8kKwoCBQECi4mw8WFAQKAgWBgrv5\n",
       "YEFBoCBQECg4SQcLCgIFgYJAwUk6WFAQKAgUBAq+FwsWFAQKAoXxJ6s7CwoCBYGCQMFBMVhQECgI\n",
       "FAQKvhcLFhQECgIFgYLvxYIFBYGCQEGg4CQdLCgIFAQKDorBgoJAQaAgUJjj7YWVBQWBgkBBoOBu\n",
       "PlhQECgIFAQKHncECwoCBYGCQMFJOlhQECgIFPyPw2BBQaAgUBAo+B+HwYKCQEGgIFDw8kKwoCBQ\n",
       "ECgIFPw8TrCgIFAQKPj1l2BBQaAgUBAo+F4sWFAQKAgUBApeoAoWFAQKAgWBgj9FCBYUBAoCBYGC\n",
       "k3SwoCBQECh4gSpYUBAoCBQECl6gChYUBAoCBYGCk3SwoCBQECgIFLxhFiwoCBQECgIFv7wQLCgI\n",
       "FAQK7uaDBQWBgkBBoOB7sWBBQaAgUBAoOEkHCwoCBYGCQMFJOlhQECgIFAQKTtLBgoJAQaDgGhQs\n",
       "KAgUBAoCBXfzwYKCQEGgIFBwkg4WFAQKAgWBgpN0sKAgUBAoOCgGCwoCBYGCQMEPCwQLCgIFgYJA\n",
       "wQ9uBwsKAgWBgkDB445gQUGgIFAQKMx9XKU3FhQECgIFB8VgQUGgIFAQKPheLFhQECgIFAQKvhcL\n",
       "FhQECgIFgYLHHcGCgkBBoCBQ8L1YsKAgUBAoOCgGCwoCBYGCQMEPCwQLCgIFgYJAYY63F1YWFAQK\n",
       "AgWBgpcXggUFgYJAQaAw10l6ZUFBoCBQcFAMFhQECgIFgYJHrsGCgkBBoCBQ8PJCsKAgUBAoCBTm\n",
       "+FOElQUFgYJAwd18sKAgUBAoCBT8zWqwoCBQECgIFLy8ECwoCBQECgIFj1yDBQWBgkBBoOBxR7Cg\n",
       "IFAQKMx53M9vLCgIFAQKAgV388GCgkBBoCBQcJEOFhQECgIFgYJHrsGCgkBBoCBQ8Ew6WFAQKAgU\n",
       "5vwcFDcWFAQKAgWBgoNisKAgUBAoCBTmukivLCgIFAQKAgUn6WBBQaAgUBAozPm5SG8sKAgUBAoO\n",
       "isGCgkBBoCBQ8Mg1WFAQKAgUBApO0sGCgkBBoCBQcJEOFhQECgIFX/sECwoCBYGCQGHu8+ftz/Bp\n",
       "FhQECgIFgYK7+WBBQaAgUBAoeHkhWFAQKAgUBApzrscdGwsKAgWBgoNisKAgUBAoCBTm+F5sZUFB\n",
       "oCBQECg4SQcLCgIFgYJAwUk6WFAQKAgUBApzr5P0xoKCQEGg4G4+WFAQKAgUBApeoAoWFAQKAgWB\n",
       "gpN0sKAgUBAoCBTmOkmvLCgIFAQKAgUn6WBBQaAgUJjju/mVBQWBgkBBoOB3FIMFBYGCQEGg4C3X\n",
       "YEFBoCBQECh45BosKAgUBAoOisGCgkBBoCBQcJEOFhQECgIFgYLvxYIFBYGCQEGg4CQdLCgIFAQK\n",
       "AoV5fC+2sqAgUBAoOCgGCwoCBYGCQMELVMGCgkBBoCBQmMdJemVBQaAgUBAoeHkhWFAQKAgUBAq+\n",
       "FwsWFAQKAgV388GCgkBBoCBQmPvctz/Dp1lQECgIFAQK7uaDBQWBgkBBoDCPk/TKgoJAQaDwH7yi\n",
       "7KPNl7pSAAAAAElFTkSuQmCC\n",
       "\" transform=\"translate(2161, 186)\"/>\n",
       "</g>\n",
       "<path clip-path=\"url(#clip900)\" d=\"M2268.76 1370.42 L2298.43 1370.42 L2298.43 1374.36 L2268.76 1374.36 L2268.76 1370.42 Z\" fill=\"#000000\" fill-rule=\"evenodd\" fill-opacity=\"1\" /><path clip-path=\"url(#clip900)\" d=\"M2308.66 1386.53 L2308.66 1382.27 Q2310.42 1383.11 2312.23 1383.55 Q2314.03 1383.99 2315.77 1383.99 Q2320.4 1383.99 2322.83 1380.88 Q2325.28 1377.76 2325.63 1371.42 Q2324.29 1373.41 2322.23 1374.47 Q2320.17 1375.54 2317.67 1375.54 Q2312.48 1375.54 2309.45 1372.41 Q2306.44 1369.26 2306.44 1363.82 Q2306.44 1358.5 2309.59 1355.28 Q2312.74 1352.07 2317.97 1352.07 Q2323.96 1352.07 2327.11 1356.67 Q2330.28 1361.26 2330.28 1370.01 Q2330.28 1378.18 2326.39 1383.06 Q2322.53 1387.92 2315.98 1387.92 Q2314.22 1387.92 2312.41 1387.57 Q2310.61 1387.23 2308.66 1386.53 M2317.97 1371.88 Q2321.12 1371.88 2322.95 1369.73 Q2324.8 1367.57 2324.8 1363.82 Q2324.8 1360.1 2322.95 1357.95 Q2321.12 1355.77 2317.97 1355.77 Q2314.82 1355.77 2312.97 1357.95 Q2311.14 1360.1 2311.14 1363.82 Q2311.14 1367.57 2312.97 1369.73 Q2314.82 1371.88 2317.97 1371.88 Z\" fill=\"#000000\" fill-rule=\"evenodd\" fill-opacity=\"1\" /><path clip-path=\"url(#clip900)\" d=\"M2268.76 1188.72 L2298.43 1188.72 L2298.43 1192.65 L2268.76 1192.65 L2268.76 1188.72 Z\" fill=\"#000000\" fill-rule=\"evenodd\" fill-opacity=\"1\" /><path clip-path=\"url(#clip900)\" d=\"M2318.52 1189.14 Q2315.19 1189.14 2313.27 1190.92 Q2311.37 1192.7 2311.37 1195.83 Q2311.37 1198.95 2313.27 1200.73 Q2315.19 1202.52 2318.52 1202.52 Q2321.86 1202.52 2323.78 1200.73 Q2325.7 1198.93 2325.7 1195.83 Q2325.7 1192.7 2323.78 1190.92 Q2321.88 1189.14 2318.52 1189.14 M2313.85 1187.15 Q2310.84 1186.4 2309.15 1184.34 Q2307.48 1182.28 2307.48 1179.32 Q2307.48 1175.18 2310.42 1172.77 Q2313.39 1170.36 2318.52 1170.36 Q2323.69 1170.36 2326.63 1172.77 Q2329.57 1175.18 2329.57 1179.32 Q2329.57 1182.28 2327.88 1184.34 Q2326.21 1186.4 2323.22 1187.15 Q2326.6 1187.93 2328.48 1190.22 Q2330.38 1192.52 2330.38 1195.83 Q2330.38 1200.85 2327.3 1203.53 Q2324.24 1206.22 2318.52 1206.22 Q2312.81 1206.22 2309.73 1203.53 Q2306.67 1200.85 2306.67 1195.83 Q2306.67 1192.52 2308.57 1190.22 Q2310.47 1187.93 2313.85 1187.15 M2312.14 1179.76 Q2312.14 1182.45 2313.8 1183.95 Q2315.49 1185.46 2318.52 1185.46 Q2321.53 1185.46 2323.22 1183.95 Q2324.94 1182.45 2324.94 1179.76 Q2324.94 1177.08 2323.22 1175.57 Q2321.53 1174.07 2318.52 1174.07 Q2315.49 1174.07 2313.8 1175.57 Q2312.14 1177.08 2312.14 1179.76 Z\" fill=\"#000000\" fill-rule=\"evenodd\" fill-opacity=\"1\" /><path clip-path=\"url(#clip900)\" d=\"M2268.76 1007.02 L2298.43 1007.02 L2298.43 1010.95 L2268.76 1010.95 L2268.76 1007.02 Z\" fill=\"#000000\" fill-rule=\"evenodd\" fill-opacity=\"1\" /><path clip-path=\"url(#clip900)\" d=\"M2307.34 989.286 L2329.57 989.286 L2329.57 991.277 L2317.02 1023.85 L2312.14 1023.85 L2323.94 993.221 L2307.34 993.221 L2307.34 989.286 Z\" fill=\"#000000\" fill-rule=\"evenodd\" fill-opacity=\"1\" /><path clip-path=\"url(#clip900)\" d=\"M2268.76 825.315 L2298.43 825.315 L2298.43 829.25 L2268.76 829.25 L2268.76 825.315 Z\" fill=\"#000000\" fill-rule=\"evenodd\" fill-opacity=\"1\" /><path clip-path=\"url(#clip900)\" d=\"M2319.1 823 Q2315.95 823 2314.1 825.153 Q2312.27 827.306 2312.27 831.056 Q2312.27 834.783 2314.1 836.959 Q2315.95 839.111 2319.1 839.111 Q2322.25 839.111 2324.08 836.959 Q2325.93 834.783 2325.93 831.056 Q2325.93 827.306 2324.08 825.153 Q2322.25 823 2319.1 823 M2328.39 808.348 L2328.39 812.607 Q2326.63 811.774 2324.82 811.334 Q2323.04 810.894 2321.28 810.894 Q2316.65 810.894 2314.2 814.019 Q2311.76 817.144 2311.42 823.463 Q2312.78 821.449 2314.84 820.385 Q2316.9 819.297 2319.38 819.297 Q2324.59 819.297 2327.6 822.468 Q2330.63 825.616 2330.63 831.056 Q2330.63 836.38 2327.48 839.598 Q2324.33 842.815 2319.1 842.815 Q2313.11 842.815 2309.94 838.232 Q2306.76 833.625 2306.76 824.899 Q2306.76 816.704 2310.65 811.843 Q2314.54 806.959 2321.09 806.959 Q2322.85 806.959 2324.64 807.306 Q2326.44 807.653 2328.39 808.348 Z\" fill=\"#000000\" fill-rule=\"evenodd\" fill-opacity=\"1\" /><path clip-path=\"url(#clip900)\" d=\"M2268.76 643.613 L2298.43 643.613 L2298.43 647.548 L2268.76 647.548 L2268.76 643.613 Z\" fill=\"#000000\" fill-rule=\"evenodd\" fill-opacity=\"1\" /><path clip-path=\"url(#clip900)\" d=\"M2308.57 625.882 L2326.93 625.882 L2326.93 629.817 L2312.85 629.817 L2312.85 638.289 Q2313.87 637.942 2314.89 637.78 Q2315.91 637.594 2316.93 637.594 Q2322.71 637.594 2326.09 640.766 Q2329.47 643.937 2329.47 649.354 Q2329.47 654.932 2326 658.034 Q2322.53 661.113 2316.21 661.113 Q2314.03 661.113 2311.76 660.742 Q2309.52 660.372 2307.11 659.631 L2307.11 654.932 Q2309.2 656.067 2311.42 656.622 Q2313.64 657.178 2316.12 657.178 Q2320.12 657.178 2322.46 655.071 Q2324.8 652.965 2324.8 649.354 Q2324.8 645.743 2322.46 643.636 Q2320.12 641.53 2316.12 641.53 Q2314.24 641.53 2312.37 641.946 Q2310.51 642.363 2308.57 643.243 L2308.57 625.882 Z\" fill=\"#000000\" fill-rule=\"evenodd\" fill-opacity=\"1\" /><path clip-path=\"url(#clip900)\" d=\"M2268.76 461.911 L2298.43 461.911 L2298.43 465.846 L2268.76 465.846 L2268.76 461.911 Z\" fill=\"#000000\" fill-rule=\"evenodd\" fill-opacity=\"1\" /><path clip-path=\"url(#clip900)\" d=\"M2321.37 448.253 L2309.57 466.702 L2321.37 466.702 L2321.37 448.253 M2320.14 444.179 L2326.02 444.179 L2326.02 466.702 L2330.95 466.702 L2330.95 470.591 L2326.02 470.591 L2326.02 478.739 L2321.37 478.739 L2321.37 470.591 L2305.77 470.591 L2305.77 466.077 L2320.14 444.179 Z\" fill=\"#000000\" fill-rule=\"evenodd\" fill-opacity=\"1\" /><path clip-path=\"url(#clip900)\" d=\"M2268.76 280.208 L2298.43 280.208 L2298.43 284.143 L2268.76 284.143 L2268.76 280.208 Z\" fill=\"#000000\" fill-rule=\"evenodd\" fill-opacity=\"1\" /><path clip-path=\"url(#clip900)\" d=\"M2322.69 278.403 Q2326.05 279.12 2327.92 281.389 Q2329.82 283.657 2329.82 286.991 Q2329.82 292.106 2326.3 294.907 Q2322.78 297.708 2316.3 297.708 Q2314.13 297.708 2311.81 297.268 Q2309.52 296.852 2307.07 295.995 L2307.07 291.481 Q2309.01 292.616 2311.33 293.194 Q2313.64 293.773 2316.16 293.773 Q2320.56 293.773 2322.85 292.037 Q2325.17 290.301 2325.17 286.991 Q2325.17 283.935 2323.01 282.222 Q2320.89 280.486 2317.07 280.486 L2313.04 280.486 L2313.04 276.644 L2317.25 276.644 Q2320.7 276.644 2322.53 275.278 Q2324.36 273.889 2324.36 271.296 Q2324.36 268.634 2322.46 267.222 Q2320.58 265.787 2317.07 265.787 Q2315.14 265.787 2312.95 266.204 Q2310.75 266.62 2308.11 267.5 L2308.11 263.333 Q2310.77 262.593 2313.08 262.222 Q2315.42 261.852 2317.48 261.852 Q2322.81 261.852 2325.91 264.282 Q2329.01 266.69 2329.01 270.81 Q2329.01 273.681 2327.37 275.671 Q2325.72 277.639 2322.69 278.403 Z\" fill=\"#000000\" fill-rule=\"evenodd\" fill-opacity=\"1\" /><polyline clip-path=\"url(#clip900)\" style=\"stroke:#000000; stroke-linecap:butt; stroke-linejoin:round; stroke-width:4; stroke-opacity:1; fill:none\" points=\"\n",
       "  2232.76,1411.82 2232.76,1373.6 2256.76,1373.6 2232.76,1373.6 2232.76,1191.9 2256.76,1191.9 2232.76,1191.9 2232.76,1010.19 2256.76,1010.19 2232.76,1010.19 \n",
       "  2232.76,828.493 2256.76,828.493 2232.76,828.493 2232.76,646.79 2256.76,646.79 2232.76,646.79 2232.76,465.088 2256.76,465.088 2232.76,465.088 2232.76,283.386 \n",
       "  2256.76,283.386 2232.76,283.386 2232.76,186.097 \n",
       "  \"/>\n",
       "</svg>\n"
      ]
     },
     "execution_count": 22,
     "metadata": {},
     "output_type": "execute_result"
    }
   ],
   "source": [
    "heatmap(log.(max.(σtherm, 1e-4)), title=L\"\\sigma_{\\beta}\", yflip=true, aspect_ratio=:equal)"
   ]
  },
  {
   "cell_type": "markdown",
   "metadata": {},
   "source": [
    "## Parameterized quantum circuit and latent density matrix"
   ]
  },
  {
   "cell_type": "code",
   "execution_count": 23,
   "metadata": {},
   "outputs": [
    {
     "data": {
      "text/plain": [
       "construct_parameterized_layer"
      ]
     },
     "execution_count": 23,
     "metadata": {},
     "output_type": "execute_result"
    }
   ],
   "source": [
    "\"\"\"\n",
    "Construct a parametrized quantum layer consisting of single and two qubit rotation gates.\n",
    "\"\"\"\n",
    "function construct_parameterized_layer(L::Integer, istart::Integer)\n",
    "\n",
    "    # TODO: take 2D adjacency into account? periodic boundary conditions?\n",
    "\n",
    "    # local gates\n",
    "    Uloc = [Moment([circuit_gate(i, RotationGate(0.05*π*randn(3))) for i in 1:L])]\n",
    "\n",
    "    # interaction gates\n",
    "    Uint = [\n",
    "        Moment([circuit_gate(i, i+1, EntanglementXXGate(0.05π*randn())) for i in istart:2:L-1]),\n",
    "        Moment([circuit_gate(i, i+1, EntanglementYYGate(0.05π*randn())) for i in istart:2:L-1]),\n",
    "        Moment([circuit_gate(i, i+1, EntanglementZZGate(0.05π*randn())) for i in istart:2:L-1])]\n",
    "\n",
    "    return vcat(Uloc, Uint)\n",
    "end"
   ]
  },
  {
   "cell_type": "code",
   "execution_count": 24,
   "metadata": {},
   "outputs": [],
   "source": [
    "# parameterized quantum circuit gate chain\n",
    "cgc = vcat(construct_parameterized_layer(L, 1), construct_parameterized_layer(L, 2), construct_parameterized_layer(L, 1));"
   ]
  },
  {
   "cell_type": "code",
   "execution_count": 25,
   "metadata": {},
   "outputs": [],
   "source": [
    "# use Hamiltonian as measurement operator; note that H gets converted to a complex matrix here\n",
    "Hmeas = MeasurementOperator(H, Tuple(1:L));"
   ]
  },
  {
   "cell_type": "code",
   "execution_count": 26,
   "metadata": {},
   "outputs": [
    {
     "data": {
      "text/plain": [
       "\n",
       "    6 —[Rθ]———□—————□—————□————[Rθ]————————————————————[Rθ]———□—————□—————□———\n",
       "              |     |     |                                   |     |     |   \n",
       "    5 —[Rθ]———□—————□—————□————[Rθ]———□—————□—————□————[Rθ]———□—————□—————□———\n",
       "                                      |     |     |                           \n",
       "    4 —[Rθ]———□—————□—————□————[Rθ]———□—————□—————□————[Rθ]———□—————□—————□———\n",
       "              |     |     |                                   |     |     |   \n",
       "    3 —[Rθ]———□—————□—————□————[Rθ]———□—————□—————□————[Rθ]———□—————□—————□———\n",
       "                                      |     |     |                           \n",
       "    2 —[Rθ]———□—————□—————□————[Rθ]———□—————□—————□————[Rθ]———□—————□—————□———\n",
       "              |     |     |                                   |     |     |   \n",
       "    1 —[Rθ]———□—————□—————□————[Rθ]——————————————[Rθ]—————————□—————□—————□———\n"
      ]
     },
     "execution_count": 26,
     "metadata": {},
     "output_type": "execute_result"
    }
   ],
   "source": [
    "# parameterized quantum circuit\n",
    "circ = Circuit{L}(cgc, [Hmeas])"
   ]
  },
  {
   "cell_type": "code",
   "execution_count": 27,
   "metadata": {},
   "outputs": [
    {
     "data": {
      "text/plain": [
       "latent_density (generic function with 1 method)"
      ]
     },
     "execution_count": 27,
     "metadata": {},
     "output_type": "execute_result"
    }
   ],
   "source": [
    "# use representation of density matrix in terms of Pauli matrices; cos(θ) is Bloch vector coefficient of Pauli-Z for each qubit\n",
    "latent_density(θlist) = DensityMatrix(kron([[1, 0, 0, cos(θ)] for θ in θlist]...), length(θlist))"
   ]
  },
  {
   "cell_type": "code",
   "execution_count": 28,
   "metadata": {},
   "outputs": [
    {
     "data": {
      "text/plain": [
       "DensityMatrix(Float32[1.0, 0.0, 0.0, 0.38268343, 0.0, 0.0, 0.0, 0.0, 0.0, 0.0, 0.0, 0.0, 0.5, 0.0, 0.0, 0.19134171], 2, Float32[0.0, 0.0, 0.0, 0.0, 0.0, 0.0, 0.0, 0.0, 0.0, 0.0, 0.0, 0.0, 0.0, 0.0, 0.0, 0.0])"
      ]
     },
     "execution_count": 28,
     "metadata": {},
     "output_type": "execute_result"
    }
   ],
   "source": [
    "# example\n",
    "latent_density([π/3, 3π/8])"
   ]
  },
  {
   "cell_type": "markdown",
   "metadata": {},
   "source": [
    "## Target (\"loss\") function and distance measures"
   ]
  },
  {
   "cell_type": "code",
   "execution_count": 29,
   "metadata": {},
   "outputs": [
    {
     "data": {
      "text/plain": [
       "xlogx"
      ]
     },
     "execution_count": 29,
     "metadata": {},
     "output_type": "execute_result"
    }
   ],
   "source": [
    "\"\"\"\n",
    "    xlogx(x::Number)\n",
    "\n",
    "Compute `x * log(x)`, returning zero if `x` is zero. (Copied from StatsFuns.jl package.)\n",
    "\"\"\"\n",
    "function xlogx(x::Number)\n",
    "    result = x * log(x)\n",
    "    ifelse(iszero(x), zero(result), result)\n",
    "end"
   ]
  },
  {
   "cell_type": "code",
   "execution_count": 30,
   "metadata": {},
   "outputs": [
    {
     "data": {
      "text/plain": [
       "binary_entropy"
      ]
     },
     "execution_count": 30,
     "metadata": {},
     "output_type": "execute_result"
    }
   ],
   "source": [
    "\"\"\"\n",
    "    binary_entropy(p::Number)\n",
    "\n",
    "Compute the binary entropy of `p` (natural logarithm).\n",
    "\"\"\"\n",
    "binary_entropy(p::Number) = -(xlogx(p) + xlogx(1 - p))"
   ]
  },
  {
   "cell_type": "code",
   "execution_count": 31,
   "metadata": {},
   "outputs": [
    {
     "data": {
      "image/svg+xml": [
       "<?xml version=\"1.0\" encoding=\"utf-8\"?>\n",
       "<svg xmlns=\"http://www.w3.org/2000/svg\" xmlns:xlink=\"http://www.w3.org/1999/xlink\" width=\"600\" height=\"400\" viewBox=\"0 0 2400 1600\">\n",
       "<defs>\n",
       "  <clipPath id=\"clip940\">\n",
       "    <rect x=\"0\" y=\"0\" width=\"2400\" height=\"1600\"/>\n",
       "  </clipPath>\n",
       "</defs>\n",
       "<path clip-path=\"url(#clip940)\" d=\"\n",
       "M0 1600 L2400 1600 L2400 0 L0 0  Z\n",
       "  \" fill=\"#ffffff\" fill-rule=\"evenodd\" fill-opacity=\"1\"/>\n",
       "<defs>\n",
       "  <clipPath id=\"clip941\">\n",
       "    <rect x=\"480\" y=\"0\" width=\"1681\" height=\"1600\"/>\n",
       "  </clipPath>\n",
       "</defs>\n",
       "<path clip-path=\"url(#clip940)\" d=\"\n",
       "M219.866 1423.18 L2352.76 1423.18 L2352.76 47.2441 L219.866 47.2441  Z\n",
       "  \" fill=\"#ffffff\" fill-rule=\"evenodd\" fill-opacity=\"1\"/>\n",
       "<defs>\n",
       "  <clipPath id=\"clip942\">\n",
       "    <rect x=\"219\" y=\"47\" width=\"2134\" height=\"1377\"/>\n",
       "  </clipPath>\n",
       "</defs>\n",
       "<polyline clip-path=\"url(#clip942)\" style=\"stroke:#000000; stroke-linecap:butt; stroke-linejoin:round; stroke-width:2; stroke-opacity:0.1; fill:none\" points=\"\n",
       "  280.231,1423.18 280.231,47.2441 \n",
       "  \"/>\n",
       "<polyline clip-path=\"url(#clip942)\" style=\"stroke:#000000; stroke-linecap:butt; stroke-linejoin:round; stroke-width:2; stroke-opacity:0.1; fill:none\" points=\"\n",
       "  783.271,1423.18 783.271,47.2441 \n",
       "  \"/>\n",
       "<polyline clip-path=\"url(#clip942)\" style=\"stroke:#000000; stroke-linecap:butt; stroke-linejoin:round; stroke-width:2; stroke-opacity:0.1; fill:none\" points=\"\n",
       "  1286.31,1423.18 1286.31,47.2441 \n",
       "  \"/>\n",
       "<polyline clip-path=\"url(#clip942)\" style=\"stroke:#000000; stroke-linecap:butt; stroke-linejoin:round; stroke-width:2; stroke-opacity:0.1; fill:none\" points=\"\n",
       "  1789.35,1423.18 1789.35,47.2441 \n",
       "  \"/>\n",
       "<polyline clip-path=\"url(#clip942)\" style=\"stroke:#000000; stroke-linecap:butt; stroke-linejoin:round; stroke-width:2; stroke-opacity:0.1; fill:none\" points=\"\n",
       "  2292.39,1423.18 2292.39,47.2441 \n",
       "  \"/>\n",
       "<polyline clip-path=\"url(#clip940)\" style=\"stroke:#000000; stroke-linecap:butt; stroke-linejoin:round; stroke-width:4; stroke-opacity:1; fill:none\" points=\"\n",
       "  219.866,1423.18 2352.76,1423.18 \n",
       "  \"/>\n",
       "<polyline clip-path=\"url(#clip940)\" style=\"stroke:#000000; stroke-linecap:butt; stroke-linejoin:round; stroke-width:4; stroke-opacity:1; fill:none\" points=\"\n",
       "  280.231,1423.18 280.231,1404.28 \n",
       "  \"/>\n",
       "<polyline clip-path=\"url(#clip940)\" style=\"stroke:#000000; stroke-linecap:butt; stroke-linejoin:round; stroke-width:4; stroke-opacity:1; fill:none\" points=\"\n",
       "  783.271,1423.18 783.271,1404.28 \n",
       "  \"/>\n",
       "<polyline clip-path=\"url(#clip940)\" style=\"stroke:#000000; stroke-linecap:butt; stroke-linejoin:round; stroke-width:4; stroke-opacity:1; fill:none\" points=\"\n",
       "  1286.31,1423.18 1286.31,1404.28 \n",
       "  \"/>\n",
       "<polyline clip-path=\"url(#clip940)\" style=\"stroke:#000000; stroke-linecap:butt; stroke-linejoin:round; stroke-width:4; stroke-opacity:1; fill:none\" points=\"\n",
       "  1789.35,1423.18 1789.35,1404.28 \n",
       "  \"/>\n",
       "<polyline clip-path=\"url(#clip940)\" style=\"stroke:#000000; stroke-linecap:butt; stroke-linejoin:round; stroke-width:4; stroke-opacity:1; fill:none\" points=\"\n",
       "  2292.39,1423.18 2292.39,1404.28 \n",
       "  \"/>\n",
       "<path clip-path=\"url(#clip940)\" d=\"M242.535 1454.1 Q238.923 1454.1 237.095 1457.66 Q235.289 1461.2 235.289 1468.33 Q235.289 1475.44 237.095 1479.01 Q238.923 1482.55 242.535 1482.55 Q246.169 1482.55 247.974 1479.01 Q249.803 1475.44 249.803 1468.33 Q249.803 1461.2 247.974 1457.66 Q246.169 1454.1 242.535 1454.1 M242.535 1450.39 Q248.345 1450.39 251.4 1455 Q254.479 1459.58 254.479 1468.33 Q254.479 1477.06 251.4 1481.67 Q248.345 1486.25 242.535 1486.25 Q236.724 1486.25 233.646 1481.67 Q230.59 1477.06 230.59 1468.33 Q230.59 1459.58 233.646 1455 Q236.724 1450.39 242.535 1450.39 Z\" fill=\"#000000\" fill-rule=\"evenodd\" fill-opacity=\"1\" /><path clip-path=\"url(#clip940)\" d=\"M262.696 1479.7 L267.581 1479.7 L267.581 1485.58 L262.696 1485.58 L262.696 1479.7 Z\" fill=\"#000000\" fill-rule=\"evenodd\" fill-opacity=\"1\" /><path clip-path=\"url(#clip940)\" d=\"M287.766 1454.1 Q284.155 1454.1 282.326 1457.66 Q280.52 1461.2 280.52 1468.33 Q280.52 1475.44 282.326 1479.01 Q284.155 1482.55 287.766 1482.55 Q291.4 1482.55 293.206 1479.01 Q295.034 1475.44 295.034 1468.33 Q295.034 1461.2 293.206 1457.66 Q291.4 1454.1 287.766 1454.1 M287.766 1450.39 Q293.576 1450.39 296.631 1455 Q299.71 1459.58 299.71 1468.33 Q299.71 1477.06 296.631 1481.67 Q293.576 1486.25 287.766 1486.25 Q281.956 1486.25 278.877 1481.67 Q275.821 1477.06 275.821 1468.33 Q275.821 1459.58 278.877 1455 Q281.956 1450.39 287.766 1450.39 Z\" fill=\"#000000\" fill-rule=\"evenodd\" fill-opacity=\"1\" /><path clip-path=\"url(#clip940)\" d=\"M317.928 1454.1 Q314.317 1454.1 312.488 1457.66 Q310.682 1461.2 310.682 1468.33 Q310.682 1475.44 312.488 1479.01 Q314.317 1482.55 317.928 1482.55 Q321.562 1482.55 323.367 1479.01 Q325.196 1475.44 325.196 1468.33 Q325.196 1461.2 323.367 1457.66 Q321.562 1454.1 317.928 1454.1 M317.928 1450.39 Q323.738 1450.39 326.793 1455 Q329.872 1459.58 329.872 1468.33 Q329.872 1477.06 326.793 1481.67 Q323.738 1486.25 317.928 1486.25 Q312.117 1486.25 309.039 1481.67 Q305.983 1477.06 305.983 1468.33 Q305.983 1459.58 309.039 1455 Q312.117 1450.39 317.928 1450.39 Z\" fill=\"#000000\" fill-rule=\"evenodd\" fill-opacity=\"1\" /><path clip-path=\"url(#clip940)\" d=\"M746.072 1454.1 Q742.461 1454.1 740.632 1457.66 Q738.827 1461.2 738.827 1468.33 Q738.827 1475.44 740.632 1479.01 Q742.461 1482.55 746.072 1482.55 Q749.706 1482.55 751.512 1479.01 Q753.341 1475.44 753.341 1468.33 Q753.341 1461.2 751.512 1457.66 Q749.706 1454.1 746.072 1454.1 M746.072 1450.39 Q751.882 1450.39 754.938 1455 Q758.017 1459.58 758.017 1468.33 Q758.017 1477.06 754.938 1481.67 Q751.882 1486.25 746.072 1486.25 Q740.262 1486.25 737.183 1481.67 Q734.128 1477.06 734.128 1468.33 Q734.128 1459.58 737.183 1455 Q740.262 1450.39 746.072 1450.39 Z\" fill=\"#000000\" fill-rule=\"evenodd\" fill-opacity=\"1\" /><path clip-path=\"url(#clip940)\" d=\"M766.234 1479.7 L771.118 1479.7 L771.118 1485.58 L766.234 1485.58 L766.234 1479.7 Z\" fill=\"#000000\" fill-rule=\"evenodd\" fill-opacity=\"1\" /><path clip-path=\"url(#clip940)\" d=\"M785.331 1481.64 L801.651 1481.64 L801.651 1485.58 L779.706 1485.58 L779.706 1481.64 Q782.368 1478.89 786.952 1474.26 Q791.558 1469.61 792.739 1468.27 Q794.984 1465.74 795.864 1464.01 Q796.766 1462.25 796.766 1460.56 Q796.766 1457.8 794.822 1456.07 Q792.901 1454.33 789.799 1454.33 Q787.6 1454.33 785.146 1455.09 Q782.716 1455.86 779.938 1457.41 L779.938 1452.69 Q782.762 1451.55 785.216 1450.97 Q787.669 1450.39 789.706 1450.39 Q795.077 1450.39 798.271 1453.08 Q801.465 1455.77 801.465 1460.26 Q801.465 1462.39 800.655 1464.31 Q799.868 1466.2 797.762 1468.8 Q797.183 1469.47 794.081 1472.69 Q790.979 1475.88 785.331 1481.64 Z\" fill=\"#000000\" fill-rule=\"evenodd\" fill-opacity=\"1\" /><path clip-path=\"url(#clip940)\" d=\"M811.512 1451.02 L829.868 1451.02 L829.868 1454.96 L815.794 1454.96 L815.794 1463.43 Q816.813 1463.08 817.831 1462.92 Q818.85 1462.73 819.868 1462.73 Q825.655 1462.73 829.035 1465.9 Q832.414 1469.08 832.414 1474.49 Q832.414 1480.07 828.942 1483.17 Q825.47 1486.25 819.151 1486.25 Q816.975 1486.25 814.706 1485.88 Q812.461 1485.51 810.053 1484.77 L810.053 1480.07 Q812.137 1481.2 814.359 1481.76 Q816.581 1482.32 819.058 1482.32 Q823.063 1482.32 825.4 1480.21 Q827.738 1478.1 827.738 1474.49 Q827.738 1470.88 825.4 1468.77 Q823.063 1466.67 819.058 1466.67 Q817.183 1466.67 815.308 1467.08 Q813.456 1467.5 811.512 1468.38 L811.512 1451.02 Z\" fill=\"#000000\" fill-rule=\"evenodd\" fill-opacity=\"1\" /><path clip-path=\"url(#clip940)\" d=\"M1248.61 1454.1 Q1245 1454.1 1243.17 1457.66 Q1241.37 1461.2 1241.37 1468.33 Q1241.37 1475.44 1243.17 1479.01 Q1245 1482.55 1248.61 1482.55 Q1252.25 1482.55 1254.05 1479.01 Q1255.88 1475.44 1255.88 1468.33 Q1255.88 1461.2 1254.05 1457.66 Q1252.25 1454.1 1248.61 1454.1 M1248.61 1450.39 Q1254.42 1450.39 1257.48 1455 Q1260.56 1459.58 1260.56 1468.33 Q1260.56 1477.06 1257.48 1481.67 Q1254.42 1486.25 1248.61 1486.25 Q1242.8 1486.25 1239.73 1481.67 Q1236.67 1477.06 1236.67 1468.33 Q1236.67 1459.58 1239.73 1455 Q1242.8 1450.39 1248.61 1450.39 Z\" fill=\"#000000\" fill-rule=\"evenodd\" fill-opacity=\"1\" /><path clip-path=\"url(#clip940)\" d=\"M1268.78 1479.7 L1273.66 1479.7 L1273.66 1485.58 L1268.78 1485.58 L1268.78 1479.7 Z\" fill=\"#000000\" fill-rule=\"evenodd\" fill-opacity=\"1\" /><path clip-path=\"url(#clip940)\" d=\"M1283.89 1451.02 L1302.25 1451.02 L1302.25 1454.96 L1288.17 1454.96 L1288.17 1463.43 Q1289.19 1463.08 1290.21 1462.92 Q1291.23 1462.73 1292.25 1462.73 Q1298.04 1462.73 1301.42 1465.9 Q1304.79 1469.08 1304.79 1474.49 Q1304.79 1480.07 1301.32 1483.17 Q1297.85 1486.25 1291.53 1486.25 Q1289.36 1486.25 1287.09 1485.88 Q1284.84 1485.51 1282.43 1484.77 L1282.43 1480.07 Q1284.52 1481.2 1286.74 1481.76 Q1288.96 1482.32 1291.44 1482.32 Q1295.44 1482.32 1297.78 1480.21 Q1300.12 1478.1 1300.12 1474.49 Q1300.12 1470.88 1297.78 1468.77 Q1295.44 1466.67 1291.44 1466.67 Q1289.56 1466.67 1287.69 1467.08 Q1285.84 1467.5 1283.89 1468.38 L1283.89 1451.02 Z\" fill=\"#000000\" fill-rule=\"evenodd\" fill-opacity=\"1\" /><path clip-path=\"url(#clip940)\" d=\"M1324.01 1454.1 Q1320.4 1454.1 1318.57 1457.66 Q1316.76 1461.2 1316.76 1468.33 Q1316.76 1475.44 1318.57 1479.01 Q1320.4 1482.55 1324.01 1482.55 Q1327.64 1482.55 1329.45 1479.01 Q1331.28 1475.44 1331.28 1468.33 Q1331.28 1461.2 1329.45 1457.66 Q1327.64 1454.1 1324.01 1454.1 M1324.01 1450.39 Q1329.82 1450.39 1332.87 1455 Q1335.95 1459.58 1335.95 1468.33 Q1335.95 1477.06 1332.87 1481.67 Q1329.82 1486.25 1324.01 1486.25 Q1318.2 1486.25 1315.12 1481.67 Q1312.06 1477.06 1312.06 1468.33 Q1312.06 1459.58 1315.12 1455 Q1318.2 1450.39 1324.01 1450.39 Z\" fill=\"#000000\" fill-rule=\"evenodd\" fill-opacity=\"1\" /><path clip-path=\"url(#clip940)\" d=\"M1752.15 1454.1 Q1748.54 1454.1 1746.71 1457.66 Q1744.91 1461.2 1744.91 1468.33 Q1744.91 1475.44 1746.71 1479.01 Q1748.54 1482.55 1752.15 1482.55 Q1755.79 1482.55 1757.59 1479.01 Q1759.42 1475.44 1759.42 1468.33 Q1759.42 1461.2 1757.59 1457.66 Q1755.79 1454.1 1752.15 1454.1 M1752.15 1450.39 Q1757.96 1450.39 1761.02 1455 Q1764.1 1459.58 1764.1 1468.33 Q1764.1 1477.06 1761.02 1481.67 Q1757.96 1486.25 1752.15 1486.25 Q1746.34 1486.25 1743.26 1481.67 Q1740.21 1477.06 1740.21 1468.33 Q1740.21 1459.58 1743.26 1455 Q1746.34 1450.39 1752.15 1450.39 Z\" fill=\"#000000\" fill-rule=\"evenodd\" fill-opacity=\"1\" /><path clip-path=\"url(#clip940)\" d=\"M1772.31 1479.7 L1777.2 1479.7 L1777.2 1485.58 L1772.31 1485.58 L1772.31 1479.7 Z\" fill=\"#000000\" fill-rule=\"evenodd\" fill-opacity=\"1\" /><path clip-path=\"url(#clip940)\" d=\"M1786.2 1451.02 L1808.43 1451.02 L1808.43 1453.01 L1795.88 1485.58 L1790.99 1485.58 L1802.8 1454.96 L1786.2 1454.96 L1786.2 1451.02 Z\" fill=\"#000000\" fill-rule=\"evenodd\" fill-opacity=\"1\" /><path clip-path=\"url(#clip940)\" d=\"M1817.59 1451.02 L1835.95 1451.02 L1835.95 1454.96 L1821.87 1454.96 L1821.87 1463.43 Q1822.89 1463.08 1823.91 1462.92 Q1824.93 1462.73 1825.95 1462.73 Q1831.74 1462.73 1835.11 1465.9 Q1838.49 1469.08 1838.49 1474.49 Q1838.49 1480.07 1835.02 1483.17 Q1831.55 1486.25 1825.23 1486.25 Q1823.05 1486.25 1820.79 1485.88 Q1818.54 1485.51 1816.13 1484.77 L1816.13 1480.07 Q1818.22 1481.2 1820.44 1481.76 Q1822.66 1482.32 1825.14 1482.32 Q1829.14 1482.32 1831.48 1480.21 Q1833.82 1478.1 1833.82 1474.49 Q1833.82 1470.88 1831.48 1468.77 Q1829.14 1466.67 1825.14 1466.67 Q1823.26 1466.67 1821.39 1467.08 Q1819.54 1467.5 1817.59 1468.38 L1817.59 1451.02 Z\" fill=\"#000000\" fill-rule=\"evenodd\" fill-opacity=\"1\" /><path clip-path=\"url(#clip940)\" d=\"M2244.46 1481.64 L2252.1 1481.64 L2252.1 1455.28 L2243.79 1456.95 L2243.79 1452.69 L2252.06 1451.02 L2256.73 1451.02 L2256.73 1481.64 L2264.37 1481.64 L2264.37 1485.58 L2244.46 1485.58 L2244.46 1481.64 Z\" fill=\"#000000\" fill-rule=\"evenodd\" fill-opacity=\"1\" /><path clip-path=\"url(#clip940)\" d=\"M2273.81 1479.7 L2278.7 1479.7 L2278.7 1485.58 L2273.81 1485.58 L2273.81 1479.7 Z\" fill=\"#000000\" fill-rule=\"evenodd\" fill-opacity=\"1\" /><path clip-path=\"url(#clip940)\" d=\"M2298.88 1454.1 Q2295.27 1454.1 2293.44 1457.66 Q2291.64 1461.2 2291.64 1468.33 Q2291.64 1475.44 2293.44 1479.01 Q2295.27 1482.55 2298.88 1482.55 Q2302.52 1482.55 2304.32 1479.01 Q2306.15 1475.44 2306.15 1468.33 Q2306.15 1461.2 2304.32 1457.66 Q2302.52 1454.1 2298.88 1454.1 M2298.88 1450.39 Q2304.69 1450.39 2307.75 1455 Q2310.83 1459.58 2310.83 1468.33 Q2310.83 1477.06 2307.75 1481.67 Q2304.69 1486.25 2298.88 1486.25 Q2293.07 1486.25 2290 1481.67 Q2286.94 1477.06 2286.94 1468.33 Q2286.94 1459.58 2290 1455 Q2293.07 1450.39 2298.88 1450.39 Z\" fill=\"#000000\" fill-rule=\"evenodd\" fill-opacity=\"1\" /><path clip-path=\"url(#clip940)\" d=\"M2329.05 1454.1 Q2325.43 1454.1 2323.61 1457.66 Q2321.8 1461.2 2321.8 1468.33 Q2321.8 1475.44 2323.61 1479.01 Q2325.43 1482.55 2329.05 1482.55 Q2332.68 1482.55 2334.49 1479.01 Q2336.31 1475.44 2336.31 1468.33 Q2336.31 1461.2 2334.49 1457.66 Q2332.68 1454.1 2329.05 1454.1 M2329.05 1450.39 Q2334.86 1450.39 2337.91 1455 Q2340.99 1459.58 2340.99 1468.33 Q2340.99 1477.06 2337.91 1481.67 Q2334.86 1486.25 2329.05 1486.25 Q2323.24 1486.25 2320.16 1481.67 Q2317.1 1477.06 2317.1 1468.33 Q2317.1 1459.58 2320.16 1455 Q2323.24 1450.39 2329.05 1450.39 Z\" fill=\"#000000\" fill-rule=\"evenodd\" fill-opacity=\"1\" /><path clip-path=\"url(#clip940)\" d=\"M1276.25 1562.7 L1276.25 1581.6 L1270.36 1581.6 L1270.36 1532.4 L1276.25 1532.4 L1276.25 1537.81 Q1278.1 1534.62 1280.9 1533.1 Q1283.73 1531.54 1287.65 1531.54 Q1294.14 1531.54 1298.18 1536.69 Q1302.26 1541.85 1302.26 1550.25 Q1302.26 1558.65 1298.18 1563.81 Q1294.14 1568.97 1287.65 1568.97 Q1283.73 1568.97 1280.9 1567.44 Q1278.1 1565.88 1276.25 1562.7 M1296.18 1550.25 Q1296.18 1543.79 1293.5 1540.13 Q1290.86 1536.44 1286.22 1536.44 Q1281.57 1536.44 1278.9 1540.13 Q1276.25 1543.79 1276.25 1550.25 Q1276.25 1556.71 1278.9 1560.4 Q1281.57 1564.07 1286.22 1564.07 Q1290.86 1564.07 1293.5 1560.4 Q1296.18 1556.71 1296.18 1550.25 Z\" fill=\"#000000\" fill-rule=\"evenodd\" fill-opacity=\"1\" /><polyline clip-path=\"url(#clip942)\" style=\"stroke:#000000; stroke-linecap:butt; stroke-linejoin:round; stroke-width:2; stroke-opacity:0.1; fill:none\" points=\"\n",
       "  219.866,1384.24 2352.76,1384.24 \n",
       "  \"/>\n",
       "<polyline clip-path=\"url(#clip942)\" style=\"stroke:#000000; stroke-linecap:butt; stroke-linejoin:round; stroke-width:2; stroke-opacity:0.1; fill:none\" points=\"\n",
       "  219.866,1009.7 2352.76,1009.7 \n",
       "  \"/>\n",
       "<polyline clip-path=\"url(#clip942)\" style=\"stroke:#000000; stroke-linecap:butt; stroke-linejoin:round; stroke-width:2; stroke-opacity:0.1; fill:none\" points=\"\n",
       "  219.866,635.161 2352.76,635.161 \n",
       "  \"/>\n",
       "<polyline clip-path=\"url(#clip942)\" style=\"stroke:#000000; stroke-linecap:butt; stroke-linejoin:round; stroke-width:2; stroke-opacity:0.1; fill:none\" points=\"\n",
       "  219.866,260.622 2352.76,260.622 \n",
       "  \"/>\n",
       "<polyline clip-path=\"url(#clip940)\" style=\"stroke:#000000; stroke-linecap:butt; stroke-linejoin:round; stroke-width:4; stroke-opacity:1; fill:none\" points=\"\n",
       "  219.866,1423.18 219.866,47.2441 \n",
       "  \"/>\n",
       "<polyline clip-path=\"url(#clip940)\" style=\"stroke:#000000; stroke-linecap:butt; stroke-linejoin:round; stroke-width:4; stroke-opacity:1; fill:none\" points=\"\n",
       "  219.866,1384.24 238.764,1384.24 \n",
       "  \"/>\n",
       "<polyline clip-path=\"url(#clip940)\" style=\"stroke:#000000; stroke-linecap:butt; stroke-linejoin:round; stroke-width:4; stroke-opacity:1; fill:none\" points=\"\n",
       "  219.866,1009.7 238.764,1009.7 \n",
       "  \"/>\n",
       "<polyline clip-path=\"url(#clip940)\" style=\"stroke:#000000; stroke-linecap:butt; stroke-linejoin:round; stroke-width:4; stroke-opacity:1; fill:none\" points=\"\n",
       "  219.866,635.161 238.764,635.161 \n",
       "  \"/>\n",
       "<polyline clip-path=\"url(#clip940)\" style=\"stroke:#000000; stroke-linecap:butt; stroke-linejoin:round; stroke-width:4; stroke-opacity:1; fill:none\" points=\"\n",
       "  219.866,260.622 238.764,260.622 \n",
       "  \"/>\n",
       "<path clip-path=\"url(#clip940)\" d=\"M126.691 1370.04 Q123.08 1370.04 121.251 1373.6 Q119.445 1377.14 119.445 1384.27 Q119.445 1391.38 121.251 1394.94 Q123.08 1398.49 126.691 1398.49 Q130.325 1398.49 132.13 1394.94 Q133.959 1391.38 133.959 1384.27 Q133.959 1377.14 132.13 1373.6 Q130.325 1370.04 126.691 1370.04 M126.691 1366.33 Q132.501 1366.33 135.556 1370.94 Q138.635 1375.52 138.635 1384.27 Q138.635 1393 135.556 1397.61 Q132.501 1402.19 126.691 1402.19 Q120.88 1402.19 117.802 1397.61 Q114.746 1393 114.746 1384.27 Q114.746 1375.52 117.802 1370.94 Q120.88 1366.33 126.691 1366.33 Z\" fill=\"#000000\" fill-rule=\"evenodd\" fill-opacity=\"1\" /><path clip-path=\"url(#clip940)\" d=\"M146.853 1395.64 L151.737 1395.64 L151.737 1401.52 L146.853 1401.52 L146.853 1395.64 Z\" fill=\"#000000\" fill-rule=\"evenodd\" fill-opacity=\"1\" /><path clip-path=\"url(#clip940)\" d=\"M171.922 1370.04 Q168.311 1370.04 166.482 1373.6 Q164.677 1377.14 164.677 1384.27 Q164.677 1391.38 166.482 1394.94 Q168.311 1398.49 171.922 1398.49 Q175.556 1398.49 177.362 1394.94 Q179.19 1391.38 179.19 1384.27 Q179.19 1377.14 177.362 1373.6 Q175.556 1370.04 171.922 1370.04 M171.922 1366.33 Q177.732 1366.33 180.788 1370.94 Q183.866 1375.52 183.866 1384.27 Q183.866 1393 180.788 1397.61 Q177.732 1402.19 171.922 1402.19 Q166.112 1402.19 163.033 1397.61 Q159.978 1393 159.978 1384.27 Q159.978 1375.52 163.033 1370.94 Q166.112 1366.33 171.922 1366.33 Z\" fill=\"#000000\" fill-rule=\"evenodd\" fill-opacity=\"1\" /><path clip-path=\"url(#clip940)\" d=\"M128.288 995.498 Q124.677 995.498 122.848 999.063 Q121.043 1002.6 121.043 1009.73 Q121.043 1016.84 122.848 1020.41 Q124.677 1023.95 128.288 1023.95 Q131.922 1023.95 133.728 1020.41 Q135.556 1016.84 135.556 1009.73 Q135.556 1002.6 133.728 999.063 Q131.922 995.498 128.288 995.498 M128.288 991.794 Q134.098 991.794 137.154 996.401 Q140.232 1000.98 140.232 1009.73 Q140.232 1018.46 137.154 1023.07 Q134.098 1027.65 128.288 1027.65 Q122.478 1027.65 119.399 1023.07 Q116.343 1018.46 116.343 1009.73 Q116.343 1000.98 119.399 996.401 Q122.478 991.794 128.288 991.794 Z\" fill=\"#000000\" fill-rule=\"evenodd\" fill-opacity=\"1\" /><path clip-path=\"url(#clip940)\" d=\"M148.45 1021.1 L153.334 1021.1 L153.334 1026.98 L148.45 1026.98 L148.45 1021.1 Z\" fill=\"#000000\" fill-rule=\"evenodd\" fill-opacity=\"1\" /><path clip-path=\"url(#clip940)\" d=\"M167.547 1023.04 L183.866 1023.04 L183.866 1026.98 L161.922 1026.98 L161.922 1023.04 Q164.584 1020.29 169.167 1015.66 Q173.774 1011.01 174.954 1009.66 Q177.2 1007.14 178.079 1005.41 Q178.982 1003.65 178.982 1001.96 Q178.982 999.202 177.038 997.466 Q175.116 995.73 172.014 995.73 Q169.815 995.73 167.362 996.494 Q164.931 997.257 162.153 998.808 L162.153 994.086 Q164.977 992.952 167.431 992.373 Q169.885 991.794 171.922 991.794 Q177.292 991.794 180.487 994.48 Q183.681 997.165 183.681 1001.66 Q183.681 1003.79 182.871 1005.71 Q182.084 1007.6 179.977 1010.2 Q179.399 1010.87 176.297 1014.09 Q173.195 1017.28 167.547 1023.04 Z\" fill=\"#000000\" fill-rule=\"evenodd\" fill-opacity=\"1\" /><path clip-path=\"url(#clip940)\" d=\"M126.205 620.959 Q122.593 620.959 120.765 624.524 Q118.959 628.066 118.959 635.195 Q118.959 642.302 120.765 645.867 Q122.593 649.408 126.205 649.408 Q129.839 649.408 131.644 645.867 Q133.473 642.302 133.473 635.195 Q133.473 628.066 131.644 624.524 Q129.839 620.959 126.205 620.959 M126.205 617.256 Q132.015 617.256 135.07 621.862 Q138.149 626.445 138.149 635.195 Q138.149 643.922 135.07 648.529 Q132.015 653.112 126.205 653.112 Q120.394 653.112 117.316 648.529 Q114.26 643.922 114.26 635.195 Q114.26 626.445 117.316 621.862 Q120.394 617.256 126.205 617.256 Z\" fill=\"#000000\" fill-rule=\"evenodd\" fill-opacity=\"1\" /><path clip-path=\"url(#clip940)\" d=\"M146.366 646.561 L151.251 646.561 L151.251 652.441 L146.366 652.441 L146.366 646.561 Z\" fill=\"#000000\" fill-rule=\"evenodd\" fill-opacity=\"1\" /><path clip-path=\"url(#clip940)\" d=\"M174.283 621.955 L162.477 640.404 L174.283 640.404 L174.283 621.955 M173.056 617.881 L178.936 617.881 L178.936 640.404 L183.866 640.404 L183.866 644.293 L178.936 644.293 L178.936 652.441 L174.283 652.441 L174.283 644.293 L158.681 644.293 L158.681 639.779 L173.056 617.881 Z\" fill=\"#000000\" fill-rule=\"evenodd\" fill-opacity=\"1\" /><path clip-path=\"url(#clip940)\" d=\"M126.529 246.421 Q122.918 246.421 121.089 249.985 Q119.283 253.527 119.283 260.657 Q119.283 267.763 121.089 271.328 Q122.918 274.869 126.529 274.869 Q130.163 274.869 131.968 271.328 Q133.797 267.763 133.797 260.657 Q133.797 253.527 131.968 249.985 Q130.163 246.421 126.529 246.421 M126.529 242.717 Q132.339 242.717 135.394 247.323 Q138.473 251.907 138.473 260.657 Q138.473 269.383 135.394 273.99 Q132.339 278.573 126.529 278.573 Q120.718 278.573 117.64 273.99 Q114.584 269.383 114.584 260.657 Q114.584 251.907 117.64 247.323 Q120.718 242.717 126.529 242.717 Z\" fill=\"#000000\" fill-rule=\"evenodd\" fill-opacity=\"1\" /><path clip-path=\"url(#clip940)\" d=\"M146.691 272.022 L151.575 272.022 L151.575 277.902 L146.691 277.902 L146.691 272.022 Z\" fill=\"#000000\" fill-rule=\"evenodd\" fill-opacity=\"1\" /><path clip-path=\"url(#clip940)\" d=\"M172.339 258.758 Q169.19 258.758 167.339 260.911 Q165.51 263.064 165.51 266.814 Q165.51 270.541 167.339 272.717 Q169.19 274.869 172.339 274.869 Q175.487 274.869 177.315 272.717 Q179.167 270.541 179.167 266.814 Q179.167 263.064 177.315 260.911 Q175.487 258.758 172.339 258.758 M181.621 244.106 L181.621 248.365 Q179.862 247.532 178.056 247.092 Q176.274 246.652 174.514 246.652 Q169.885 246.652 167.431 249.777 Q165.001 252.902 164.653 259.221 Q166.019 257.208 168.079 256.143 Q170.139 255.055 172.616 255.055 Q177.825 255.055 180.834 258.226 Q183.866 261.374 183.866 266.814 Q183.866 272.138 180.718 275.356 Q177.57 278.573 172.339 278.573 Q166.343 278.573 163.172 273.99 Q160.001 269.383 160.001 260.657 Q160.001 252.462 163.89 247.601 Q167.778 242.717 174.329 242.717 Q176.089 242.717 177.871 243.064 Q179.676 243.411 181.621 244.106 Z\" fill=\"#000000\" fill-rule=\"evenodd\" fill-opacity=\"1\" /><path clip-path=\"url(#clip940)\" d=\"M18.0438 766.484 L24.314 766.484 Q22.5634 770.144 21.704 773.39 Q20.8447 776.637 20.8447 779.661 Q20.8447 784.912 22.8817 787.777 Q24.9187 790.61 28.6745 790.61 Q31.8255 790.61 33.4488 788.732 Q35.0402 786.822 36.0269 781.538 L36.8226 777.655 Q38.1912 770.462 41.6605 767.056 Q45.098 763.619 50.8908 763.619 Q57.7976 763.619 61.3624 768.266 Q64.9272 772.881 64.9272 781.825 Q64.9272 785.199 64.1633 789.018 Q63.3994 792.806 61.9035 796.88 L55.2831 796.88 Q57.4793 792.965 58.5933 789.209 Q59.7073 785.453 59.7073 781.825 Q59.7073 776.319 57.543 773.327 Q55.3786 770.335 51.3682 770.335 Q47.8671 770.335 45.8937 772.499 Q43.9204 774.632 42.9337 779.533 L42.1698 783.448 Q40.7375 790.641 37.682 793.856 Q34.6264 797.071 29.1837 797.071 Q22.8817 797.071 19.2532 792.647 Q15.6248 788.191 15.6248 780.393 Q15.6248 777.051 16.2295 773.581 Q16.8343 770.112 18.0438 766.484 Z\" fill=\"#000000\" fill-rule=\"evenodd\" fill-opacity=\"1\" /><path clip-path=\"url(#clip940)\" d=\"M14.5426 739.779 Q21.8632 744.044 29.0246 746.113 Q36.186 748.182 43.5384 748.182 Q50.8908 748.182 58.1159 746.113 Q65.3091 744.013 72.5979 739.779 L72.5979 744.872 Q65.1182 749.646 57.8931 752.033 Q50.668 754.389 43.5384 754.389 Q36.4406 754.389 29.2474 752.033 Q22.0542 749.678 14.5426 744.872 L14.5426 739.779 Z\" fill=\"#000000\" fill-rule=\"evenodd\" fill-opacity=\"1\" /><path clip-path=\"url(#clip940)\" d=\"M58.657 722.751 L77.5631 722.751 L77.5631 728.639 L28.3562 728.639 L28.3562 722.751 L33.7671 722.751 Q30.5842 720.905 29.0564 718.104 Q27.4968 715.271 27.4968 711.356 Q27.4968 704.863 32.6531 700.821 Q37.8093 696.747 46.212 696.747 Q54.6147 696.747 59.771 700.821 Q64.9272 704.863 64.9272 711.356 Q64.9272 715.271 63.3994 718.104 Q61.8398 720.905 58.657 722.751 M46.212 702.826 Q39.7508 702.826 36.0905 705.5 Q32.3984 708.142 32.3984 712.789 Q32.3984 717.436 36.0905 720.109 Q39.7508 722.751 46.212 722.751 Q52.6732 722.751 56.3653 720.109 Q60.0256 717.436 60.0256 712.789 Q60.0256 708.142 56.3653 705.5 Q52.6732 702.826 46.212 702.826 Z\" fill=\"#000000\" fill-rule=\"evenodd\" fill-opacity=\"1\" /><path clip-path=\"url(#clip940)\" d=\"M14.5426 687.963 L14.5426 682.87 Q22.0542 678.096 29.2474 675.74 Q36.4406 673.353 43.5384 673.353 Q50.668 673.353 57.8931 675.74 Q65.1182 678.096 72.5979 682.87 L72.5979 687.963 Q65.3091 683.729 58.1159 681.66 Q50.8908 679.56 43.5384 679.56 Q36.186 679.56 29.0246 681.66 Q21.8632 683.729 14.5426 687.963 Z\" fill=\"#000000\" fill-rule=\"evenodd\" fill-opacity=\"1\" /><polyline clip-path=\"url(#clip942)\" style=\"stroke:#009af9; stroke-linecap:butt; stroke-linejoin:round; stroke-width:4; stroke-opacity:1; fill:none\" points=\"\n",
       "  280.231,1384.24 380.839,1012.48 481.447,775.457 582.055,592.633 682.663,447.138 783.271,331.157 883.879,240.276 984.487,171.769 1085.1,123.893 1185.7,95.5648 \n",
       "  1286.31,86.1857 1386.92,95.5648 1487.53,123.893 1588.14,171.769 1688.74,240.276 1789.35,331.157 1889.96,447.138 1990.57,592.633 2091.18,775.457 2191.78,1012.48 \n",
       "  2292.39,1384.24 \n",
       "  \"/>\n",
       "</svg>\n"
      ]
     },
     "execution_count": 31,
     "metadata": {},
     "output_type": "execute_result"
    }
   ],
   "source": [
    "# visualize binary entropy\n",
    "plot(0:0.05:1, binary_entropy.(0:0.05:1), xlabel=\"p\", ylabel=\"S(p)\", legend=false)"
   ]
  },
  {
   "cell_type": "code",
   "execution_count": 32,
   "metadata": {},
   "outputs": [
    {
     "data": {
      "text/plain": [
       "neumann_entropy"
      ]
     },
     "execution_count": 32,
     "metadata": {},
     "output_type": "execute_result"
    }
   ],
   "source": [
    "\"\"\"\n",
    "Compute the von Neumann entropy of a density matrix `ρ`.\n",
    "\"\"\"\n",
    "neumann_entropy(ρ::AbstractMatrix) = -sum(xlogx.(real(eigvals(Matrix(ρ)))))"
   ]
  },
  {
   "cell_type": "code",
   "execution_count": 33,
   "metadata": {},
   "outputs": [
    {
     "data": {
      "text/plain": [
       "ftarget (generic function with 1 method)"
      ]
     },
     "execution_count": 33,
     "metadata": {},
     "output_type": "execute_result"
    }
   ],
   "source": [
    "# target function: β tr[ρ H] - S(ρ), with ρ = U ρlatent U†\n",
    "ftarget(θlist) = β * apply(latent_density(θlist), circ)[1] - sum(binary_entropy.((1 .+ cos.(θlist)) / 2))"
   ]
  },
  {
   "cell_type": "code",
   "execution_count": 34,
   "metadata": {},
   "outputs": [
    {
     "data": {
      "text/plain": [
       "6-element Vector{Float64}:\n",
       " 2.0318529706098656\n",
       " 2.717020097618788\n",
       " 0.9989301137413403\n",
       " 1.827423480478452\n",
       " 1.0620257822930346\n",
       " 1.703306429578291"
      ]
     },
     "execution_count": 34,
     "metadata": {},
     "output_type": "execute_result"
    }
   ],
   "source": [
    "# initial random θ parameters, which are to be optimized\n",
    "θopt = π/2 * (1 .+ 0.5*randn(L))"
   ]
  },
  {
   "cell_type": "code",
   "execution_count": 35,
   "metadata": {},
   "outputs": [
    {
     "data": {
      "text/plain": [
       "-3.4045424285034054"
      ]
     },
     "execution_count": 35,
     "metadata": {},
     "output_type": "execute_result"
    }
   ],
   "source": [
    "# example\n",
    "ftarget(θopt)"
   ]
  },
  {
   "cell_type": "code",
   "execution_count": 36,
   "metadata": {},
   "outputs": [
    {
     "data": {
      "text/plain": [
       "-7.304052225265423e-7"
      ]
     },
     "execution_count": 36,
     "metadata": {},
     "output_type": "execute_result"
    }
   ],
   "source": [
    "# consistency check\n",
    "neumann_entropy(matrix(apply(latent_density(θopt), cgc))) - sum(binary_entropy.((1 .+ cos.(θopt)) / 2))"
   ]
  },
  {
   "cell_type": "code",
   "execution_count": 37,
   "metadata": {},
   "outputs": [
    {
     "data": {
      "text/plain": [
       "trdistance"
      ]
     },
     "execution_count": 37,
     "metadata": {},
     "output_type": "execute_result"
    }
   ],
   "source": [
    "\"\"\"\n",
    "Trace distance to target density matrix `σ`.\n",
    "\"\"\"\n",
    "trdistance(θlist, σ) = 0.5 * opnorm(matrix(apply(latent_density(θlist), cgc)) - σ, 1)"
   ]
  },
  {
   "cell_type": "code",
   "execution_count": 38,
   "metadata": {},
   "outputs": [
    {
     "data": {
      "text/plain": [
       "0.1580962285190922"
      ]
     },
     "execution_count": 38,
     "metadata": {},
     "output_type": "execute_result"
    }
   ],
   "source": [
    "# example\n",
    "trdistance(θopt, σtherm)"
   ]
  },
  {
   "cell_type": "markdown",
   "metadata": {},
   "source": [
    "## Perform optimization"
   ]
  },
  {
   "cell_type": "code",
   "execution_count": 39,
   "metadata": {},
   "outputs": [
    {
     "data": {
      "text/plain": [
       "Params([Float32[0.040983554, 0.40255836, 0.052698717], Float32[-0.18232352, -0.090331964, -0.23458481], Float32[-0.05776069, 0.26747993, -0.082058355], Float32[0.20918545, 0.021930521, -0.037663504], Float32[0.07177894, 0.4778533, 0.031728465], Float32[-0.05435562, 0.09969929, 0.12545373], Float32[0.06536225], Float32[0.06538801], Float32[-0.0025789517], Float32[0.07517289], Float32[-0.20450656], Float32[0.15270717], Float32[0.24226269], Float32[0.12700617], Float32[0.1032697], Float32[0.15523788, 0.25014, 0.023242695], Float32[-0.23708455, 0.37828633, 0.06864064], Float32[-0.29249632, -0.1975691, 0.27519658], Float32[0.20765826, 0.12546287, 0.07934507], Float32[0.025782868, -0.016668057, -0.0030892137], Float32[0.019070923, -0.2959702, -0.122801594], Float32[-0.19996083], Float32[0.16453618], Float32[-0.1413626], Float32[0.10085954], Float32[-0.38797143], Float32[-0.42302066], Float32[-0.1435571, -0.06259261, -0.09940565], Float32[0.05932232, 0.14004058, 0.14094594], Float32[-0.12282301, 0.18269998, 0.13822873], Float32[-0.16693018, -0.091183335, -0.024416452], Float32[0.12726356, -0.10762896, -0.11706082], Float32[0.02451601, -0.095727436, -0.07154836], Float32[0.25357822], Float32[0.16726197], Float32[-0.027558237], Float32[0.011515793], Float32[-0.25561082], Float32[-0.07055576], Float32[0.15574162], Float32[0.013619483], Float32[0.26867974], [2.0318529706098656, 2.717020097618788, 0.9989301137413403, 1.827423480478452, 1.0620257822930346, 1.703306429578291]])"
      ]
     },
     "execution_count": 39,
     "metadata": {},
     "output_type": "execute_result"
    }
   ],
   "source": [
    "# gather parameters from circuit\n",
    "paras = Flux.params(circ)\n",
    "# measurement operator (Hamiltonian) not \"trainable\" here\n",
    "delete!(paras, circ.meas[1].operator)\n",
    "# add θ parameters\n",
    "Flux.params!(paras, θopt)\n",
    "paras"
   ]
  },
  {
   "cell_type": "code",
   "execution_count": 40,
   "metadata": {},
   "outputs": [
    {
     "name": "stdout",
     "output_type": "stream",
     "text": [
      "ftarget(θopt): -3.8078123277395046, reference: -5.974568533204815; trdistance(θopt, σtherm): 0.09304344968001448\n",
      "ftarget(θopt): -5.062739362531575, reference: -5.974568533204815; trdistance(θopt, σtherm): 0.09923470591479783\n",
      "ftarget(θopt): -5.0783605590405445, reference: -5.974568533204815; trdistance(θopt, σtherm): 0.10650343740452659\n",
      "ftarget(θopt): -5.079034989199891, reference: -5.974568533204815; trdistance(θopt, σtherm): 0.10340607401604444\n",
      "ftarget(θopt): -5.0661708497557285, reference: -5.974568533204815; trdistance(θopt, σtherm): 0.09890088655326984\n",
      "ftarget(θopt): -5.089324888199436, reference: -5.974568533204815; trdistance(θopt, σtherm): 0.09929270270215339\n",
      "ftarget(θopt): -5.100506874880439, reference: -5.974568533204815; trdistance(θopt, σtherm): 0.09389422891624996\n",
      "ftarget(θopt): -5.088653536256394, reference: -5.974568533204815; trdistance(θopt, σtherm): 0.10653916776205019\n",
      "ftarget(θopt): -5.101507146557374, reference: -5.974568533204815; trdistance(θopt, σtherm): 0.105862362889609\n"
     ]
    }
   ],
   "source": [
    "# there is not actually any input data for training\n",
    "data = ncycle([()], 200)\n",
    "\n",
    "# define optimizer\n",
    "opt = RMSProp(0.05)\n",
    "\n",
    "# define evaluation function\n",
    "evalcb() = println(\"ftarget(θopt): $(ftarget(θopt)), reference: $(thermal_logZ(β*H)); trdistance(θopt, σtherm): $(trdistance(θopt, σtherm))\")\n",
    "\n",
    "# perform optimization\n",
    "Flux.train!(() -> ftarget(θopt), paras, data, opt, cb=Flux.throttle(evalcb, 4.0))"
   ]
  },
  {
   "cell_type": "code",
   "execution_count": 41,
   "metadata": {},
   "outputs": [
    {
     "data": {
      "text/plain": [
       "0.09954551276510074"
      ]
     },
     "execution_count": 41,
     "metadata": {},
     "output_type": "execute_result"
    }
   ],
   "source": [
    "# seems like the Ansatz is too restricted, or the optimization trapped in a local minimum, to further descrease the distance\n",
    "trdistance(θopt, σtherm)"
   ]
  },
  {
   "cell_type": "code",
   "execution_count": 42,
   "metadata": {},
   "outputs": [
    {
     "data": {
      "text/plain": [
       "DensityMatrix(Float32[1.0, -0.2574142, -0.22260246, -0.046752844, -0.27132773, 0.3369535, 0.09101708, -0.030676048, -0.11435073, -0.001410556  …  0.0002822072, -0.00055167964, -0.0011726355, 0.00021294449, 0.0010414027, -0.00018670928, -0.00046235285, 0.00030048873, 0.00029659903, 0.00033298373], 6, Float32[2.2f-44, 0.0, 1.7f-44, 0.0, 2.0f-44, 0.0, 2.1f-44, 0.0, 1.1f-44, 0.0  …  -1.0842022f-19, 1.0699999, 0.0, 0.0, -1.0842022f-19, 1.0699999, 0.0, 0.0, -1.0842022f-19, 1.0699999])"
      ]
     },
     "execution_count": 42,
     "metadata": {},
     "output_type": "execute_result"
    }
   ],
   "source": [
    "# optimized variational density matrix\n",
    "ρopt = apply(latent_density(θopt), cgc)"
   ]
  },
  {
   "cell_type": "code",
   "execution_count": 43,
   "metadata": {},
   "outputs": [
    {
     "data": {
      "image/svg+xml": [
       "<?xml version=\"1.0\" encoding=\"utf-8\"?>\n",
       "<svg xmlns=\"http://www.w3.org/2000/svg\" xmlns:xlink=\"http://www.w3.org/1999/xlink\" width=\"600\" height=\"400\" viewBox=\"0 0 2400 1600\">\n",
       "<defs>\n",
       "  <clipPath id=\"clip980\">\n",
       "    <rect x=\"0\" y=\"0\" width=\"2400\" height=\"1600\"/>\n",
       "  </clipPath>\n",
       "</defs>\n",
       "<path clip-path=\"url(#clip980)\" d=\"\n",
       "M0 1600 L2400 1600 L2400 0 L0 0  Z\n",
       "  \" fill=\"#ffffff\" fill-rule=\"evenodd\" fill-opacity=\"1\"/>\n",
       "<defs>\n",
       "  <clipPath id=\"clip981\">\n",
       "    <rect x=\"480\" y=\"0\" width=\"1681\" height=\"1600\"/>\n",
       "  </clipPath>\n",
       "</defs>\n",
       "<defs>\n",
       "  <clipPath id=\"clip982\">\n",
       "    <rect x=\"219\" y=\"47\" width=\"2134\" height=\"1377\"/>\n",
       "  </clipPath>\n",
       "</defs>\n",
       "<path clip-path=\"url(#clip980)\" d=\"\n",
       "M141.853 1412.35 L2112.76 1412.35 L2112.76 195.378 L141.853 195.378  Z\n",
       "  \" fill=\"#ffffff\" fill-rule=\"evenodd\" fill-opacity=\"1\"/>\n",
       "<defs>\n",
       "  <clipPath id=\"clip983\">\n",
       "    <rect x=\"141\" y=\"195\" width=\"1972\" height=\"1218\"/>\n",
       "  </clipPath>\n",
       "</defs>\n",
       "<polyline clip-path=\"url(#clip983)\" style=\"stroke:#000000; stroke-linecap:butt; stroke-linejoin:round; stroke-width:2; stroke-opacity:0.1; fill:none\" points=\"\n",
       "  509.31,195.378 509.31,1412.35 \n",
       "  \"/>\n",
       "<polyline clip-path=\"url(#clip983)\" style=\"stroke:#000000; stroke-linecap:butt; stroke-linejoin:round; stroke-width:2; stroke-opacity:0.1; fill:none\" points=\"\n",
       "  889.614,195.378 889.614,1412.35 \n",
       "  \"/>\n",
       "<polyline clip-path=\"url(#clip983)\" style=\"stroke:#000000; stroke-linecap:butt; stroke-linejoin:round; stroke-width:2; stroke-opacity:0.1; fill:none\" points=\"\n",
       "  1269.92,195.378 1269.92,1412.35 \n",
       "  \"/>\n",
       "<polyline clip-path=\"url(#clip983)\" style=\"stroke:#000000; stroke-linecap:butt; stroke-linejoin:round; stroke-width:2; stroke-opacity:0.1; fill:none\" points=\"\n",
       "  1650.22,195.378 1650.22,1412.35 \n",
       "  \"/>\n",
       "<polyline clip-path=\"url(#clip983)\" style=\"stroke:#000000; stroke-linecap:butt; stroke-linejoin:round; stroke-width:2; stroke-opacity:0.1; fill:none\" points=\"\n",
       "  2030.53,195.378 2030.53,1412.35 \n",
       "  \"/>\n",
       "<polyline clip-path=\"url(#clip980)\" style=\"stroke:#000000; stroke-linecap:butt; stroke-linejoin:round; stroke-width:4; stroke-opacity:1; fill:none\" points=\"\n",
       "  141.853,1412.35 2112.76,1412.35 \n",
       "  \"/>\n",
       "<polyline clip-path=\"url(#clip980)\" style=\"stroke:#000000; stroke-linecap:butt; stroke-linejoin:round; stroke-width:4; stroke-opacity:1; fill:none\" points=\"\n",
       "  509.31,1412.35 509.31,1395.51 \n",
       "  \"/>\n",
       "<polyline clip-path=\"url(#clip980)\" style=\"stroke:#000000; stroke-linecap:butt; stroke-linejoin:round; stroke-width:4; stroke-opacity:1; fill:none\" points=\"\n",
       "  889.614,1412.35 889.614,1395.51 \n",
       "  \"/>\n",
       "<polyline clip-path=\"url(#clip980)\" style=\"stroke:#000000; stroke-linecap:butt; stroke-linejoin:round; stroke-width:4; stroke-opacity:1; fill:none\" points=\"\n",
       "  1269.92,1412.35 1269.92,1395.51 \n",
       "  \"/>\n",
       "<polyline clip-path=\"url(#clip980)\" style=\"stroke:#000000; stroke-linecap:butt; stroke-linejoin:round; stroke-width:4; stroke-opacity:1; fill:none\" points=\"\n",
       "  1650.22,1412.35 1650.22,1395.51 \n",
       "  \"/>\n",
       "<polyline clip-path=\"url(#clip980)\" style=\"stroke:#000000; stroke-linecap:butt; stroke-linejoin:round; stroke-width:4; stroke-opacity:1; fill:none\" points=\"\n",
       "  2030.53,1412.35 2030.53,1395.51 \n",
       "  \"/>\n",
       "<path clip-path=\"url(#clip980)\" d=\"M509.31 1443.27 Q505.699 1443.27 503.87 1446.83 Q502.065 1450.38 502.065 1457.51 Q502.065 1464.61 503.87 1468.18 Q505.699 1471.72 509.31 1471.72 Q512.944 1471.72 514.75 1468.18 Q516.579 1464.61 516.579 1457.51 Q516.579 1450.38 514.75 1446.83 Q512.944 1443.27 509.31 1443.27 M509.31 1439.57 Q515.12 1439.57 518.176 1444.17 Q521.254 1448.76 521.254 1457.51 Q521.254 1466.23 518.176 1470.84 Q515.12 1475.42 509.31 1475.42 Q503.5 1475.42 500.421 1470.84 Q497.366 1466.23 497.366 1457.51 Q497.366 1448.76 500.421 1444.17 Q503.5 1439.57 509.31 1439.57 Z\" fill=\"#000000\" fill-rule=\"evenodd\" fill-opacity=\"1\" /><path clip-path=\"url(#clip980)\" d=\"M868.388 1470.82 L884.707 1470.82 L884.707 1474.75 L862.763 1474.75 L862.763 1470.82 Q865.425 1468.06 870.008 1463.43 Q874.614 1458.78 875.795 1457.44 Q878.04 1454.91 878.92 1453.18 Q879.823 1451.42 879.823 1449.73 Q879.823 1446.97 877.878 1445.24 Q875.957 1443.5 872.855 1443.5 Q870.656 1443.5 868.202 1444.27 Q865.772 1445.03 862.994 1446.58 L862.994 1441.86 Q865.818 1440.72 868.272 1440.15 Q870.725 1439.57 872.763 1439.57 Q878.133 1439.57 881.327 1442.25 Q884.522 1444.94 884.522 1449.43 Q884.522 1451.56 883.712 1453.48 Q882.924 1455.38 880.818 1457.97 Q880.239 1458.64 877.137 1461.86 Q874.036 1465.05 868.388 1470.82 Z\" fill=\"#000000\" fill-rule=\"evenodd\" fill-opacity=\"1\" /><path clip-path=\"url(#clip980)\" d=\"M904.522 1443.27 Q900.911 1443.27 899.082 1446.83 Q897.276 1450.38 897.276 1457.51 Q897.276 1464.61 899.082 1468.18 Q900.911 1471.72 904.522 1471.72 Q908.156 1471.72 909.961 1468.18 Q911.79 1464.61 911.79 1457.51 Q911.79 1450.38 909.961 1446.83 Q908.156 1443.27 904.522 1443.27 M904.522 1439.57 Q910.332 1439.57 913.387 1444.17 Q916.466 1448.76 916.466 1457.51 Q916.466 1466.23 913.387 1470.84 Q910.332 1475.42 904.522 1475.42 Q898.711 1475.42 895.633 1470.84 Q892.577 1466.23 892.577 1457.51 Q892.577 1448.76 895.633 1444.17 Q898.711 1439.57 904.522 1439.57 Z\" fill=\"#000000\" fill-rule=\"evenodd\" fill-opacity=\"1\" /><path clip-path=\"url(#clip980)\" d=\"M1258.09 1444.27 L1246.28 1462.71 L1258.09 1462.71 L1258.09 1444.27 M1256.86 1440.19 L1262.74 1440.19 L1262.74 1462.71 L1267.67 1462.71 L1267.67 1466.6 L1262.74 1466.6 L1262.74 1474.75 L1258.09 1474.75 L1258.09 1466.6 L1242.49 1466.6 L1242.49 1462.09 L1256.86 1440.19 Z\" fill=\"#000000\" fill-rule=\"evenodd\" fill-opacity=\"1\" /><path clip-path=\"url(#clip980)\" d=\"M1285.4 1443.27 Q1281.79 1443.27 1279.96 1446.83 Q1278.16 1450.38 1278.16 1457.51 Q1278.16 1464.61 1279.96 1468.18 Q1281.79 1471.72 1285.4 1471.72 Q1289.04 1471.72 1290.84 1468.18 Q1292.67 1464.61 1292.67 1457.51 Q1292.67 1450.38 1290.84 1446.83 Q1289.04 1443.27 1285.4 1443.27 M1285.4 1439.57 Q1291.21 1439.57 1294.27 1444.17 Q1297.35 1448.76 1297.35 1457.51 Q1297.35 1466.23 1294.27 1470.84 Q1291.21 1475.42 1285.4 1475.42 Q1279.59 1475.42 1276.52 1470.84 Q1273.46 1466.23 1273.46 1457.51 Q1273.46 1448.76 1276.52 1444.17 Q1279.59 1439.57 1285.4 1439.57 Z\" fill=\"#000000\" fill-rule=\"evenodd\" fill-opacity=\"1\" /><path clip-path=\"url(#clip980)\" d=\"M1635.63 1455.61 Q1632.48 1455.61 1630.63 1457.76 Q1628.8 1459.91 1628.8 1463.66 Q1628.8 1467.39 1630.63 1469.57 Q1632.48 1471.72 1635.63 1471.72 Q1638.78 1471.72 1640.6 1469.57 Q1642.46 1467.39 1642.46 1463.66 Q1642.46 1459.91 1640.6 1457.76 Q1638.78 1455.61 1635.63 1455.61 M1644.91 1440.96 L1644.91 1445.21 Q1643.15 1444.38 1641.35 1443.94 Q1639.56 1443.5 1637.8 1443.5 Q1633.17 1443.5 1630.72 1446.63 Q1628.29 1449.75 1627.94 1456.07 Q1629.31 1454.06 1631.37 1452.99 Q1633.43 1451.9 1635.91 1451.9 Q1641.11 1451.9 1644.12 1455.08 Q1647.16 1458.22 1647.16 1463.66 Q1647.16 1468.99 1644.01 1472.21 Q1640.86 1475.42 1635.63 1475.42 Q1629.63 1475.42 1626.46 1470.84 Q1623.29 1466.23 1623.29 1457.51 Q1623.29 1449.31 1627.18 1444.45 Q1631.07 1439.57 1637.62 1439.57 Q1639.38 1439.57 1641.16 1439.91 Q1642.97 1440.26 1644.91 1440.96 Z\" fill=\"#000000\" fill-rule=\"evenodd\" fill-opacity=\"1\" /><path clip-path=\"url(#clip980)\" d=\"M1665.21 1443.27 Q1661.6 1443.27 1659.77 1446.83 Q1657.97 1450.38 1657.97 1457.51 Q1657.97 1464.61 1659.77 1468.18 Q1661.6 1471.72 1665.21 1471.72 Q1668.85 1471.72 1670.65 1468.18 Q1672.48 1464.61 1672.48 1457.51 Q1672.48 1450.38 1670.65 1446.83 Q1668.85 1443.27 1665.21 1443.27 M1665.21 1439.57 Q1671.02 1439.57 1674.08 1444.17 Q1677.16 1448.76 1677.16 1457.51 Q1677.16 1466.23 1674.08 1470.84 Q1671.02 1475.42 1665.21 1475.42 Q1659.4 1475.42 1656.32 1470.84 Q1653.27 1466.23 1653.27 1457.51 Q1653.27 1448.76 1656.32 1444.17 Q1659.4 1439.57 1665.21 1439.57 Z\" fill=\"#000000\" fill-rule=\"evenodd\" fill-opacity=\"1\" /><path clip-path=\"url(#clip980)\" d=\"M2015.4 1458.34 Q2012.07 1458.34 2010.15 1460.12 Q2008.25 1461.9 2008.25 1465.03 Q2008.25 1468.15 2010.15 1469.94 Q2012.07 1471.72 2015.4 1471.72 Q2018.73 1471.72 2020.65 1469.94 Q2022.58 1468.13 2022.58 1465.03 Q2022.58 1461.9 2020.65 1460.12 Q2018.76 1458.34 2015.4 1458.34 M2010.72 1456.35 Q2007.71 1455.61 2006.02 1453.55 Q2004.36 1451.49 2004.36 1448.52 Q2004.36 1444.38 2007.3 1441.97 Q2010.26 1439.57 2015.4 1439.57 Q2020.56 1439.57 2023.5 1441.97 Q2026.44 1444.38 2026.44 1448.52 Q2026.44 1451.49 2024.75 1453.55 Q2023.08 1455.61 2020.1 1456.35 Q2023.48 1457.14 2025.35 1459.43 Q2027.25 1461.72 2027.25 1465.03 Q2027.25 1470.05 2024.17 1472.74 Q2021.12 1475.42 2015.4 1475.42 Q2009.68 1475.42 2006.6 1472.74 Q2003.55 1470.05 2003.55 1465.03 Q2003.55 1461.72 2005.45 1459.43 Q2007.34 1457.14 2010.72 1456.35 M2009.01 1448.96 Q2009.01 1451.65 2010.68 1453.15 Q2012.37 1454.66 2015.4 1454.66 Q2018.41 1454.66 2020.1 1453.15 Q2021.81 1451.65 2021.81 1448.96 Q2021.81 1446.28 2020.1 1444.77 Q2018.41 1443.27 2015.4 1443.27 Q2012.37 1443.27 2010.68 1444.77 Q2009.01 1446.28 2009.01 1448.96 Z\" fill=\"#000000\" fill-rule=\"evenodd\" fill-opacity=\"1\" /><path clip-path=\"url(#clip980)\" d=\"M2045.56 1443.27 Q2041.95 1443.27 2040.12 1446.83 Q2038.32 1450.38 2038.32 1457.51 Q2038.32 1464.61 2040.12 1468.18 Q2041.95 1471.72 2045.56 1471.72 Q2049.2 1471.72 2051 1468.18 Q2052.83 1464.61 2052.83 1457.51 Q2052.83 1450.38 2051 1446.83 Q2049.2 1443.27 2045.56 1443.27 M2045.56 1439.57 Q2051.37 1439.57 2054.43 1444.17 Q2057.51 1448.76 2057.51 1457.51 Q2057.51 1466.23 2054.43 1470.84 Q2051.37 1475.42 2045.56 1475.42 Q2039.75 1475.42 2036.67 1470.84 Q2033.62 1466.23 2033.62 1457.51 Q2033.62 1448.76 2036.67 1444.17 Q2039.75 1439.57 2045.56 1439.57 Z\" fill=\"#000000\" fill-rule=\"evenodd\" fill-opacity=\"1\" /><polyline clip-path=\"url(#clip983)\" style=\"stroke:#000000; stroke-linecap:butt; stroke-linejoin:round; stroke-width:2; stroke-opacity:0.1; fill:none\" points=\"\n",
       "  141.853,376.022 2112.76,376.022 \n",
       "  \"/>\n",
       "<polyline clip-path=\"url(#clip983)\" style=\"stroke:#000000; stroke-linecap:butt; stroke-linejoin:round; stroke-width:2; stroke-opacity:0.1; fill:none\" points=\"\n",
       "  141.853,566.175 2112.76,566.175 \n",
       "  \"/>\n",
       "<polyline clip-path=\"url(#clip983)\" style=\"stroke:#000000; stroke-linecap:butt; stroke-linejoin:round; stroke-width:2; stroke-opacity:0.1; fill:none\" points=\"\n",
       "  141.853,756.327 2112.76,756.327 \n",
       "  \"/>\n",
       "<polyline clip-path=\"url(#clip983)\" style=\"stroke:#000000; stroke-linecap:butt; stroke-linejoin:round; stroke-width:2; stroke-opacity:0.1; fill:none\" points=\"\n",
       "  141.853,946.479 2112.76,946.479 \n",
       "  \"/>\n",
       "<polyline clip-path=\"url(#clip983)\" style=\"stroke:#000000; stroke-linecap:butt; stroke-linejoin:round; stroke-width:2; stroke-opacity:0.1; fill:none\" points=\"\n",
       "  141.853,1136.63 2112.76,1136.63 \n",
       "  \"/>\n",
       "<polyline clip-path=\"url(#clip983)\" style=\"stroke:#000000; stroke-linecap:butt; stroke-linejoin:round; stroke-width:2; stroke-opacity:0.1; fill:none\" points=\"\n",
       "  141.853,1326.78 2112.76,1326.78 \n",
       "  \"/>\n",
       "<polyline clip-path=\"url(#clip980)\" style=\"stroke:#000000; stroke-linecap:butt; stroke-linejoin:round; stroke-width:4; stroke-opacity:1; fill:none\" points=\"\n",
       "  141.853,195.378 141.853,1412.35 \n",
       "  \"/>\n",
       "<polyline clip-path=\"url(#clip980)\" style=\"stroke:#000000; stroke-linecap:butt; stroke-linejoin:round; stroke-width:4; stroke-opacity:1; fill:none\" points=\"\n",
       "  141.853,376.022 158.699,376.022 \n",
       "  \"/>\n",
       "<polyline clip-path=\"url(#clip980)\" style=\"stroke:#000000; stroke-linecap:butt; stroke-linejoin:round; stroke-width:4; stroke-opacity:1; fill:none\" points=\"\n",
       "  141.853,566.175 158.699,566.175 \n",
       "  \"/>\n",
       "<polyline clip-path=\"url(#clip980)\" style=\"stroke:#000000; stroke-linecap:butt; stroke-linejoin:round; stroke-width:4; stroke-opacity:1; fill:none\" points=\"\n",
       "  141.853,756.327 158.699,756.327 \n",
       "  \"/>\n",
       "<polyline clip-path=\"url(#clip980)\" style=\"stroke:#000000; stroke-linecap:butt; stroke-linejoin:round; stroke-width:4; stroke-opacity:1; fill:none\" points=\"\n",
       "  141.853,946.479 158.699,946.479 \n",
       "  \"/>\n",
       "<polyline clip-path=\"url(#clip980)\" style=\"stroke:#000000; stroke-linecap:butt; stroke-linejoin:round; stroke-width:4; stroke-opacity:1; fill:none\" points=\"\n",
       "  141.853,1136.63 158.699,1136.63 \n",
       "  \"/>\n",
       "<polyline clip-path=\"url(#clip980)\" style=\"stroke:#000000; stroke-linecap:butt; stroke-linejoin:round; stroke-width:4; stroke-opacity:1; fill:none\" points=\"\n",
       "  141.853,1326.78 158.699,1326.78 \n",
       "  \"/>\n",
       "<path clip-path=\"url(#clip980)\" d=\"M54.5569 389.367 L62.1958 389.367 L62.1958 363.002 L53.8856 364.668 L53.8856 360.409 L62.1495 358.742 L66.8254 358.742 L66.8254 389.367 L74.4642 389.367 L74.4642 393.302 L54.5569 393.302 L54.5569 389.367 Z\" fill=\"#000000\" fill-rule=\"evenodd\" fill-opacity=\"1\" /><path clip-path=\"url(#clip980)\" d=\"M93.9086 361.821 Q90.2975 361.821 88.4688 365.386 Q86.6632 368.928 86.6632 376.057 Q86.6632 383.164 88.4688 386.728 Q90.2975 390.27 93.9086 390.27 Q97.5428 390.27 99.3483 386.728 Q101.177 383.164 101.177 376.057 Q101.177 368.928 99.3483 365.386 Q97.5428 361.821 93.9086 361.821 M93.9086 358.117 Q99.7187 358.117 102.774 362.724 Q105.853 367.307 105.853 376.057 Q105.853 384.784 102.774 389.39 Q99.7187 393.974 93.9086 393.974 Q88.0984 393.974 85.0197 389.39 Q81.9642 384.784 81.9642 376.057 Q81.9642 367.307 85.0197 362.724 Q88.0984 358.117 93.9086 358.117 Z\" fill=\"#000000\" fill-rule=\"evenodd\" fill-opacity=\"1\" /><path clip-path=\"url(#clip980)\" d=\"M57.7745 579.519 L74.0939 579.519 L74.0939 583.455 L52.1495 583.455 L52.1495 579.519 Q54.8115 576.765 59.3949 572.135 Q64.0013 567.482 65.1819 566.14 Q67.4272 563.617 68.3068 561.881 Q69.2096 560.121 69.2096 558.432 Q69.2096 555.677 67.2652 553.941 Q65.3439 552.205 62.2421 552.205 Q60.043 552.205 57.5893 552.969 Q55.1588 553.732 52.381 555.283 L52.381 550.561 Q55.2051 549.427 57.6588 548.848 Q60.1124 548.27 62.1495 548.27 Q67.5198 548.27 70.7142 550.955 Q73.9087 553.64 73.9087 558.131 Q73.9087 560.26 73.0985 562.182 Q72.3115 564.08 70.205 566.672 Q69.6263 567.344 66.5245 570.561 Q63.4226 573.756 57.7745 579.519 Z\" fill=\"#000000\" fill-rule=\"evenodd\" fill-opacity=\"1\" /><path clip-path=\"url(#clip980)\" d=\"M93.9086 551.973 Q90.2975 551.973 88.4688 555.538 Q86.6632 559.08 86.6632 566.209 Q86.6632 573.316 88.4688 576.881 Q90.2975 580.422 93.9086 580.422 Q97.5428 580.422 99.3483 576.881 Q101.177 573.316 101.177 566.209 Q101.177 559.08 99.3483 555.538 Q97.5428 551.973 93.9086 551.973 M93.9086 548.27 Q99.7187 548.27 102.774 552.876 Q105.853 557.459 105.853 566.209 Q105.853 574.936 102.774 579.543 Q99.7187 584.126 93.9086 584.126 Q88.0984 584.126 85.0197 579.543 Q81.9642 574.936 81.9642 566.209 Q81.9642 557.459 85.0197 552.876 Q88.0984 548.27 93.9086 548.27 Z\" fill=\"#000000\" fill-rule=\"evenodd\" fill-opacity=\"1\" /><path clip-path=\"url(#clip980)\" d=\"M67.9133 754.972 Q71.2698 755.69 73.1448 757.959 Q75.0429 760.227 75.0429 763.56 Q75.0429 768.676 71.5244 771.477 Q68.0059 774.278 61.5245 774.278 Q59.3486 774.278 57.0338 773.838 Q54.7421 773.421 52.2884 772.565 L52.2884 768.051 Q54.2328 769.185 56.5477 769.764 Q58.8625 770.343 61.3856 770.343 Q65.7837 770.343 68.0754 768.607 Q70.3902 766.871 70.3902 763.56 Q70.3902 760.505 68.2374 758.792 Q66.1078 757.056 62.2884 757.056 L58.2606 757.056 L58.2606 753.213 L62.4735 753.213 Q65.9226 753.213 67.7513 751.848 Q69.58 750.459 69.58 747.866 Q69.58 745.204 67.6819 743.792 Q65.8069 742.357 62.2884 742.357 Q60.3671 742.357 58.168 742.773 Q55.969 743.19 53.3301 744.07 L53.3301 739.903 Q55.9921 739.162 58.3069 738.792 Q60.6449 738.422 62.705 738.422 Q68.0291 738.422 71.1309 740.852 Q74.2327 743.26 74.2327 747.38 Q74.2327 750.25 72.5892 752.241 Q70.9457 754.209 67.9133 754.972 Z\" fill=\"#000000\" fill-rule=\"evenodd\" fill-opacity=\"1\" /><path clip-path=\"url(#clip980)\" d=\"M93.9086 742.125 Q90.2975 742.125 88.4688 745.69 Q86.6632 749.232 86.6632 756.361 Q86.6632 763.468 88.4688 767.033 Q90.2975 770.574 93.9086 770.574 Q97.5428 770.574 99.3483 767.033 Q101.177 763.468 101.177 756.361 Q101.177 749.232 99.3483 745.69 Q97.5428 742.125 93.9086 742.125 M93.9086 738.422 Q99.7187 738.422 102.774 743.028 Q105.853 747.611 105.853 756.361 Q105.853 765.088 102.774 769.695 Q99.7187 774.278 93.9086 774.278 Q88.0984 774.278 85.0197 769.695 Q81.9642 765.088 81.9642 756.361 Q81.9642 747.611 85.0197 743.028 Q88.0984 738.422 93.9086 738.422 Z\" fill=\"#000000\" fill-rule=\"evenodd\" fill-opacity=\"1\" /><path clip-path=\"url(#clip980)\" d=\"M66.5939 933.273 L54.7884 951.722 L66.5939 951.722 L66.5939 933.273 M65.367 929.199 L71.2466 929.199 L71.2466 951.722 L76.1772 951.722 L76.1772 955.611 L71.2466 955.611 L71.2466 963.759 L66.5939 963.759 L66.5939 955.611 L50.9921 955.611 L50.9921 951.097 L65.367 929.199 Z\" fill=\"#000000\" fill-rule=\"evenodd\" fill-opacity=\"1\" /><path clip-path=\"url(#clip980)\" d=\"M93.9086 932.277 Q90.2975 932.277 88.4688 935.842 Q86.6632 939.384 86.6632 946.513 Q86.6632 953.62 88.4688 957.185 Q90.2975 960.726 93.9086 960.726 Q97.5428 960.726 99.3483 957.185 Q101.177 953.62 101.177 946.513 Q101.177 939.384 99.3483 935.842 Q97.5428 932.277 93.9086 932.277 M93.9086 928.574 Q99.7187 928.574 102.774 933.18 Q105.853 937.764 105.853 946.513 Q105.853 955.24 102.774 959.847 Q99.7187 964.43 93.9086 964.43 Q88.0984 964.43 85.0197 959.847 Q81.9642 955.24 81.9642 946.513 Q81.9642 937.764 85.0197 933.18 Q88.0984 928.574 93.9086 928.574 Z\" fill=\"#000000\" fill-rule=\"evenodd\" fill-opacity=\"1\" /><path clip-path=\"url(#clip980)\" d=\"M53.793 1119.35 L72.1494 1119.35 L72.1494 1123.29 L58.0754 1123.29 L58.0754 1131.76 Q59.0939 1131.41 60.1124 1131.25 Q61.131 1131.06 62.1495 1131.06 Q67.9365 1131.06 71.3161 1134.24 Q74.6957 1137.41 74.6957 1142.82 Q74.6957 1148.4 71.2235 1151.5 Q67.7513 1154.58 61.4319 1154.58 Q59.256 1154.58 56.9875 1154.21 Q54.7421 1153.84 52.3347 1153.1 L52.3347 1148.4 Q54.418 1149.54 56.6402 1150.09 Q58.8625 1150.65 61.3393 1150.65 Q65.3439 1150.65 67.6819 1148.54 Q70.0198 1146.43 70.0198 1142.82 Q70.0198 1139.21 67.6819 1137.11 Q65.3439 1135 61.3393 1135 Q59.4643 1135 57.5893 1135.42 Q55.7375 1135.83 53.793 1136.71 L53.793 1119.35 Z\" fill=\"#000000\" fill-rule=\"evenodd\" fill-opacity=\"1\" /><path clip-path=\"url(#clip980)\" d=\"M93.9086 1122.43 Q90.2975 1122.43 88.4688 1125.99 Q86.6632 1129.54 86.6632 1136.67 Q86.6632 1143.77 88.4688 1147.34 Q90.2975 1150.88 93.9086 1150.88 Q97.5428 1150.88 99.3483 1147.34 Q101.177 1143.77 101.177 1136.67 Q101.177 1129.54 99.3483 1125.99 Q97.5428 1122.43 93.9086 1122.43 M93.9086 1118.73 Q99.7187 1118.73 102.774 1123.33 Q105.853 1127.92 105.853 1136.67 Q105.853 1145.39 102.774 1150 Q99.7187 1154.58 93.9086 1154.58 Q88.0984 1154.58 85.0197 1150 Q81.9642 1145.39 81.9642 1136.67 Q81.9642 1127.92 85.0197 1123.33 Q88.0984 1118.73 93.9086 1118.73 Z\" fill=\"#000000\" fill-rule=\"evenodd\" fill-opacity=\"1\" /><path clip-path=\"url(#clip980)\" d=\"M64.3254 1324.92 Q61.1773 1324.92 59.3254 1327.07 Q57.4967 1329.23 57.4967 1332.98 Q57.4967 1336.7 59.3254 1338.88 Q61.1773 1341.03 64.3254 1341.03 Q67.4735 1341.03 69.3022 1338.88 Q71.1541 1336.7 71.1541 1332.98 Q71.1541 1329.23 69.3022 1327.07 Q67.4735 1324.92 64.3254 1324.92 M73.6077 1310.27 L73.6077 1314.53 Q71.8485 1313.69 70.0429 1313.25 Q68.2606 1312.81 66.5013 1312.81 Q61.8717 1312.81 59.418 1315.94 Q56.9875 1319.06 56.6402 1325.38 Q58.006 1323.37 60.0662 1322.3 Q62.1263 1321.22 64.6032 1321.22 Q69.8115 1321.22 72.8207 1324.39 Q75.8531 1327.54 75.8531 1332.98 Q75.8531 1338.3 72.705 1341.52 Q69.5568 1344.73 64.3254 1344.73 Q58.33 1344.73 55.1588 1340.15 Q51.9875 1335.54 51.9875 1326.82 Q51.9875 1318.62 55.8764 1313.76 Q59.7652 1308.88 66.3161 1308.88 Q68.0754 1308.88 69.8578 1309.23 Q71.6633 1309.57 73.6077 1310.27 Z\" fill=\"#000000\" fill-rule=\"evenodd\" fill-opacity=\"1\" /><path clip-path=\"url(#clip980)\" d=\"M93.9086 1312.58 Q90.2975 1312.58 88.4688 1316.15 Q86.6632 1319.69 86.6632 1326.82 Q86.6632 1333.92 88.4688 1337.49 Q90.2975 1341.03 93.9086 1341.03 Q97.5428 1341.03 99.3483 1337.49 Q101.177 1333.92 101.177 1326.82 Q101.177 1319.69 99.3483 1316.15 Q97.5428 1312.58 93.9086 1312.58 M93.9086 1308.88 Q99.7187 1308.88 102.774 1313.48 Q105.853 1318.07 105.853 1326.82 Q105.853 1335.54 102.774 1340.15 Q99.7187 1344.73 93.9086 1344.73 Q88.0984 1344.73 85.0197 1340.15 Q81.9642 1335.54 81.9642 1326.82 Q81.9642 1318.07 85.0197 1313.48 Q88.0984 1308.88 93.9086 1308.88 Z\" fill=\"#000000\" fill-rule=\"evenodd\" fill-opacity=\"1\" /><path clip-path=\"url(#clip980)\" d=\"M1097.13 22.0729 Q1097.13 28.1393 1094.02 33.8368 Q1090.94 39.5343 1086.1 42.9774 Q1081.31 46.4205 1076.47 46.4205 Q1071.02 46.4205 1068.19 40.764 Q1063.07 61.2996 1062.78 61.8325 Q1061.59 63.595 1059.87 63.595 Q1058.81 63.595 1058.15 62.9392 Q1057.49 62.3244 1057.49 61.3406 Q1057.53 61.0127 1057.78 59.988 L1065.98 26.9916 Q1067.86 19.3266 1073.56 13.875 Q1079.3 8.38248 1085.45 8.38248 Q1090.33 8.38248 1093.73 12.0305 Q1097.13 15.6786 1097.13 22.0729 M1091.1 18.4658 Q1091.1 14.3669 1089.47 12.3175 Q1087.83 10.227 1085.28 10.227 Q1082.95 10.227 1080.12 12.1125 Q1077.33 13.998 1074.87 18.1789 Q1073.56 20.5973 1072.62 23.5895 Q1071.68 26.5817 1069.83 33.9598 Q1069.18 36.911 1069.18 37.075 Q1069.18 37.4029 1069.34 38.1407 Q1069.54 38.8785 1070.04 40.0262 Q1070.57 41.1329 1071.31 42.1167 Q1072.04 43.1004 1073.4 43.8382 Q1074.75 44.535 1076.39 44.535 Q1078.93 44.535 1081.64 42.4856 Q1084.38 40.3951 1086.39 36.5831 Q1088.07 33.5089 1089.59 27.7294 Q1091.1 21.9089 1091.1 18.4658 Z\" fill=\"#000000\" fill-rule=\"evenodd\" fill-opacity=\"1\" /><path clip-path=\"url(#clip980)\" d=\"M1109.58 81.7447 Q1105.7 77.8999 1105.7 72.3336 Q1105.7 66.7386 1109.49 62.6642 Q1113.31 58.5612 1118.76 58.5612 Q1124.1 58.5612 1127.91 62.6355 Q1131.76 66.6812 1131.76 72.3336 Q1131.76 77.8712 1127.88 81.716 Q1124.04 85.5608 1118.7 85.5608 Q1113.48 85.5608 1109.58 81.7447 M1110.58 71.8458 Q1110.58 77.5556 1112.07 80.138 Q1114.37 84.0688 1118.76 84.0688 Q1120.94 84.0688 1122.75 82.8924 Q1124.58 81.716 1125.59 79.7363 Q1126.88 77.1539 1126.88 71.8458 Q1126.88 66.1934 1125.33 63.6972 Q1123.03 59.8811 1118.7 59.8811 Q1116.81 59.8811 1114.94 60.8853 Q1113.11 61.8608 1111.99 63.8119 Q1110.58 66.3942 1110.58 71.8458 Z\" fill=\"#000000\" fill-rule=\"evenodd\" fill-opacity=\"1\" /><path clip-path=\"url(#clip980)\" d=\"M1130.33 94.4842 Q1133.46 94.4842 1134.18 94.0825 Q1134.92 93.7095 1134.92 91.8445 L1134.92 64.3284 Q1134.92 62.3773 1134.18 61.8895 Q1133.46 61.4018 1130.33 61.4018 L1130.33 59.5654 L1138.8 58.9342 L1138.8 62.8077 Q1142.33 58.9342 1147.03 58.9342 Q1152.03 58.9342 1155.67 62.8077 Q1159.31 66.6812 1159.31 72.2188 Q1159.31 77.8139 1155.44 81.6873 Q1151.57 85.5608 1146.2 85.5608 Q1143.27 85.5608 1141.29 84.0688 Q1139.34 82.5481 1138.97 81.4291 L1138.97 81.9743 L1138.97 91.8445 Q1138.97 93.7382 1139.72 94.1112 Q1140.46 94.4842 1143.56 94.4842 L1143.56 96.2918 Q1137.39 96.1197 1136.93 96.1197 Q1136.36 96.1197 1130.33 96.2918 L1130.33 94.4842 M1138.97 78.2156 Q1138.97 79.105 1139.09 79.4206 Q1139.23 79.7363 1139.8 80.6831 Q1142.13 84.241 1145.91 84.241 Q1145.94 84.241 1145.97 84.241 Q1149.33 84.241 1151.88 80.8266 Q1154.44 77.3835 1154.44 72.2188 Q1154.44 67.2837 1152.11 63.8406 Q1149.79 60.3975 1146.57 60.3975 Q1144.28 60.3975 1142.27 61.6313 Q1140.26 62.8651 1138.97 65.1031 L1138.97 78.2156 Z\" fill=\"#000000\" fill-rule=\"evenodd\" fill-opacity=\"1\" /><path clip-path=\"url(#clip980)\" d=\"M1165.59 61.4018 L1165.59 60.1106 Q1168.29 59.9958 1170.07 58.1021 Q1171.88 56.1797 1172.48 53.8269 Q1173.11 51.4741 1173.17 48.7484 L1174.63 48.7484 L1174.63 59.5654 L1183.04 59.5654 L1183.04 61.4018 L1174.63 61.4018 L1174.63 77.7278 Q1174.63 84.0688 1178.59 84.0688 Q1180.28 84.0688 1181.4 82.3473 Q1182.52 80.597 1182.52 77.4982 L1182.52 74.256 L1183.98 74.256 L1183.98 77.613 Q1183.98 80.7979 1182.52 83.1794 Q1181.06 85.5608 1178.16 85.5608 Q1177.1 85.5608 1176.04 85.2739 Q1175 85.0157 1173.63 84.3271 Q1172.28 83.6097 1171.42 81.8882 Q1170.58 80.138 1170.58 77.613 L1170.58 61.4018 L1165.59 61.4018 Z\" fill=\"#000000\" fill-rule=\"evenodd\" fill-opacity=\"1\" /><g clip-path=\"url(#clip983)\">\n",
       "<image width=\"1217\" height=\"1217\" xlink:href=\"data:image/png;base64,\n",
       "iVBORw0KGgoAAAANSUhEUgAABMEAAATBCAYAAAAy1IMNAAAgAElEQVR4nOza+ZfV9ZXv4V1STEUh\n",
       "gxOoKIrigHFCRSFxilMcEmPUOLRTFBGi6XTapK8mabs7naRvYtI3bQsCzkOUxKhRY0RtY7QhouKI\n",
       "IihBQY2ggEANzHV/qLDKrF6uddf97kqVH5/nD3itXYdT55x6c2pWz9inJRJ1H/FSZi7VIyNOTGsd\n",
       "MeOeyo2xW45LuKTN+XvMTWvt9+gjaa1slw8aW7nxX+83JFzSZkbzLWmtpn/eNK0VEVF3xYrUXlUT\n",
       "dvlKam/snOtTe5l69xiS1lq5al7lxmXbVv/d+bDrlj2d1lrc+ExaK9slA6q/Vv+iYWbCJW0WNcxI\n",
       "7fHxd3z9mNTeIVtV/3j4zXmTEi5p9fRhR6W1IiIOeOyxtFZLy5q0VpbJu52b1ho79+60VkTEuvXL\n",
       "U3t0jP8cen5q7+K516X2+H+3df2oyo13GqYlXML/j69ulbcpXL1ofFqrM9ukow8AAAAAgPZmBAMA\n",
       "AACgeEYwAAAAAIpnBAMAAACgeEYwAAAAAIpnBAMAAACgeEYwAAAAAIpnBAMAAACgeEYwAAAAAIpn\n",
       "BAMAAACgeEYwAAAAAIpnBAMAAACgeEYwAAAAAIpnBAMAAACgeEYwAAAAAIpnBAMAAACgeEYwAAAA\n",
       "AIpnBAMAAACgeEYwAAAAAIpXE1Hbkhlc89iOebFZb+a1IqLbxevTWo+NPKFy49Dp9yVc0j7u2PPM\n",
       "1N7gvkvSWgc+/mBaK8vNw85Oa5398s1prYiIhss3T2ttWNulcmPTHy9KuKTNlUNGp7UunTc5rfVJ\n",
       "8Pdbj0tr/ak5LRUREf+1dmZaa1HDjMqNSwbkPVYRER+syWvdsnR8XiwiLtwy72edtDj3ts7mpsT3\n",
       "jnOS3zsyfG/wmLTWd9+YmNaKiJj2mWPTWotWbprWiog46fk7UntVXT30/NRe47rqnyU2+tYfJ6W1\n",
       "IiJ+sEP15+zl83Ofq58U/77TBZUbc1Z0S7ik1TXJ7z/jtsp7bxy/qOz3xl7dd0jtNa6en9or2Vn9\n",
       "cz+vdqnJa924JO9575tgAAAAABTPCAYAAABA8YxgAAAAABTPCAYAAABA8YxgAAAAABTPCAYAAABA\n",
       "8YxgAAAAABTPCAYAAABA8YxgAAAAABTPCAYAAABA8YxgAAAAABTPCAYAAABA8YxgAAAAABTPCAYA\n",
       "AABA8YxgAAAAABTPCAYAAABA8YxgAAAAABTPCAYAAABA8WrTi7PezGt9anBeKyIi5qWVGtd0T2t1\n",
       "Rn27N6f2Vq7umdrrbJav7drRJ3ykV6bvm9ba/aBn01pZ+nZb29EnfGLdteL1tNYh3XdKa0VEvN/0\n",
       "SmqvqqveHZ/aq+u+XVpr77rT0loREZMW5/2svXtUf16sXJX3PM3WdZMNHX1Cu9rQUtPRJ3ykJ9/Z\n",
       "Jq21zxaL01qd0X++vSS1d9aWW6W1enTbOq0VEXH3osbUHv/vXlzWrXJj977rEi75s+Rf6/kNibcV\n",
       "rnH1/I4+4RPryTULUnvH9c77vJrJN8EAAAAAKJ4RDAAAAIDiGcEAAAAAKJ4RDAAAAIDiGcEAAAAA\n",
       "KJ4RDAAAAIDiGcEAAAAAKJ4RDAAAAIDiGcEAAAAAKJ4RDAAAAIDiGcEAAAAAKJ4RDAAAAIDiGcEA\n",
       "AAAAKJ4RDAAAAIDiGcEAAAAAKJ4RDAAAAIDiGcEAAAAAKJ4RDAAAAIDiGcEAAAAAKF7NIyNObskM\n",
       "HjHjnsxcquYXR6a1eu45vXLjx0NGJ1zS5gvDXkprDb33ybRWtte+cGDlxoYNNQmXtNnlvj+kta7Z\n",
       "9by0VkTERa/ekNqravWV3VJ73S9dk9a6auj5aa2IiEG9GtJaJz43pXJjh/qjEi5pM7/hodRepku3\n",
       "GZfW+v2yFZUbTzfdmnBJ+xhed0Zqb2bTz9NaI3ueU7mxc12vhEva3LRkfGovy22f+pvU3ja9l1du\n",
       "HDr9voRLWp3aZ2xaKyLiF8snpPYyzfzsEZUb//uZnRMuadWZH6uJyZ+ZxiR8ZvrbgXnvP1t0X5/W\n",
       "ioj4zhsT01q79fpiWisiYnbj3am9qibvdm5qb/TsG9NaJye/Hg6ur/530ZVvd873xoiI3j3yXg9r\n",
       "anK/Q7SieU7lRl337RIuadW0ekFaK9u3B+U9730TDAAAAIDiGcEAAAAAKJ4RDAAAAIDiGcEAAAAA\n",
       "KJ4RDAAAAIDiGcEAAAAAKJ4RDAAAAIDiGcEAAAAAKJ4RDAAAAIDiGcEAAAAAKJ4RDAAAAIDiGcEA\n",
       "AAAAKJ4RDAAAAIDiGcEAAAAAKJ4RDAAAAIDiGcEAAAAAKJ4RDAAAAIDiGcEAAAAAKF5NRG1LZvCx\n",
       "kSektRrXdE9rRUQc98ydaa21D2xVudH12EUJl7SPX+x1RmrvxNFT0lrdLl6f1soyebdz01qjZ9+Y\n",
       "1oqI+PagsWmtIwe9Vblx6PT7Ei5pc8eeZ6a1TnvxtrRWtr51wyo3Pmh6OeGSNmf2G5fW2qvfurRW\n",
       "RMS3/jgptVfVkPpjU3uH9hic1rru/fFprYiIMVvmPS9+1fiHyo21G5oSLmmzvHlOWuv1E0ektXa6\n",
       "Z0ZaK8tBPc9Ja/2h+aa0VkTE322d9zw9cPPlaa2IiC93sveiI+tGp/b26tc1rXXl27mvXw+P+GLl\n",
       "xpEz7k645JNnYP3Iyo0h63dJuKTVfzffkNaKiHjogOrPrY2OeqrzPcfqum+X1vrq5sentSIifpz8\n",
       "OsHHn2+CAQAAAFA8IxgAAAAAxTOCAQAAAFA8IxgAAAAAxTOCAQAAAFA8IxgAAAAAxTOCAQAAAFA8\n",
       "IxgAAAAAxTOCAQAAAFA8IxgAAAAAxTOCAQAAAFA8IxgAAAAAxTOCAQAAAFA8IxgAAAAAxTOCAQAA\n",
       "AFA8IxgAAAAAxasZu+XXWjKDExaPz8yl+vGQ0Wmtb86bXLmx7r7NEi5ps+bZtWmtuitWpLWyrfn3\n",
       "rpUb61b0TLikTebj9erxI9NaERG73j89tVeyW/c4K7U3/b3eaa3xi6q/tl66zbiES9pc+Xbnfb3/\n",
       "xtZ5P+vq9dUbVyf8+7WXr2ye+7y4/v28n/WUPmMrN3p0qUm4pE3PLnmtSe/lPVazjxuV1oqImPPO\n",
       "tpUbJz43JeGSVtftdm5aKyLi/Nk3pvYyXbH9RZUb9bUbEi5p9c15k9Ja2cZulfv6NSHhtfr+4ack\n",
       "XNJq3Ybc7yt887WGtNaKlvfTWhERixpnpPaqOqIu7+/GiIhHmqr/7bjRA/udnNaKiFjYUP3z6phX\n",
       "b0i4pH18NfF1ojb5K0Q/+1P115zD6y5IuKTVo03XprU6M98EAwAAAKB4RjAAAAAAimcEAwAAAKB4\n",
       "RjAAAAAAimcEAwAAAKB4RjAAAAAAimcEAwAAAKB4RjAAAAAAimcEAwAAAKB4RjAAAAAAimcEAwAA\n",
       "AKB4RjAAAAAAimcEAwAAAKB4RjAAAAAAimcEAwAAAKB4RjAAAAAAimcEAwAAAKB4RjAAAAAAimcE\n",
       "AwAAAKB4tefvMTc1OOHR1FyqLwx7Ka31zXnVG2ueXVs98iHddlqd2uus3n1yWOXGgJF5z4Vsveob\n",
       "O/qEdvXP21+U2rvizWvSWgsb69JaERGHDViW1hq/qHqjd+2G6pGPiW6btKS1aqImrdUZvd28rqNP\n",
       "+Ei/XD6hcuOoXqMTLmnzQs2Lqb0s897dOrW345bvpvaq2rxnc0ef8FezWbfqnw/XbPhk/D/36vUd\n",
       "fcH/9MSizdNahw5YnNaKiHit4TdprePqx6S1IiJ+EzNSe1X161rb0Sd8pOeWbJbaG9b3g9ReZ3NX\n",
       "4/NprVN7753WytJjky4dfcJfRX2PHdNan4x3SAAAAAA+0YxgAAAAABTPCAYAAABA8YxgAAAAABTP\n",
       "CAYAAABA8YxgAAAAABTPCAYAAABA8YxgAAAAABTPCAYAAABA8YxgAAAAABTPCAYAAABA8YxgAAAA\n",
       "ABTPCAYAAABA8YxgAAAAABTPCAYAAABA8YxgAAAAABTPCAYAAABA8YxgAAAAABSvJqK2JTN4x55n\n",
       "prX6dm9Oa0VEHPP0XWmtX+x1RuXGqS/8POGS9rH2oW1Sew/8w6fTWl94bkpaK8u6n3dPa9WesTqt\n",
       "FREx54SD0lq9ejdUbmz785cSLvnkefTAL1RuHP7krxMuafP1gePSWtvWrU1rRURcOm9yaq+qy7Yd\n",
       "m9ob2HNNWutrr12X1oqI2Leu+vvjRs82db73ydP75T3vF63O+3d8tOnatFaW+V8antba4Vcz01oR\n",
       "Edfudm5aa0BdY1orIuL4mb9M7VU1edfzUnt9uud9zsn+LD16i+q/35PfG59wSfv4w8GfS2sd9Phv\n",
       "01oREZ/pWf15tl2PngmXtLptWe6/4/DE98aZnfC98bGRJ6S1znhxaVorIuKdhmmpvUzf3a7658Pv\n",
       "LZiQcEmrE3pflNaKyP3G1a9XXpPW8k0wAAAAAIpnBAMAAACgeEYwAAAAAIpnBAMAAACgeEYwAAAA\n",
       "AIpnBAMAAACgeEYwAAAAAIpnBAMAAACgeEYwAAAAAIpnBAMAAACgeEYwAAAAAIpnBAMAAACgeEYw\n",
       "AAAAAIpnBAMAAACgeEYwAAAAAIpnBAMAAACgeEYwAAAAAIpnBAMAAACgeEYwAAAAAIpXmx0c3HdJ\n",
       "Wmvl6p5prWwnjp5SPXJx9UR7eeAfPp3aO+7y3+TFTslLZXniqqMTa/cmtiKe/OPOaa2BvRoSKi8l\n",
       "NNpcNfT8tNYlc69La2UbPWtNR5/wP7y8fG1aq+smXdNandHjS5pTeyP716X2Mo3Zrnte69W0VJrf\n",
       "rX02rfXQp3uktfZ8KC2V5h9/NyKxNjOxFTF3Rd7vUEtLTVqrM3p5ee7n8V027byP17m7vFG5Mfm9\n",
       "yol2839e3KGjT/hIc7u8UrnRZfUeCZe0j78fkvfdkzNyP0qnuODFDWmtr285LK0VEfGthmmpvUzf\n",
       "WzCho0/4Cy+2vJba693SL7WXxTfBAAAAACieEQwAAACA4hnBAAAAACieEQwAAACA4hnBAAAAACie\n",
       "EQwAAACA4hnBAAAAACieEQwAAACA4hnBAAAAACieEQwAAACA4hnBAAAAACieEQwAAACA4hnBAAAA\n",
       "ACieEQwAAACA4hnBAAAAACieEQwAAACA4hnBAAAAACieEQwAAACA4tVcPuiSlszgDxZOyMyleu0L\n",
       "B6a1dv71k5Uba/69a8Ilbd59clhaa7spz6e1sq27rVvlxvp3ahIuadP9m6vTWi8dfUhaKyLiU1N/\n",
       "n9qraubhR6T2hj/6SFrrJ0NGp7UiIqa+m9d6qHFy5cY/bndRwiVt/mXBNam9TBcPGJfWGtBjfeXG\n",
       "d96YmHBJ+/j+DmNSe9+en/ez/mznCyo3um6yIeGSNuPmXJ/ayzLzs7mvrXMWD6jcOOOlWxMuaXX1\n",
       "0PPTWhERX517XWov08Rdz6vcyPyUc+GrNyTWct2w+zmpvfNeualy47GRJyRc0mrNutq0VkTEUU/d\n",
       "ndYaXH9kWisi4o2Gh1N7VX2+d+5npntX5n1munWPs9JaERELGusqNy5PfO/P9v3BeZ9zVm/I/Rsy\n",
       "47P0Ub3y/n7J+Hujvexf9zdpLd8EAwAAAKB4RjAAAAAAimcEAwAAAKB4RjAAAAAAimcEAwAAAKB4\n",
       "RjAAAAAAimcEAwAAAKB4RjAAAAAAimcEAwAAAKB4RjAAAAAAimcEAwAAAKB4RjAAAAAAimcEAwAA\n",
       "AKB4RjAAAAAAimcEAwAAAKB4RjAAAAAAilf7X+83dPQNfzUbNtR09Al/Yd2Knqm9ASNfyotNyUtl\n",
       "W/9O9X/HmoMGVz/kL8xJK81bPCCt1RndPHtocvGRtNLKdV3SWhERxwxcn9Z66PXqjfraDdUjHxN1\n",
       "if+Uy9fmPi86m9nLO+/Pt6CxW+XGXv1yP+cMqj80rbWw4bG01pKVvdNaERF7DHyreiTxY0lNTUte\n",
       "rJNbt6H6/1HXbvLJeL1furr6a0S2d1dumtYatnXC72E7eXvVsx19QrtatSHvM1y2Jau7p/aG9VtW\n",
       "PTK/eqK9zG/M+5xz8JadbztZ2tLU0Sf8VcxpeTqt5ZtgAAAAABTPCAYAAABA8YxgAAAAABTPCAYA\n",
       "AABA8YxgAAAAABTPCAYAAABA8YxgAAAAABTPCAYAAABA8YxgAAAAABTPCAYAAABA8YxgAAAAABTP\n",
       "CAYAAABA8YxgAAAAABTPCAYAAABA8YxgAAAAABTPCAYAAABA8YxgAAAAABTPCAYAAABA8YxgAAAA\n",
       "ABSvJqK2JTN487Cz01rL13ZNa0VEXDL3urTW5N3OrdwYPfvGyo32su7n3VN7T1x1dFrrsD/cm9bK\n",
       "0jT7sLRW3W6/S2tFRNy192lprT0Hz6/c2OmeGQmXtOmySX1aa/2GhrRWtlv2OKty46xZtyRc0uaH\n",
       "O4xJa3XvsiGtFRHxjdcnp/aqGr/LV1J7W/VsSmt96fk70loRESf3GZvWunP5hLRWlnv3PTWtdfv8\n",
       "zfNay8antbLMP3l4WmuHO2emtSIifrTjhWmtbXvl/T5GRJzx0q2pvaru3Pv01F7f7s1prSNm3JPW\n",
       "ioj424HjKjd+9qfO97u40Rsn75vWGnzns2mtiIit6z9duTFikz0SLml194pr0loREYfWnZ/Weqwp\n",
       "72/aLP/96ePSWl97dtO0VkTEs023p/Yy3bPPlys3TnxuSsIlrYbWn5DWiojYdsNWaa1Hm65Na/km\n",
       "GAAAAADFM4IBAAAAUDwjGAAAAADFM4IBAAAAUDwjGAAAAADFM4IBAAAAUDwjGAAAAADFM4IBAAAA\n",
       "UDwjGAAAAADFM4IBAAAAUDwjGAAAAADFM4IBAAAAUDwjGAAAAADFM4IBAAAAUDwjGAAAAADFM4IB\n",
       "AAAAUDwjGAAAAADFM4IBAAAAULyapn/u35IZrLtiRWYu1TW7npfWuujVGyo3Xj1+ZMIlbXrVN6a1\n",
       "Bt3xQlor20tHH1K5MW/xgIRL2pz43JS01qrnDkhrRUT02Oep1F5VMw49OrU34rGpaa1RPc9Na0VE\n",
       "TGu+MbVX1YP7n5TaO+bpu1J7mQbW572+3n9AXeXG8EcfSbikfZzVf1xq75al41N7Vf3Hzuen9r72\n",
       "2nWpvSw/3Wl0am/J6trKje8vnJBwSau3z9wjrRURsc1ts1J7mS7asvrv5CXDX0q4pNWw3z6R1sp2\n",
       "Rr/c16+fL6v++vUP24xNuKTVwQPfS2tFRBz3zJ1prX/c7qK0VkTEvyy4JrVXVZ+eu6X2ljfPTmud\n",
       "u1nu837nTddXbnx7/sSES9rH5r32SWsN3bBnWisiYnrzTZUbv9zr9IRLWp3ywu1prc7MN8EAAAAA\n",
       "KJ4RDAAAAIDiGcEAAAAAKJ4RDAAAAIDiGcEAAAAAKJ4RDAAAAIDiGcEAAAAAKJ4RDAAAAIDiGcEA\n",
       "AAAAKJ4RDAAAAIDiGcEAAAAAKJ4RDAAAAIDiGcEAAAAAKJ4RDAAAAIDiGcEAAAAAKJ4RDAAAAIDi\n",
       "GcEAAAAAKJ4RDAAAAIDiGcEAAAAAKF5NRG1LZrDh8s3TWq9M3zetFRFxwGMPpbW+PWhs5cb3F05I\n",
       "uKR9zDnhoNTek3/cOa11zss3p7Wy3LX3aWmtk56/I60VEbHqmX3SWrXz5lRvfLkp4ZI2+9SdntZ6\n",
       "run2tFa2Lpv0qtxYv6Ex4ZI29w0/Ja01a2n/tFZExGXzJ6b2qnr6sCNTe++t7JPWOvaZO9NaEREP\n",
       "7HdyWiv7tgw1NV3TWmf0HZ3Wum3Z+LRWlu9uV/2z0kbfW5D7mWnBaXultd5YOCitFRFx8LT7U3tV\n",
       "vXj0Iam9Dxp6p7WyH6uHR3yxcuPIGXcnXNI+Lk/4+2WjHyT/HfPd7S6q3Lj3/WUJl7R6oWlKWisi\n",
       "4pQ+eY/9L5d3vr8hz+4/Lq21aPW6tFZExNTGSam9TP3qhlVuLGt6OeGSVnfseWZaKyLig9Xd01oX\n",
       "zbk+reWbYAAAAAAUzwgGAAAAQPGMYAAAAAAUzwgGAAAAQPGMYAAAAAAUzwgGAAAAQPGMYAAAAAAU\n",
       "zwgGAAAAQPGMYAAAAAAUzwgGAAAAQPGMYAAAAAAUzwgGAAAAQPGMYAAAAAAUzwgGAAAAQPGMYAAA\n",
       "AAAUzwgGAAAAQPGMYAAAAAAUzwgGAAAAQPFqs4Mb1nZJa+1+0LNprYiIeCwvdeSgtyo3vr8w4ZB2\n",
       "0qt3Q2pvYK/cXmez5+D5ebHn81IREbXz5qS1Vu1/eELl/oRGmx279k1rPZdWytelS6/KjfUbGhMu\n",
       "abO4qfpNGw3pvTKt1Rm99UH/1N4uA99O7WXatEdzR5/Qrlpa1qa19u6/Lq1127K0VJqte67u6BM+\n",
       "0rKl/dJaO26/IK0VERHTcnNVvbVki9Te0G2TH69Em/Ve0dEntKsBPfJev7Itaq7+3YwRvTZLuKTV\n",
       "C01pqYiI2K1PS15seV4qy5DeG9JaK9d9cr6ns1vLfpUb0+PlhEtavbq8d1orImL4ZktTe1k+Oc8w\n",
       "AAAAAD6xjGAAAAAAFM8IBgAAAEDxjGAAAAAAFM8IBgAAAEDxjGAAAAAAFM8IBgAAAEDxjGAAAAAA\n",
       "FM8IBgAAAEDxjGAAAAAAFM8IBgAAAEDxjGAAAAAAFM8IBgAAAEDxjGAAAAAAFM8IBgAAAEDxjGAA\n",
       "AAAAFK9mwi4XtmQGx865PjOXavWV3dJa3S9dk9bK8s/bX5TWuuLNa9Ja2WYefkTlxs2zhyZc0uZn\n",
       "fxqf1ppx6NFprYiIEY9NTe1VtXz5t1J7ffr8KK01oufZaa2IiAG1dWmtX6+s/jt5bP2YhEvaPNAw\n",
       "MbWX6cH9T0pr3fjagMqNOz7Ie43ItvD0PVN7g25/Ma11776nVm7suOW7CZe02ePBx1N7WS4ZMC61\n",
       "t23dusqNf/jjpIRLWl24Re7PN+m9zvs7uXTc4MqNH/762OqH/NmP3+68j9Wi83ZN7W11w6uVG48c\n",
       "eGLCJa0G9luS1oqIGPbbJ1J7JfvXwbmfmb7zRt5nprM3y3093LRr9cZ/vtt5XyfO6p/3eGU8Vh92\n",
       "9aLqj9vRvS5MuKTV1Ma89+1sT4w6Lq3lm2AAAAAAFM8IBgAAAEDxjGAAAAAAFM8IBgAAAEDxjGAA\n",
       "AAAAFM8IBgAAAEDxjGAAAAAAFM8IBgAAAEDxjGAAAAAAFM8IBgAAAEDxjGAAAAAAFM8IBgAAAEDx\n",
       "jGAAAAAAFM8IBgAAAEDxjGAAAAAAFM8IBgAAAEDxjGAAAAAAFM8IBgAAAEDxjGAAAAAAFK8morYl\n",
       "M3jlkNFprb7d1qa1IiIumH1jWuuOPc+s3DjtxdsSLvl4uGro+WmtS+Zel9bK0mWT+rTW+g0Naa2I\n",
       "iH3qTk9r7di1b+XGr5ZPSLikzdoHtkxrdT12cVor2517Vf93PPmF2xMuaR9TEl5TP+zLnez1dev6\n",
       "Uam9dxqmpfYyLfvaoLRWv/9YmNbK8h87572fjf3GDWmtrmM3pLWy3LD7OWmt8165Ka0VEVFTU5vW\n",
       "umaXs9JaERFjXs17XmTo3WNIam/lqnmpvUwzDj26cmPEY1MTLmkfo7cYl9aa/N74tFZExPC6Myo3\n",
       "9quv/jl1o4mLc3++aZ85Nq016okH0lpZenbbNq21d5fPprUiIp5ec09aa3DP3M9zrzd0rn/Luu7b\n",
       "p/YO7XpMWuuBholpLd8EAwAAAKB4RjAAAAAAimcEAwAAAKB4RjAAAAAAimcEAwAAAKB4RjAAAAAA\n",
       "imcEAwAAAKB4RjAAAAAAimcEAwAAAKB4RjAAAAAAimcEAwAAAKB4RjAAAAAAimcEAwAAAKB4RjAA\n",
       "AAAAimcEAwAAAKB4RjAAAAAAimcEAwAAAKB4RjAAAAAAilcTUdvS0Uf8tVw19Py01iVzr6vcuHWP\n",
       "sxIuabOwsS6tddn8iWmtbD8ZMrpyY+W6LgmXtPmnN69Ja43qeW5aKyJiWvONqb2qRvQ8O7U3o/nm\n",
       "tNa6O+vTWhERa2fXpLV6fndl5cb9w09JuKTN8TN/mdrL9L3BY9Jau/ddUbnxpedvT7ikfRzd68LU\n",
       "3tTGSWmt98fsWLmxdlWPhEvaDLzpldReljU/7Zraa5i3TeVG/6vfqH7In/3T9heltSJy37ezXbrN\n",
       "uMqNob2bEy5pdeGrN6S1sn227oLU3n81XVu5Me0zxyZc0j5GPfFAWuv/7JT72H/99eqPfaZzN6v+\n",
       "e/hhNy4Zn9Z6fNTxaa2IiHdW9qncOO3F2xIuaR+HJ75O1G2S+zfk/Q3V/+Y+u3/ec/XmpXnP02zD\n",
       "en0preWbYAAAAAAUzwgGAAAAQPGMYAAAAAAUzwgGAAAAQPGMYAAAAAAUzwgGAAAAQPGMYAAAAAAU\n",
       "zwgGAAAAQPGMYAAAAAAUzwgGAAAAQPGMYAAAAAAUzwgGAAAAQPGMYAAAAAAUzwgGAAAAQPGMYAAA\n",
       "AAAUzwgGAAAAQPGMYAAAAAAUzwgGAAAAQPGMYAAAAAAUr7Z3jyGpwZWr5qX2Mg3q1dDRJ/yF6e/1\n",
       "Tu0dNmBZaq+zmvpu9cYxA9dXj7STac03dvQJ7WpAbV1Hn/CR1s6uSe113btbaq+qBQ25rzmdWZ+u\n",
       "eb/ja9Z3SWt1RlMbJ3X0CR9p6rSRlRujdn0l4ZLOb/ns7VN7fT41P7VX1ZuNn5z/t92i+7rKjabC\n",
       "X7c2mr5uamqvyybV3ycvntkn4ZI/t7bvntbK1rf7mo4+oV2t2dDRF3y0RxZum9rbf4slqb3O5tGm\n",
       "azv6hI80que5lRu/XzO3+iEfA0M22SKt9cn5RAEAAADAJ5YRDAAAAIDiGcEAAAAAKJ4RDAAAAIDi\n",
       "GcEAAAAAKJ4RDAAAAIDiGcEAAAAAKJ4RDAAAAIDiGcEAAAAAKJ4RDAAAAIDiGcEAAAAAKJ4RDAAA\n",
       "AIDiGcEAAAAAKJ4RDAAAAIDiGcEAAAAAKJ4RDAAAAIDiGcEAAAAAKJ4RDAAAAIDi1UTUtnT0ER9H\n",
       "feuGVW580PRywiXt49EDv5DaGz1rTVprXsNv01pZbtnjrLTWWbNuSWtFRHTZpFdeq0v11pq1ixMu\n",
       "aXPnXqentU5+4fa0VrY1j+9cudHt4NcSLgdVl68AACAASURBVGlz5ZDRaa3PDX01rRURMey3T6T2\n",
       "qnrykGNSey2J79wHPf5gXiwivrrVuLTW1YvGp7WyvDd6p7TWtY98Nq112fyJaa0s626qTWvVnrMu\n",
       "rRURcULvi9Jao3demtaKiPj8s79I7VV1776npva6dlmf1vrc079Ka0VEjOx5TuXG9OabEi5pH7/d\n",
       "70tprc89k/vY37B79cd+YK+VCZe0Oubpu9JaERGfT3zNuXflNWmtLNM/87m01ldn9k1rRUQ819R5\n",
       "P993NqN6npvaG9C1Z1rrVysmpLV8EwwAAACA4hnBAAAAACieEQwAAACA4hnBAAAAACieEQwAAACA\n",
       "4hnBAAAAACieEQwAAACA4hnBAAAAACieEQwAAACA4hnBAAAAACieEQwAAACA4hnBAAAAACieEQwA\n",
       "AACA4hnBAAAAACieEQwAAACA4hnBAAAAAChezWXbXtKSGfzhWxMyc6l2qD8qrTW/4aHKjUu3GZdw\n",
       "SZvetRvSWle8eU1aK9s/bndR5UZ94mMVEfGtP05Kaz24/0lprYiIY56+K7VX1bH1Y1J7DzRMTGvd\n",
       "P/yUtFZExIKG3mmtcXOur9xY89+7JFzSptun56T2Mj084otprc+c+GDlRo/LmhMuaR83Dzs7tXf2\n",
       "yzentW7Y/ZzKjV03X5RwSZuDHq/+fGgPd+9zWmpv2erulRtfeeWmhEtarZ2Y+/+2Xcfkfg7INHnX\n",
       "8yo3zjz17oRLWtX9ywdprWz/OfT81N7Fc6+r3Lh067zP9yO3XJrWiog46fk70lq/O+jzaa2IiMP+\n",
       "cG9qr6rdep2Y2pvdeE9a6+sDc/+GHLlF9d/xU1/8ecIl7WPb+kPSWl/edFhaKyLiJ++Mr9y4fNDY\n",
       "hEta/WBh591yMvkmGAAAAADFM4IBAAAAUDwjGAAAAADFM4IBAAAAUDwjGAAAAADFM4IBAAAAUDwj\n",
       "GAAAAADFM4IBAAAAUDwjGAAAAADFM4IBAAAAUDwjGAAAAADFM4IBAAAAUDwjGAAAAADFM4IBAAAA\n",
       "UDwjGAAAAADFM4IBAAAAUDwjGAAAAADFM4IBAAAAUDwjGAAAAADFq9my14EtmcGz+hyQ1rprxetp\n",
       "rYiI+Q0PpbXO7DeucuO2ZeMTLmkfXx9Y/ef7sJeXr01rPdw0Oa2V5Yc7jElrXTZ/YlorIuK+4aek\n",
       "tRY39arcOH/2jdUP+QS6csjoyo1L5+X+7qx5bMe82PML8loR0e3r61J7VTX/a31qb0Nzt7RWr+8v\n",
       "TWtFRDx/xOFprb0feTStleUrm+e9P85pbEprTWu+Ma2VpTO/N669Ou//gT94PvG1MCK2mJz7+beq\n",
       "hm9vltpbu6L6Z4mN+l2V+97x8IgvVm4cOePuhEvax9G9LkxrTW2clNaKyHns5yzrn3BJq4vnXpfW\n",
       "ioi4edjZaa2zX745rZXlxwmfUzdasbY2rRUR8b0FE1J7mS7Yovpnimvfy9sUvjYgdwPI9Nzy5rSW\n",
       "b4IBAAAAUDwjGAAAAADFM4IBAAAAUDwjGAAAAADFM4IBAAAAUDwjGAAAAADFM4IBAAAAUDwjGAAA\n",
       "AADFM4IBAAAAUDwjGAAAAADFM4IBAAAAUDwjGAAAAADFM4IBAAAAUDwjGAAAAADFM4IBAAAAUDwj\n",
       "GAAAAADFM4IBAAAAUDwjGAAAAADFq13c+Exq8E/dDkhrHdJ9p7RWRMT8hofSWnv1W1e5cduyhEPa\n",
       "ybZ1a1N7XTfpmtZ6uCktlaZ7lw0dfcJHmrW0f1prSO+Vaa0sU/Y8M6315RdvS2tl+9zQVys3Lp2X\n",
       "cMiHPb8gLVUzdLO0VqtFyb1qFr0wNLW39cEvpPYy9em7vKNPaFf7bbYqrXXEwOqfJTaa9lJaKs2n\n",
       "t3krLzY/LxURsXL2oLTWpjsn/pyd0J9m5X4e33b/l1N7mTbt0Qk/ZCbavFttXqwxLxURMXdZ9c+r\n",
       "u2/2fsIl7aN/j+aOPqGd1aSVWtJKnd+0pj919Al/YdaKNam9/fp1S2s90XxDWss3wQAAAAAonhEM\n",
       "AAAAgOIZwQAAAAAonhEMAAAAgOIZwQAAAAAonhEMAAAAgOIZwQAAAAAonhEMAAAAgOIZwQAAAAAo\n",
       "nhEMAAAAgOIZwQAAAAAonhEMAAAAgOIZwQAAAAAonhEMAAAAgOIZwQAAAAAonhEMAAAAgOIZwQAA\n",
       "AAAonhEMAAAAgOIZwQAAAAAoXk1EbUtmcKv6EWmt95teSWtFRPzdwLPSWle+Pb5y4xtbj0u4pE23\n",
       "TfL+Kf/trQlprWwXD6j+uNV1STjkQ36U8HzYaGD9yLRWRMSfGqan9qp6cP+TUnvHPH1XWut7g8ek\n",
       "tSIi+nRdn9b62mvXVm48POKLCZe0OXLG3am9TKue2Tetddd5u1dunPHSrQmXtI91t/dI7dWeviqt\n",
       "9dShR1VubL7Z0oRL2uz4q2dSe1m+M2hsam+LHmsrN/424XVro3/f6YK0VkTE372ed1u2tddX/5By\n",
       "w4/OTrik1YWv3pDWyrb2mtz/z+960YbKjXv3PTXhklYDNv0grRURccBjD6W16rpvl9aKiGhavSC1\n",
       "V9VzRxye2tvnkUfTWjcPy/v9jojYpvfyyo3PPvnrhEvax78mfr7fvr4prRURcdasWyo3RvU8t/oh\n",
       "fzat+ca0VrYf7XhhWss3wQAAAAAonhEMAAAAgOIZwQAAAAAonhEMAAAAgOIZwQAAAAAonhEMAAAA\n",
       "gOIZwQAAAAAonhEMAAAAgOIZwQAAAAAonhEMAAAAgOIZwQAAAAAonhEMAAAAgOIZwQAAAAAonhEM\n",
       "AAAAgOIZwQAAAAAonhEMAAAAgOIZwQAAAAAonhEMAAAAgOLVXjJgXGrwqnfHp/Yy/X7Zio4+4S+s\n",
       "Xp/bq4ma3GAnNaBH9Qdu+douCZe0j/sPqEvtDX80NVfZja8N6OgTPtLufXNfI9as71zPs8+c+GBu\n",
       "cEZuLtNd5+2e1vrSeVOqR75RPdFepvzg5OTirWmlqW/sULnR663tEy75sGeSezm2qVud2lu6pmtq\n",
       "r6ozPvNEau/vXk/NpfrR9y6o3Pjb03+VcEmrC3+Qlko3+afnJhevr1y4Z8HmCXe02qrnZmmtbPfs\n",
       "NTy1d9RTC1J7Vf3bM7skF/M+kN/3Vq+0VkTEXv16pvY6m3sWN6S1Rq3uk9bKsnNd3t+O05rTUumm\n",
       "vNuY1vJNMAAAAACKZwQDAAAAoHhGMAAAAACKZwQDAAAAoHhGMAAAAACKZwQDAAAAoHhGMAAAAACK\n",
       "ZwQDAAAAoHhGMAAAAACKZwQDAAAAoHhGMAAAAACKZwQDAAAAoHhGMAAAAACKZwQDAAAAoHhGMAAA\n",
       "AACKZwQDAAAAoHg1W9WPaskMnlo/PK111bvj01rZhtQfW7kxr+GBhEvax2Xbjk3tPb6kOa01rfnG\n",
       "tFaW8bt8Ja01bs71aa2IiKcPOzKt9dYH/Ss3vvjclIRL2mxdPyqt9U7DtLRWticPOaZy48DfP5hw\n",
       "SZvmf61Pay16YWhaKyJi8C+fTe1Vterfeqb2Vi/ul9bq89N30loREY+POj6tdfC0+9NaWX4/Mu/n\n",
       "u+L5rdJajzVdl9bK8tv9v5TW+tzTv0prRUS8c9awtNasObmvX0c9dXdqr6oV3xyQ2mtcVP2zxEYD\n",
       "b34lrRURcedep1dunPzC7QmXtI/b9vibtNaZs25Na0VE3Df8lMqNecv7JFzS6uuvX5vWioj4p+0v\n",
       "ymu9eU1aK8tPdxqd1lq5tktaKyLiik74eG10+aDqf3P/YOGEhEtanbvZuLRWRES3xH/KSYvztiHf\n",
       "BAMAAACgeEYwAAAAAIpnBAMAAACgeEYwAAAAAIpnBAMAAACgeEYwAAAAAIpnBAMAAACgeEYwAAAA\n",
       "AIpnBAMAAACgeEYwAAAAAIpnBAMAAACgeEYwAAAAAIpnBAMAAACgeEYwAAAAAIpnBAMAAACgeEYw\n",
       "AAAAAIpnBAMAAACgeEYwAAAAAIpnBAMAAACgeLWLGmakBj/oNjytVdd9u7RWRETT6gVprUN7DK7c\n",
       "mNdQ/Y72MrDnmtTeyP51aa1pb6el0mzVs6mjT/hI763sk9baZWDCg/9c9cSHvdMwLTfYSbW0dPQF\n",
       "/9OG5m5pra0PfiGtFRERv8zNVbV6cb/UXq9RiW8gP81LRUT85s1BucFO5pDp93f0CR8bDWu6d/QJ\n",
       "H2nd2tq01t57zkprRUTEU7m5qpqX5H2OiIjYfMSrebGb81IREc8s6Zsb7GTOnHVrR5/wkZau6lm5\n",
       "sf/AdxIu+bPX81IREV1qOuEHuURrNtR09AkfS7M+6FzPizeaV6f2tu/ZOT8H+CYYAAAAAMUzggEA\n",
       "AABQPCMYAAAAAMUzggEAAABQPCMYAAAAAMUzggEAAABQPCMYAAAAAMUzggEAAABQPCMYAAAAAMUz\n",
       "ggEAAABQPCMYAAAAAMUzggEAAABQPCMYAAAAAMUzggEAAABQPCMYAAAAAMUzggEAAABQPCMYAAAA\n",
       "AMUzggEAAABQvJqI2paOPuKj7F13WmqvS+LmN7Pp55UbX9l8XMIlbd5uXpfWmto4Ka2V7fs7jKnc\n",
       "mL28S8IlbW5dOj6tdVb/3OfFLYm3ZVh4+p6pvUG3v5jWOrrXhWmtiM73e3TzsLNTe2e/fHNqL9O6\n",
       "23uktab84OTKjTNfujXhkvax9nc7pPa6HjY/rfWTIaMrNw7e7o3qh3zI/r97OLWXZeyWue8dC5rW\n",
       "V278pmFiwiWtvrVN7s/3o7c713vjh6345laVGzf/+viES1pdPPe6tFa2zNf6iIja01dVblw+aGzC\n",
       "Ja0OHfhuWisi4qin7k5rdeu6ZVorImLN2sWpvapeOvqQ1N6npv4+rfXTnaq/N37Y1nVNlRunvXhb\n",
       "wiXt48qEzxIb7dh7ZVorIuKk5++o3Bhan/d6P7fh/rRWtu8kvrb6JhgAAAAAxTOCAQAAAFA8IxgA\n",
       "AAAAxTOCAQAAAFA8IxgAAAAAxTOCAQAAAFA8IxgAAAAAxTOCAQAAAFA8IxgAAAAAxTOCAQAAAFA8\n",
       "IxgAAAAAxTOCAQAAAFA8IxgAAAAAxTOCAQAAAFA8IxgAAAAAxTOCAQAAAFA8IxgAAAAAxTOCAQAA\n",
       "AFA8IxgAAAAAxauJqG3JDF645bi01qTF49Na2cYk/JwTO/HPt2/dGam9Mdt1z2u9ekNaK8vJfcam\n",
       "te5cPiGtFRHxwH4np7U27dFcufHp//5NwiVtln1tUFqr338sTGtl++pW1V9zrl6U+5rz/BGHp7X6\n",
       "9F2e1oqI2OHOmam9qh4fdXxq7zdv5j3v//dbua85q57dP63VY9+n01pZ/nDwMWmt3fZ+Oa3VtxO+\n",
       "fn17UN574/cX5j5Ppx5wUlqrf6+GtFZExP6/eyi1V9V9w09J7c18f7O01j+9eU1aKyJi3ZS6yo3a\n",
       "LzclXNI+7tr7tLTWSc/fkdaKiDhns+qfc25a0nn/tnr1+JFprV3vn57WynLe5nkbwIW7/zGtFRFx\n",
       "0OMPpvYyZfwNmfm34zG9LkxrRUQct836tNYlc69La/kmGAAAAADFM4IBAAAAUDwjGAAAAADFM4IB\n",
       "AAAAUDwjGAAAAADFM4IBAAAAUDwjGAAAAADFM4IBAAAAUDwjGAAAAADFM4IBAAAAUDwjGAAAAADF\n",
       "M4IBAAAAUDwjGAAAAADFM4IBAAAAUDwjGAAAAADFM4IBAAAAUDwjGAAAAADFM4IBAAAAULyaiNqW\n",
       "jj7io/TusVNq71M1o9Jaczd5sXLjsNoDEy5p88vlE1J7ndXPdr6gcmNBY7eES9r85J3xqb2S3bvv\n",
       "qam9zz/7i7TW+2N2TGtFREydNjKtdeasWys3btj9nIRL2pz3yk2pvUxPHXpUWmvqGztUbnz3jYkJ\n",
       "l7SPnwwZndr7+3mT01qrn9qrcqPLvDkJl7SpPX1Vai9L9uvXrJeGVW4cOv2+hEtaXbjFuLRWRMSk\n",
       "9zrv+/bDI75YufHoOwMSLmn1w4Wd9/Plv+14YWrvf/1xUuXGutu6J1zy59YbtWmtiIge325Ma/Xp\n",
       "uUtaKyJieXPua3VVx/TKfW492Fj9ubXRrGMOTmtFRDz/1vaVG3/zf9m17zer6zvv4++RoQ0gAoog\n",
       "ttiwiyCiWGI3lriaWBKNbQ0imJjdTbLJvckme2fLnXYncZNFFBVNLLGsGGuiRokiRANiF0REUali\n",
       "m2EQBmbuHyZcw157ef/yfY9z9pPH4w94Xm/OnDnnzIvz/K8SLukcjx92YlpreePmaa2IiM88/evK\n",
       "jV/ve07CJe0+9+yNaa1s5wzI+xzgm2AAAAAAFM8IBgAAAEDxjGAAAAAAFM8IBgAAAEDxjGAAAAAA\n",
       "FM8IBgAAAEDxjGAAAAAAFM8IBgAAAEDxjGAAAAAAFM8IBgAAAEDxjGAAAAAAFM8IBgAAAEDxjGAA\n",
       "AAAAFM8IBgAAAEDxjGAAAAAAFM8IBgAAAEDx6rv6gP+fxg9fSe3tOui4tNYLzc2VG7261SVc0uG4\n",
       "PuPSWg+snpLWytZ9s9bKjf0GNCVcsokleal/3/WivFhEXLbgmtReVTsNXtbVJ3yklg97pfYO2f3F\n",
       "vNjz1RO7b7m8euR/iC0HvZPW6vPmDmmtWnT49q/lBhfmpbotnF+5sXbU4QmXbOqB5F6Odc29U3t7\n",
       "75Pw+jWzemKjMVtW/9y1qatWpuZSbdGwunKjf/cNCZfUvtGDk9/XXq2eaFnUvXrkz+pH9klrtav+\n",
       "3Nqox2b90lq1qKm1patP+EjNyZ9XR26/qHok4XNqZ3nz/S3SWrsPSfyjL8lWCe8Z/xPUJU4nvgkG\n",
       "AAAAQPGMYAAAAAAUzwgGAAAAQPGMYAAAAAAUzwgGAAAAQPGMYAAAAAAUzwgGAAAAQPGMYAAAAAAU\n",
       "zwgGAAAAQPGMYAAAAAAUzwgGAAAAQPGMYAAAAAAUzwgGAAAAQPGMYAAAAAAUzwgGAAAAQPGMYAAA\n",
       "AAAUzwgGAAAAQPGMYAAAAAAUzwgGAAAAQPHqIurbuvqIv1QXbzUxtfebNXPSWkd1H5XWioh4pOWp\n",
       "tNaypj9WbmzX94jqh2ziP3YbnNY65alb01oREXV13dNabW0taa0s/77rRWmtyxZck9bKtnLcLpUb\n",
       "W015JeGSDn+9Zd5r2AGDPkxrRURMnH9taq+qP4w9ObX3yZn3pPYyzTr8U2mtgx/9bVory/vvfDmt\n",
       "dfnIvNfU77w2Oa2VpfEbee+N/X6wIq2V7ctDcj/P/XzZpNReVbfud3Zq78xnbkrtZbp5ny9Ubnz+\n",
       "uRsSLukca/80Iq3Vc/TTaa2IiP0azqrceG7NtIRL2rW2rUtrRUSc1Hd8WuvepivTWlkWn5X33Pry\n",
       "fQeltSIiftNYe++PG712xsjKjR1vy/s7+6aE18BN7TxwZVprzB9+l9byTTAAAAAAimcEAwAAAKB4\n",
       "RjAAAAAAimcEAwAAAKB4RjAAAAAAimcEAwAAAKB4RjAAAAAAimcEAwAAAKB4RjAAAAAAimcEAwAA\n",
       "AKB4RjAAAAAAimcEAwAAAKB4RjAAAAAAimcEAwAAAKB4RjAAAAAAimcEAwAAAKB4RjAAAAAAimcE\n",
       "AwAAAKB49dnB6/c6L63VfbPWtFZExNnP3ZDWeuXUMZUbu9w5KeGSzrG8YZ/U3gOH9kpr7ftA9cYb\n",
       "TdOrRzZx86KJqb1MZ28xLq01YuD6yo2vL7wq4ZIOE/5ualrrsglpqXRXP3R0QuWVhEaH+aub01rH\n",
       "DK3+3Kpl3316664+4WOzx4gX8mKP5qWyXD6yJa3193fOTWt9Z0RaKs3cGQcm1u5JbEV8ZWje+/ZF\n",
       "+7yY1oqI+Pmy1FxlT63qn9rrtlnftNaG1qa0VkTEaWffUT3yv6onOssN52W+UDyd2Ip4pvmWyo1T\n",
       "+12ScEm7Oxsnp7UiIr4z6rW01gOPD0prRUS0rF9VubHT7YsSLmm3fkPuc+vYhry/hVqjLa0VEbHj\n",
       "bVen9qrK3EtqmW+CAQAAAFA8IxgAAAAAxTOCAQAAAFA8IxgAAAAAxTOCAQAAAFA8IxgAAAAAxTOC\n",
       "AQAAAFA8IxgAAAAAxTOCAQAAAFA8IxgAAAAAxTOCAQAAAFA8IxgAAAAAxTOCAQAAAFA8IxgAAAAA\n",
       "xTOCAQAAAFA8IxgAAAAAxTOCAQAAAFA8IxgAAAAAxas7ue+lbZnBe5quzMylunGfL6S1znnuhsqN\n",
       "l046JOGSDguXbZPWOnnObWmtbHOOPqZyY1Vjv4RLOhz35LS01k92GZfWioj4u1empPaq+vKQiam9\n",
       "ny+blNZa95Puaa2IiPdf2iGttdWUVyo3pu3/uYRLOpw299epvUzf3m5CWmtYw9rKjQnzr024pHNM\n",
       "GJz7O3nFirzfybfH71S5sa65d8IlHbb51QupvSxrZ+2Z2tvsuXmVG90vbk24pN2sw09Ia0VEHPzo\n",
       "/am9TBmv1UP7vZdwSbuDHv1tWivb1D3PT+1d+OL1lRvN/9Q/4ZJ2rS31aa2IiL7/uiqt9et9z0lr\n",
       "RUR87tkbU3tVjU9+b7wy8b1xxqEnpbUiIt5e3bdy49S5tyRcUvu26Zv79/uSpscrN/52aN5z9adL\n",
       "856n2Xp2H5LW8k0wAAAAAIpnBAMAAACgeEYwAAAAAIpnBAMAAACgeEYwAAAAAIpnBAMAAACgeEYw\n",
       "AAAAAIpnBAMAAACgeEYwAAAAAIpnBAMAAACgeEYwAAAAAIpnBAMAAACgeEYwAAAAAIpnBAMAAACg\n",
       "eEYwAAAAAIpnBAMAAACgeEYwAAAAAIpnBAMAAACgeEYwAAAAAIpX/8mt21KD9zSl5lIN6/d+V5/w\n",
       "X8xfsm1qb6fBy1J7tWr+iiGVG3sPfTPhks6xam19V5/QqbZtWN/VJ3ykpoXDUnv991mU2qvq3bU9\n",
       "u/qEj81WvVrSWu+s657WqkWLmzd09Qkf6fnn9qrc2HufFxMuqX2bPTcvtde6754JlecTGu0aP+yV\n",
       "1qp1A3uvrtx4b01DwiW1r6ml9j4zvfTY6LTWHofMSWtla2kt+7sUV66Y1NUnfKQZS3I/r47ccmVq\n",
       "r6pP9bk4tffb1VeltZY0PZ7Wioi4YNDEyo2fLq3d52qmtS15W0fZr14AAAAAEEYwAAAAAP4CGMEA\n",
       "AAAAKJ4RDAAAAIDiGcEAAAAAKJ4RDAAAAIDiGcEAAAAAKJ4RDAAAAIDiGcEAAAAAKJ4RDAAAAIDi\n",
       "GcEAAAAAKJ4RDAAAAIDiGcEAAAAAKJ4RDAAAAIDiGcEAAAAAKJ4RDAAAAIDi1UXUt2UG/3nH8Wmt\n",
       "1ra6tFZExHdfn5zWOrj3+ZUbs9Zcn3BJ51j02VGpve88Miat9at3JqW1siw6Pe/x+sTtc9JaERH/\n",
       "uP2EtNY2vddWbkyYf23CJR2m7ln9d3GjC1+s3d/J9dfXV27Un78+4ZIO/+cTea/3hw57M60VEXHY\n",
       "jHtTe1XdP/qzqb2mdT3TWmc8c1NaKyLiW9vlveb86xtXpLWyNH5jcFpr7owD01qHP35PWivL6vnH\n",
       "prX6DH8wrRURMXn4X6e1jt/nmbRWRP7ngKpeOTXveRoRsWFDt7TW8LtnpbUiIq7a/cLKjYvnTU24\n",
       "pHOs+/e8x77HZRvSWhERd+5/VuXG0P7vJVzSbsz036W1IiImDJ6Y1rpiRe39LTT7qGPSWuc90S+t\n",
       "FRHx4uppqb2SHdFwUWpvv/55n1cvX5r3vPdNMAAAAACKZwQDAAAAoHhGMAAAAACKZwQDAAAAoHhG\n",
       "MAAAAACKZwQDAAAAoHhGMAAAAACKZwQDAAAAoHhGMAAAAACKZwQDAAAAoHhGMAAAAACKZwQDAAAA\n",
       "oHhGMAAAAACKZwQDAAAAoHhGMAAAAACKZwQDAAAAoHhGMAAAAACKZwQDAAAAoHh1fzryxLbM4OhH\n",
       "HsjMpTqz/4S01q3vX1G5cc0eF1Q/ZBNb9l6T1vqrp25Ja2X7j90uqtyoq0t92sfE+demtd46Z++0\n",
       "VkTEsBufT+1VdfFWE1N7V62clNb6px0uSWtFRLy+Ou//Gaa+Xf3f2XJl7v97dB/fmtrL9NNdvpjW\n",
       "Ovuwxyo3tp46P+GSzvH3w3J/J3/4Vt7vZMbrxZgtmxMu6XDRS9el9rLMOvyE1F7jh70qN457clrC\n",
       "Je3WzRie1oqI6HFo7f5O3nvA6ZUbx1+a99jXX7ghrZXtln3PSe2d9eyNlRuX75r3/jN229fTWhER\n",
       "ox95MK31+lkj0loRETvc8nRqr6pRDbnPrTnN1Z9bG52R+DdtRMS44csqNzJf72vZN7fNfey//2b1\n",
       "TeGukWcmXNLulKduTWvVMt8EAwAAAKB4RjAAAAAAimcEAwAAAKB4RjAAAAAAimcEAwAAAKB4RjAA\n",
       "AAAAimcEAwAAAKB4RjAAAAAAimcEAwAAAKB4RjAAAAAAimcEAwAAAKB4RjAAAAAAimcEAwAAAKB4\n",
       "RjAAAAAAimcEAwAAAKB4RjAAAAAAimcEAwAAAKB4RjAAAAAAimcEAwAAAKB4dXV1DW2ZwRmHHpPW\n",
       "+uOSYWmtiIivLpyS1vrbbSZWbvx0yaSESzrH1XtckNp7+YOGtNYP36q9x+2HO12c1vr7V69Ka0VE\n",
       "LP7cfmmtd98ZULmx3wPTqx+yibq6+rRWW9v6tFa2T/e7pHLj7sbJCZd0aPmPvP9HaXxpu7RWRMTA\n",
       "X7ye2qtqybl7pfbWt+Q977f/9TNprYiI3x34mbTW8U/ekdaqRV8ZWv2zxEaXL62998bJw/86rXXJ\n",
       "/GvTWhER66bvlNZqm/NGWisioudXW1J7VbVcmft/5q2Nea9fPb+2Lq0VEbHwtNGVGztP+1PCJX95\n",
       "Fn12VPVG4t+OR826K60VETHr8BPSWgc/en9aK8s/71j9c+pGg3utTWtFRIyfNzW1l+mSwdU/B0xe\n",
       "kff+f9M+X0hrRUR032xDWuvhZdX/Dt3IN8EAAAAAKJ4RDAAAAIDiGcEAAAAAKJ4RDAAAAIDiGcEA\n",
       "AAAAKJ4RDAAAAIDiGcEAAAAAKJ4RDAAAAIDiGcEAAAAAKJ4RDAAAAIDiGcEAAAAAKJ4RDAAAAIDi\n",
       "GcEAAAAAKJ4RDAAAAIDiGcEAAAAAWyQavwAAIABJREFUKJ4RDAAAAIDiGcEAAAAAKJ4RDAAAAIDi\n",
       "1be1rUsNLm/cPK21/1Yr0loREbEwL3XQlu9XjyypnugsQxpWp/ba2upSe7Vm2z7NXX3CR3rtje3S\n",
       "WjvtsDitlWXy8HPTWuPnTU1rZRu36zuVG3c/lXDIJt57eqe01ua7vpnWqkXPz98ttTdi3+dTe5kG\n",
       "9mnq6hM61ZeHTExrXbTPi2mty5empdIcv88zebH5eamIiLY5b6S1uu2W99m33arkXjWrZuW+fg06\n",
       "bEFqL1Of/o1dfUKnunL3C9Na2Z+ZFryxfeXGzsPeSrikc/Tsnvs3d61pac1rrfywR16sxk1eMamr\n",
       "T/gvZq/KfT87dtjytNYVy/MeK98EAwAAAKB4RjAAAAAAimcEAwAAAKB4RjAAAAAAimcEAwAAAKB4\n",
       "RjAAAAAAimcEAwAAAKB4RjAAAAAAimcEAwAAAKB4RjAAAAAAimcEAwAAAKB4RjAAAAAAimcEAwAA\n",
       "AKB4RjAAAAAAimcEAwAAAKB4RjAAAAAAimcEAwAAAKB4RjAAAAAAimcEAwAAAKB4dRH1bV19xMdl\n",
       "ztHHpLVG/f6hyo3v7nBJwiUdBvVoSWtdtuCatFa2K3e/sHJjfWvu/nvpy3mP1yWDJ6a1IiImr5iU\n",
       "2qvqnYk7pvYGTnotrfW1YbmP/VY916e1vvHqVZUbUxJ+dzY1bt7U1F6mlmu7pbV++M9frNz41qIr\n",
       "Ey7pHB98fevU3uY/Wp7WenDMaZUbWzSsTrikw+hHHkjtZZm2/+dSewN7V3/cPjnz7oRL2t17wOlp\n",
       "rYiIk2bfntrLtPaPe1duTL9st4RL2h3/5B1prWzr7xqY2qs/5Z3KjVc/MzrhknYN/RvTWhERQ6bO\n",
       "S2udOzD3M9Ov3qmtz6vLLxye2tt66vy01vSxn05rRUQMHfR25cbwu2clXNI5rtvrvLTW0D5Naa2I\n",
       "nNfXzL9ffvxWbf0ebmrmYSektXwTDAAAAIDiGcEAAAAAKJ4RDAAAAIDiGcEAAAAAKJ4RDAAAAIDi\n",
       "GcEAAAAAKJ4RDAAAAIDiGcEAAAAAKJ4RDAAAAIDiGcEAAAAAKJ4RDAAAAIDiGcEAAAAAKJ4RDAAA\n",
       "AIDiGcEAAAAAKJ4RDAAAAIDiGcEAAAAAKF79lD0uSA2Oe+m61F6mH8zeNbH2UOVC3/rWhDs6rGv9\n",
       "y9g06xIa9ZvlPvaZvjzqudTe5PtTc5X9n9+cmFyclFbard+atFZERPOGbqm9qs45c1pqb9z3UnOp\n",
       "pv7wvLTWVz7/n5Ub3/q3hEM6yS9/c3Jy8Zq00sNLhlRu9O++IeGS2je033upvffWNKT2qjr+0tzX\n",
       "r7gwN5dp+mW7VW4c/d3HEi75s5PyUtme+NFBycX7Khf+uGB4wh3tBjc0pbXazUsrjRq0Lq0VEfGr\n",
       "d1JzlY2//cjk4vy00lUvbZfWiog4esighMqshEbn+OmiD9NaF287IK2V5dF3Grv6hI/F2Mfy/qj9\n",
       "y1hNAAAAAPiLZgQDAAAAoHhGMAAAAACKZwQDAAAAoHhGMAAAAACKZwQDAAAAoHhGMAAAAACKZwQD\n",
       "AAAAoHhGMAAAAACKZwQDAAAAoHhGMAAAAACKZwQDAAAAoHhGMAAAAACKZwQDAAAAoHhGMAAAAACK\n",
       "ZwQDAAAAoHhGMAAAAACKZwQDAAAAoHh19d0GtWUGL9/59LTWL95aldaKiHhp9Z1prWMbxlVuPNg8\n",
       "JeGSzjFl9wtTey+83zut9bOlk9JaWW4f8fm01ulP35zWioh49vhPprXeXLVV5caJs29PuKRDv147\n",
       "p7UaP1yY1sp218gzKzdOeerWhEs6NH1rUFpr6fO7pLUiInb9zROpvao++PqQ1N6aVf3TWltfOz+t\n",
       "FRFx96gz0lqfnnNbWivLrfudndZ6KvHn+P03r0hrZXnl1APTWrvc+WRaKyKi5cq8/wdeNWu3tFZE\n",
       "xJDr5qX2qlp/R97zNCKidUlTWqvHlzaktSIi5p08tnJj93tmJlzSOZ457oi01n4PTE9rRUT8fNeL\n",
       "Kjeeea9nwiXtrl6Z+/fGzfuck9b6/HM3prWyTNnjgrTW+tbc7+lMmH9tai/TT3f5YuXG375ydcIl\n",
       "7Y5oqP57uKmDBvZIa2V+zvFNMAAAAACKZwQDAAAAoHhGMAAAAACKZwQDAAAAoHhGMAAAAACKZwQD\n",
       "AAAAoHhGMAAAAACKZwQDAAAAoHhGMAAAAACKZwQDAAAAoHhGMAAAAACKZwQDAAAAoHhGMAAAAACK\n",
       "ZwQDAAAAoHhGMAAAAACKZwQDAAAAoHhGMAAAAACKZwQDAAAAoHhGMAAAAACKV79+w/upwdXru6W1\n",
       "zh28dVorIuIfFuW19hvQvXLjweaEQzpJ/55rU3vDN6/Liy3NS2XZouearj7hI73X1C+ttdu2i6tH\n",
       "ZldPbKrxw4W5wRrVvduGrj7hv2n5oE9aa9vRL6S1IiLiN7m5qlYvH5ja23LMvLzYtXmpiIg5bw/K\n",
       "DdaYM5+5Ka3VbbO+aa1atGFD3mfCbK2N9WmtQYctSGtFRMR1ubmqWpc05fYOGZlY+1NiK2Lxity/\n",
       "PWrNFU/vmVibntiKWNta/bsZJwx7N+GSdlevTEtFRESv+vW5wRrzwbrqfxtv1JZWqn0zV+Y9bhne\n",
       "i9WpvW51PdJa39h2QlrLN8EAAAAAKJ4RDAAAAIDiGcEAAAAAKJ4RDAAAAIDiGcEAAAAAKJ4RDAAA\n",
       "AIDiGcEAAAAAKJ4RDAAAAIDiGcEAAAAAKJ4RDAAAAIDiGcEAAAAAKJ4RDAAAAIDiGcEAAAAAKJ4R\n",
       "DAAAAIDiGcEAAAAAKJ4RDAAAAIDiGcEAAAAAKJ4RDAAAAIDi1UXUt3X1ER+lV49tUnuX73R8Wmv8\n",
       "vKmVGxO2nphwSYe1G/Ja1749KS+WbOqe51duvLO2R8IlHb66cEpa6+wBuc+Lm96trZ/l8gt3T+1t\n",
       "PXVeWuvohi+mtSIiZq7/XVprzbo3Kjd+sdtFCZd0+NLL16T2MrVMzvs/nik/uaByY+LL11Y/pJOs\n",
       "v7lXaq/+8x+mtb6/08WVG6MHL0+4pMPRf/xNai9Lxnvjpppa6is3vrwg7zXiln3PSWtFRJz17I2p\n",
       "vUzr7xpYufHEjw5KuKTdIY/dl9bK1vj6Z1J7/Xa4o3Lj3lGnJ1zSbu+dF6a1IiJ2uHVuaq9kMw49\n",
       "MbV36Iy836P7R382rRURMaBhdeXGQX/4bcIlnePK3S9Ma+07eFlaKyLi4Efvr9y4eHDe345Xrait\n",
       "vxs39R+Jf8f4JhgAAAAAxTOCAQAAAFA8IxgAAAAAxTOCAQAAAFA8IxgAAAAAxTOCAQAAAFA8IxgA\n",
       "AAAAxTOCAQAAAFA8IxgAAAAAxTOCAQAAAFA8IxgAAAAAxTOCAQAAAFA8IxgAAAAAxTOCAQAAAFA8\n",
       "IxgAAAAAxTOCAQAAAFA8IxgAAAAAxTOCAQAAAFA8IxgAAAAAxauLqG/LDP7bJ8antaYtX53Wioj4\n",
       "U/MNaa0Hx5xWuXHsE9MSLukc47aamNq7YPhraa1DZtyX1srylaF5j9flSyeltSJynqsbDer3QeXG\n",
       "yId+n3BJhyeOOD6tNWb679JaERHdNuuX1hrT8zOVGzPXXJ9wSYfM59bmvZrTWhERY/6Q+7Os6vb9\n",
       "Pp/am71qi7TW99+8Iq0VEbH+loa0Vv1Zuc+LDDfv84W01mln35HW6vW/au+xumr3C9NaF8+bmtaK\n",
       "iFh42ui0Vp/+jWmtiIgh181L7VU17+Sxqb3FK7ZOax33ZO5n6eZ5R1duNOye+zkn09xjjkpr7f/Q\n",
       "w2mtiIhRDWdXbsxpvinhks7xymkHprV2mfZkWivL2N7np7WuOOz1tFZExH4PTE/tZdqu7xGVG280\n",
       "Ta/c6CznDsz7G/mGd6ektXwTDAAAAIDiGcEAAAAAKJ4RDAAAAIDiGcEAAAAAKJ4RDAAAAIDiGcEA\n",
       "AAAAKJ4RDAAAAIDiGcEAAAAAKJ4RDAAAAIDiGcEAAAAAKJ4RDAAAAIDiGcEAAAAAKJ4RDAAAAIDi\n",
       "GcEAAAAAKJ4RDAAAAIDiGcEAAAAAKF5dRH1bVx/xcfnK0IlprcuXTqrcuGfUGQmXdHhs+ZZprR+8\n",
       "eUVaK9v0sZ+u3FjWuHnCJR0+99yNaa1vDJuQ1oqI+MFbtfWzfOigU1N7x/zxzrTW44edmNaKiPjS\n",
       "nP5prbnNN1dufG2bvNfAiIgfL6n+OthZ7hp5ZlrrzsXVX1uvfbt2H6t/2C73Neff3sh7zVl/Y8/K\n",
       "jZZF3RMu6dD7202pvSzN/5T3ehMR8dJjoys3Rv3+oYRL2l2+6xfTWhERX1lwdWov06ufqf7Y/3HB\n",
       "8IRL2p393A1prWz3jjo9tXfSnNsrN5pfODzhknY9Fj6f1oqIqD/lnbTWcX3GpbUiIh5YPSW1V9UJ\n",
       "fS5O7d2/+qq01vxPH5zWiohYuHRY5caJs6v/7nSWOUcdk9Z6d3XftFZExDFPVP875tFDTk64pN3h\n",
       "j9+T1qplvgkGAAAAQPGMYAAAAAAUzwgGAAAAQPGMYAAAAAAUzwgGAAAAQPGMYAAAAAAUzwgGAAAA\n",
       "QPGMYAAAAAAUzwgGAAAAQPGMYAAAAAAUzwgGAAAAQPGMYAAAAAAUzwgGAAAAQPGMYAAAAAAUzwgG\n",
       "AAAAQPGMYAAAAAAUzwgGAAAAQPGMYAAAAAAUr76rD/g4bdVzQ1ef8F+sb83dII8YsiKt9YM301Lp\n",
       "1q2v/rTda5vkf+BzeanDh67Mi0XED95KzVU2dMCqrj7hY/OlHXqmtS56qXpj7OB3qkc2tSQ3l2nI\n",
       "5u+ltbbuPSitVYuOGLostfdvb+S11r9W/fW+fmSfhEs21ZTcy9HakvuRbo9D5lSP/L56YqOx276e\n",
       "F4uIWJCby9TQv7FyY3BDbT5Ps+2988LcYMLTvsfC56tH/qz5gBPTWu1uSCu1tqWlatKCutr9Y+j9\n",
       "xn6pveHbLa4emV090VmeX75NWmvEsITHKlnfXmu6+oT/cXwTDAAAAIDiGcEAAAAAKJ4RDAAAAIDi\n",
       "GcEAAAAAKJ4RDAAAAIDiGcEAAAAAKJ4RDAAAAIDiGcEAAAAAKJ4RDAAAAIDiGcEAAAAAKJ4RDAAA\n",
       "AIDiGcEAAAAAKJ4RDAAAAIDiGcEAAAAAKJ4RDAAAAIDiGcEAAAAAKJ4RDAAAAIDiGcEAAAAAKJ4R\n",
       "DAAAAIDi1UXUt3X1EX+pdu17UmpvQdO9aa1Zh5+Q1oqI+Nmzn0hr3fLepLRWltdOH5nW2vH2p9Ja\n",
       "ERH/sN2EtNaQXi2VG5ctuDrhkg7jtpqY1pqysvaeWxvdf8BnKzdOmP2fCZd0OL7PxWmtLXvUp7Ui\n",
       "Im58t7Z+ljfu/YXU3jnP35Day3THiM+ltT7z9K/TWlnW/mlEWuuG8/JaF710XVory7p/75bW6nHZ\n",
       "hrRWtit3vzC1N37e1NReVc8cd0Rq74qn90xrTV6R+1o/95ijKjf2f+jhhEs6R9Oa76e1+vb+Zlor\n",
       "IuKg3udVbgyub0i4pN1djZPTWhERXxqS93n1F8tq6zNORMSy8/dIa/3v3x6Z1oqIuGJ57T1eGy06\n",
       "fVTlxidun5NwSbuZh+VuAFsNfCettetvnkhr+SYYAAAAAMUzggEAAABQPCMYAAAAAMUzggEAAABQ\n",
       "PCMYAAAAAMUzggEAAABQPCMYAAAAAMUzggEAAABQPCMYAAAAAMUzggEAAABQPCMYAAAAAMUzggEA\n",
       "AABQPCMYAAAAAMUzggEAAABQPCMYAAAAAMUzggEAAABQPCMYAAAAAMUzggEAAABQvLpf7Da+LTP4\n",
       "pZevycyl2qPPaWmtl1ZPq9zYus+YhEs6HFA3Iq11b9OVaa1sO/Y9tnLjrQ+fSrikQ8v6VWmt72x/\n",
       "SVorIuJ7iyen9kr2s12+mNrboue6tNYFL/yycuORg09JuKTDkbPuSu1laui5fVrrzv1GVW4c92T1\n",
       "94zO0qP74NTeupYVaa3+vYdXbvTYrF/CJR1Wrp6d2svy633PSe21tFb/f9Jzn/9VwiXtXj8r7zNO\n",
       "RMQOtzyd2st07sCJlRujBuW9//zNgqvTWn8JjuszLq3VmvpXWsRDzVPSWh/OPTCtFRHRa/8nU3tV\n",
       "TU/+zHRE4mem7Pfth8eMrtw4dMa9CZd0jjG9z01rPbEm730ty5p/6ZvW6v3tprRWthv2zvs5+iYY\n",
       "AAAAAMUzggEAAABQPCMYAAAAAMUzggEAAABQPCMYAAAAAMUzggEAAABQPCMYAAAAAMUzggEAAABQ\n",
       "PCMYAAAAAMUzggEAAABQPCMYAAAAAMUzggEAAABQPCMYAAAAAMUzggEAAABQPCMYAAAAAMUzggEA\n",
       "AABQPCMYAAAAAMUzggEAAABQPCMYAAAAAMWri6hvywz+dJcvprWefbdHWisiYuqqSWmtoX3HVm4s\n",
       "bZqZcEnnOKz3ham9l7u9mNZa3vREWivLNn0PTWstaZqR1oqI+MftL0lrLV9TfTe/amXe72FExKiG\n",
       "s9Nac5pvSmtlm7rn+ZUbF754fcIlHR4cc1pa6+V3B6a1IiIuffma1F5Vd486I7X3zoe901rnv/DL\n",
       "tFZExPmDJqa1rk98386yX8NZaa1nmm9Ja9WiO/fPe6xOnZv7WC367Ki01oI3tk9rRUQc9+S01F5V\n",
       "P9/1otTe2ta8/4P/2sIpaa2InM8UtfxZ4qDe56W1/rgm971j3cw9Kjfqnp+fcEm77he3prUiIp45\n",
       "9si01n4PPpLWynLD3uemtT4xYFVaKyLikMfuS+1l+srQ6p+ZLl+a91lp9T8OSGtFRGxY0zOttfmP\n",
       "l6W1fBMMAAAAgOIZwQAAAAAonhEMAAAAgOIZwQAAAAAonhEMAAAAgOIZwQAAAAAonhEMAAAAgOIZ\n",
       "wQAAAAAonhEMAAAAgOIZwQAAAAAonhEMAAAAgOIZwQAAAAAonhEMAAAAgOIZwQAAAAAonhEMAAAA\n",
       "gOIZwQAAAAAoXn12cP4HPdJae26xPq0VERGr8lI7bxheubE0ZiZc0jm279U7tddt7d5preXxRFor\n",
       "y5jN8v5902JGWisi4q63301rjekzKK2V5YC+W6S15jSnpdIN7dPY1Sf8N/PfHZjW2nPQ22mtWrTw\n",
       "/f6pvdFDl6T2Ml2/alJXn9CpnlszLa11ar9L0lp3Nk5Oa2UZ2v+9rj7hIy1aMiyttfOwt9JateiZ\n",
       "93qm9k4Ylve5JNuc5pu6+oRONbi+oatP+Eh1z8+v3NgwckTCJRs9ldiKWPlB7ueAWtOvx9q0VsuG\n",
       "bmmtWndv42tdfcJ/8ehvj0rtjR45N7WXxTfBAAAAACieEQwAAACA4hnBAAAAACieEQwAAACA4hnB\n",
       "AAAAACieEQwAAACA4hnBAAAAACieEQwAAACA4hnBAAAAACieEQwAAACA4hnBAAAAACieEQwAAACA\n",
       "4hnBAAAAACieEQwAAACA4hnBAAAAACieEQwAAACA4hnBAAAAACieEQwAAACA4tVF1Ld19REflyl7\n",
       "XJDWGvfSdZUbxzSMq37IJgZ0r09r3fb+FWmtbKf0u6Ry48PWDQmXdHhg9ZS0Vv/ee6S1IiLeX/NS\n",
       "aq+qf9lxfGrv269dmda6YNDEtFZExLrWvNZN706q3Nijz6kJl3R4afWdqb1Mc485Kq31/dnDKzdu\n",
       "ea92X1OfO/6Tqb19fveHtNan+lxcudHU2pJwSYcZa6am9rKMH5z7+nXliuqvOZlGNZyT2pvTfGNq\n",
       "L9PyC6u/5oy//ciES9rd2Tg5rZVtxqEnpvYOnXFf5cYJCa9bGy2oezOtFRHxSlP1f99G0w8+Ja0V\n",
       "EXHErLtSe1WtfiX3udVnl7zH/oEDT0trRUSM2OeFyo3B17yccEnneOW0A9Nam9UlfriPiJ3umF25\n",
       "8eOd8zaFry3M+5s22+pvDUpr+SYYAAAAAMUzggEAAABQPCMYAAAAAMUzggEAAABQPCMYAAAAAMUz\n",
       "ggEAAABQPCMYAAAAAMUzggEAAABQPCMYAAAAAMUzggEAAABQPCMYAAAAAMUzggEAAABQPCMYAAAA\n",
       "AMUzggEAAABQPCMYAAAAAMUzggEAAABQPCMYAAAAAMUzggEAAABQPCMYAAAAAMWri6hvywxO3Hpi\n",
       "WmtR0/q0VkTE/auvSms9cOBplRvHPTkt4ZLOMarh7NTeV3fO21vPfu6GtFaWIxouSmtNb74mrRUR\n",
       "cUb/CWmtPfpXf7n43uLJCZd0ePywE9Nahzx2X1or2yn9LqncuKsx97H/5V7npbUG9lqT1oqIOHnO\n",
       "bam9qv5ph+o/v011q8t76/7H165Ma0VEzDt5bFpr93tmprWynNR3fFrrO6NeS2uN+cPv0lpZJgzO\n",
       "+0x4xYpJaa2IiFmHn5DW6tl9XVorImLk73+f2qvq5n3OSe31qs/7fH/a3FvSWhERr5x2YOXGLtOe\n",
       "TLikc3xpSN7v5C+W5f5OPnPskZUbKz/on3BJu2OeuDOtFRHR+MYZaa1+29XWZ5yIiKcTfn4b7X3+\n",
       "42mtiIj6L+S+RmeqtU3hrpFnprUiIoYPeyOvdfestJZvggEAAABQPCMYAAAAAMUzggEAAABQPCMY\n",
       "AAAAAMUzggEAAABQPCMYAAAAAMUzggEAAABQPCMYAAAAAMUzggEAAABQPCMYAAAAAMUzggEAAABQ\n",
       "PCMYAAAAAMUzggEAAABQPCMYAAAAAMUzggEAAABQPCMYAAAAAMUzggEAAABQPCMYAAAAAMWri6hv\n",
       "6+ojPi6n95+Q1rr9/SsqN+474PSESzrMXTUorfWtRVemtbLdsPe5lRur1vZMuKTDVxZcnda6YNDE\n",
       "tFZExHWrJqX2qjov+d/3y8R/36OHnJzWioh46I1t01rfWzy5cuNvhuY+9j9bWlvPrU39cq/z0lp3\n",
       "v9mncuO2hPeMzvKTXcal9v7ulSlprec/dXjlRvOHvRIu6XDg9AfSWt3r8963HznooLRWRMSMJcMq\n",
       "N7756lUJl7Q7I/EzXERt/05OH/vpyo2rXtou4ZJ2N71bu6/194/+bGrvhD/9Z+XG/E8fnHBJu/cb\n",
       "+6W1InJfv3p0H5zWiohY17IitVfVAweelto77slpaa2mRX+V1oqI6DX3kcqN+s98kHBJ51h/XX1a\n",
       "q21Na1orIqL7hOq9Nz6/b8Il7ba7+dm0VrZvb5f3OcA3wQAAAAAonhEMAAAAgOIZwQAAAAAonhEM\n",
       "AAAAgOIZwQAAAAAonhEMAAAAgOIZwQAAAAAonhEMAAAAgOIZwQAAAAAonhEMAAAAgOIZwQAAAAAo\n",
       "nhEMAAAAgOIZwQAAAAAonhEMAAAAgOIZwQAAAAAonhEMAAAAgOIZwQAAAAAonhEMAAAAgOIZwQAA\n",
       "AAAoXv02fQ9JDS5pejy1l2nHvnV5sferJ95o6lc9som9tngvtVerFq9uqNzYa8C7CZd0jl0335Ab\n",
       "XJWbq2rz7l19wUdb0tg/tTd6q8QHf3H1xNitcl8jfrY0NZdqWL+EF+k/229A78qN2/LOSbdNQ3NX\n",
       "n/CRnn5zh8qNkdsvSrikc7Ssz3uNeHt137RWRMTILVdWj7xaPbHRuOHL8mIRcduTqblUQwe9Xblx\n",
       "9JBBCZe0u6l2PzLFgIbVXX3Cf7Nw6bC01vDtEt78O8nDY0an9g6dcW9qr6oR+7yQG0x8zek195G8\n",
       "WESs231kQmV6QqNzNM7O+53sd+wHaa121V9g+wys4Q+ZifYZkPfv9E0wAAAAAIpnBAMAAACgeEYw\n",
       "AAAAAIpnBAMAAACgeEYwAAAAAIpnBAMAAACgeEYwAAAAAIpnBAMAAACgeEYwAAAAAIpnBAMAAACg\n",
       "eEYwAAAAAIpnBAMAAACgeEYwAAAAAIpnBAMAAACgeEYwAAAAAIpnBAMAAACgeHUR9W1dfcT/RA09\n",
       "t6/caF67OOGSzjF97KdTe198tjWt9UrTvWmtLDMOPSmtdeiM3H/feQMnprV27lf95/jd1ycnXNKh\n",
       "d49t01pr1r2Z1so287ATKjfGPnZ/wiUdfrTzuMRaXWIr4usLr0rtVfWTXTIfq4h1rXmP1zdfzX2s\n",
       "Ltwy7zVn6tuT0lpZFp81Iq210+2L0lrrN7yf1soy+6hj0loHPPxQWisi4p93vCSt1ZL3ESciIr63\n",
       "OPd9sqope1yQ2vtgXfe01lcXTklrRUSM7X1+5cbMNdcnXNI5lp2/R1pryPUvpbUiIm7Y+9zKjX49\n",
       "1iZc0u6vnro1rRUR8fSxR6a1Rjz4SForywcrx6e1Zp+yNK0VEXHUrLtSe5nWztyzcqPn2BcTLmm3\n",
       "6PRRaa2IiC2GrkxrDfh53nbim2AAAAAAFM8IBgAAAEDxjGAAAAAAFM8IBgAAAEDxjGAAAAAAFM8I\n",
       "BgAAAEDxjGAAAAAAFM8IBgAAAEDxjGAAAAAAFM8IBgAAAEDxjGAAAAAAFM8IBgAAAEDxjGAAAAAA\n",
       "FM8IBgAAAEDxjGAAAAAAFM8IBgAAAEDxjGAAAAAAFM8IBgAAAEDx6rODfXp+Iq21eu2itFa2S7c8\n",
       "uXLjR29NSrikc5z97Dupvb8ZvFda6++b0lJpLntq864+4SMtX7s+rdW4vvZ28xHdjk5rzYrr01rZ\n",
       "Lp2zRVef8N980JL3FtKWVqpNjS3duvqEj83Fe76a1pr6aFoqzZfvOyittX7D02mtbJ/qc3HlxnlP\n",
       "rEy4pHMM7rU2rbXywx5prVq0vjX3vb+WX++vOOz1yo39Hkg4pJP8798emVh7KbEV8YkBqyo3WjbU\n",
       "7nvt3uc/nhd7MC+VZfYpS9Nah//NQ2mtiIiYlZvL9Njf7pZQeTGh0W7m/D3SWhERfRbuklhbnFaq\n",
       "vb9oAQAAACCZEQwAAACA4hnBAAAAACieEQwAAACA4hnBAAAAACieEQwAAACA4hnBAAAAACieEQwA\n",
       "AACA4hnBAAAAACieEQwAAACA4hnBAAAAACieEQwAAACA4hnBAAAAACieEQwAAACA4hnBAAAAACie\n",
       "EQwAAACA4hnBAAAAACieEQwAAACA4hnBAAAAACheXUR9W1cf8XHp12vXtFbjhwsqNy7demLCJR3u\n",
       "WP10Wmtp08y0VrZ/3XF85caRLg3tAAALm0lEQVSi1d0SLulw9cpJaa0t++yf1oqIeHv13NReVecO\n",
       "zH3e3/z+jWmtw3uekdaKiHi4+erUXlXb9v1kau/Npj+k9jL9S8LrxEZ3rmiq3JjdnPc8zfbjncel\n",
       "9r62cEpa6/HDTqzcePP9LRIu6XDWszeltY5tyHvsH2zOe9zpWtftdV7lxk8XfZhwSbtnmm9Na2W7\n",
       "cvcLU3vj502t3Jhz1DEJl7R7fvk2aa2IiPNf+GVaa0zvc9NaERFPrPlVaq+qV047MLW3y7Qn01rr\n",
       "r6tPa0VENM4eVrkx4BevJ1zSOdb/sntaa8Py3O8Q9fz62sqNF044LOGSdnvd/1haK9u8kw9Ja/km\n",
       "GAAAAADFM4IBAAAAUDwjGAAAAADFM4IBAAAAUDwjGAAAAADFM4IBAAAAUDwjGAAAAADFM4IBAAAA\n",
       "UDwjGAAAAADFM4IBAAAAUDwjGAAAAADFM4IBAAAAUDwjGAAAAADFM4IBAAAAUDwjGAAAAADFM4IB\n",
       "AAAAUDwjGAAAAADFM4IBAAAAULz6rj7g41RXV1ubX33yOWf2G5HWurxpZlor29rWusqNwwc3JVzS\n",
       "4eqVea3dWvfNi0XE2zE3tVfV5t1zezv2PiSt1RDd0lq16KzN90rt/d+mP6T2Mu3Qtzmtdcja/pUb\n",
       "s/POSbdTv8auPuEjLW/cvHJj9yFLEi7ZxLN5qdZoS2tt0zfvtTAiYknT46m9qr657YTU3vffvCK1\n",
       "l2lon+qfUS7edkDCJe0ufTktlW7fwctyg/OqJ95d3bd65M9GDFuc1oqIiBfyUk+s+VVerAZtVtfa\n",
       "1Sd8pLY1ubf1O/aD6pFfVE90lg3LE//oPny3vFZERDxXuTBj0S4Jd2z0WGIr19kPb5/Wqq1VCAAA\n",
       "AAA6gREMAAAAgOIZwQAAAAAonhEMAAAAgOIZwQAAAAAonhEMAAAAgOIZwQAAAAAonhEMAAAAgOIZ\n",
       "wQD+X7t2/6t1Xcdx/H0ExHMOaByG4hAsQctMnaCuwdiYlclEVws1BRstIqFmc3Nr82ZrS9tqTftF\n",
       "QKtJ3uFd05EitXQEcWaiaEqLO1OkKepgIufGg9npB3Tw+/d98vLd4/EHPPe5zvW9vt/rvHYBAABQ\n",
       "nhEMAAAAgPKMYAAAAACUZwQDAAAAoDwjGAAAAADlGcEAAAAAKM8IBgAAAEB5RjAAAAAAyjOCAQAA\n",
       "AFCeEQwAAACA8oxgAAAAAJTXFjF88OM+BK3nxkmLU3s/eW1Zaq/VPHrWZWmtrz3/QForImJMx2lp\n",
       "rVMHz27c6O7/bcJJPhlmtC9Ia23oX5HWyrJw3JK01oa+N9JaERH/6H0ktdfUdRNz76mb38l7dK/a\n",
       "vzytFREx95i81/rwvtZ7drx6ydS01qcf2pTWyrZgbPPP94o9SxNOMjSuOjbv/rX8rdZ9nRlunbIw\n",
       "tdf99oi01kPJ94iJo2Y1buzqWdu4MVRemTstrfWZh59La0VE/PD45p/Jx/e/2vwgH9rRszqtFRHx\n",
       "x3O/ntY6/5nW+o4TETHQ/fm01vprTklrRUR8+a+PpvYy9W6/oHGj8+Q1CSc5aOXp89NaERHnTtma\n",
       "1pr8yMa0ll+CAQAAAFCeEQwAAACA8oxgAAAAAJRnBAMAAACgPCMYAAAAAOUZwQAAAAAozwgGAAAA\n",
       "QHlGMAAAAADKM4IBAAAAUJ4RDAAAAIDyjGAAAAAAlGcEAwAAAKA8IxgAAAAA5RnBAAAAACjPCAYA\n",
       "AABAeUYwAAAAAMpr+/5xVw9mBm97c2lmLlXHyElprb6B1xo3zutYmHCSQ446Ylhaa3XP7WmtbOd3\n",
       "frdxY+9gX8JJDnm279601kNnXp7Wioi45G8rU3tNfbVzUWrvD713pLW+1bUkrRUR8ecD29JaO3v+\n",
       "1Lhx3cTFCSc55Ke7lqX2Ms1oX5DWOrmjo3FjxZ7WfTaeMmpOam9bz2NprfvPmNe4Ma6jN+Ekh3zp\n",
       "6UdTe1muOT73/nXrG611za6aemlq7+JND6b2Ml07ofl7uW7v/oSTHPRM/91prWyLjs297u94q/l1\n",
       "v25G3j111FH9aa2IiKlPPpnW6r9pVForIqL9hp7UXlO/mNz8/43DXfvyr9Jauy4/I60VEdHZta9x\n",
       "o+u2nQknGRp/nz0zrfWXV6aktSIivrflzsaNd3cvaH6QDx09fkVaK9uWOdPTWn4JBgAAAEB5RjAA\n",
       "AAAAyjOCAQAAAFCeEQwAAACA8oxgAAAAAJRnBAMAAACgPCMYAAAAAOUZwQAAAAAozwgGAAAAQHlG\n",
       "MAAAAADKM4IBAAAAUJ4RDAAAAIDyjGAAAAAAlGcEAwAAAKA8IxgAAAAA5RnBAAAAACjPCAYAAABA\n",
       "eUYwAAAAAMprixg+mBm8smtJWuvpA6+ltSIitvc8ltqr7KLRV6X2Xhzcntba2fNkWivLKaMuSmtt\n",
       "6/l9Wisi4v4z5qW1tuwb3bjx453LE05ySMfIE9NafQM701rZZrQvaNzY0L+iceNwV4/Pu99vfvdA\n",
       "Wisi4qm+X6f2mlowNu9vFRHxav9AWmtt32/SWhERF3QuSmut6b0jrZXlvtPnp7WueOmetFYrmtXx\n",
       "nbRW9nWa+T4+u+fotFZExC2vL03tNZX5PkZEvBO9aa0X+u5Pa/0/6J45O601ff0Taa2IiN4bxzRu\n",
       "rFtzXsJJDpq98XdprYiIVVMvTWtdvOnBtFaWV+ZOS2t1bz01rRURMa+Fn7UrE55Flye+vv3/+mZa\n",
       "KyJi5I6Naa0jZ72c1vJLMAAAAADKM4IBAAAAUJ4RDAAAAIDyjGAAAAAAlGcEAwAAAKA8IxgAAAAA\n",
       "5RnBAAAAACjPCAYAAABAeUYwAAAAAMozggEAAABQnhEMAAAAgPKMYAAAAACUZwQDAAAAoDwjGAAA\n",
       "AADlGcEAAAAAKM8IBgAAAEB5RjAAAAAAyjOCAQAAAFCeEQwAAACA8oZnB4e15bUuHD0pLxYRv+xJ\n",
       "zZWWvY6OHhyTXGwtJ/znuLTWtrTSQe8MjExrTRu7t3lkZ/PE4WaNuCCttXrg9rRWtvEj2ptH+psn\n",
       "hsrZY45M7T3Vl5pr7Mhhub0T2/M+15H8t7pwwgdprTXZN8QEk7ve/riP8Ilx5jF51+na5Ot0xBF5\n",
       "1+lXJryZ1oqIuOX11FxjX+zKvT8Pa8vrvZB8XVzZtaRx4+69SxNOMjTGdSV8jxsiH/Q3v1+cM/X5\n",
       "hJN8aGNeKiLisxN25cU25aWyfOr4vGdj58tT0lqt7twpW5tHXmqe+MjIHbkX/ntnzU2s/Syt5Jdg\n",
       "AAAAAJRnBAMAAACgPCMYAAAAAOUZwQAAAAAozwgGAAAAQHlGMAAAAADKM4IBAAAAUJ4RDAAAAIDy\n",
       "jGAAAAAAlGcEAwAAAKA8IxgAAAAA5RnBAAAAACjPCAYAAABAeUYwAAAAAMozggEAAABQnhEMAAAA\n",
       "gPKMYAAAAACUZwQDAAAAoLy2iOGDH/ch/leun7g4rXXzrmVprSyjjjoprdXz3j/TWtnO6ZjfuLF1\n",
       "cGPCSQ55t39raq+y9TMuTO3N3PB4Wuu0zm+ktSIiJh8xLq21av/ytFaWme3fTmut778zrRUR8fOT\n",
       "FqW1Htjd27jxXN+9CScZGjckPhsjIm5KfD7OG7OkcaOtLeEgh7ln79LcYJKRI8an9gbe353aazWL\n",
       "j2t+bX1k2Zu510T3zNmNG9PXP5FwkqHxoxPy7jmTOg6ktSIifrD9rsaNwcH3E07S+u75wpWpvfmb\n",
       "707tNdV7/djUXufNe9Ja2c/t08fsa9y47MX7Ek4yNLbMmZHWuuKpSWmtiIhNfSsbN7bMmZ5wkoM+\n",
       "91h3WivbvwdXpLX8EgwAAACA8oxgAAAAAJRnBAMAAACgPCMYAAAAAOUZwQAAAAAozwgGAAAAQHlG\n",
       "MAAAAADKM4IBAAAAUJ4RDAAAAIDyjGAAAAAAlGcEAwAAAKA8IxgAAAAA5RnBAAAAACjPCAYAAABA\n",
       "eUYwAAAAAMozggEAAABQnhEMAAAAgPKMYAAAAACU91819YlKEtjUBwAAAABJRU5ErkJggg==\n",
       "\" transform=\"translate(519, 195)\"/>\n",
       "</g>\n",
       "<defs>\n",
       "  <clipPath id=\"clip984\">\n",
       "    <rect x=\"2160\" y=\"195\" width=\"73\" height=\"1218\"/>\n",
       "  </clipPath>\n",
       "</defs>\n",
       "<g clip-path=\"url(#clip984)\">\n",
       "<image width=\"72\" height=\"1217\" xlink:href=\"data:image/png;base64,\n",
       "iVBORw0KGgoAAAANSUhEUgAAAEgAAATBCAYAAACYHdJEAAAKsUlEQVR4nO3dwY3sRhAFQY5Q/lsh\n",
       "L6XfLQtUeSQPERYMEg9Ek8Od/f17/r4P/+uvtz/A1wkUBAoChTn337c/w6dZUBAoCBQECnPvn7c/\n",
       "w6dZUBAoCBQECk7SwYKCQEGgIFCY6yK9sqAgUBAozD2uQRsLCgIFgYJAwUExWFAQKAgUBAou0sGC\n",
       "gkBBoCBQ8LgjWFAQKAgU5nFQXFlQECgIFAQK7uaDBQWBgkBBoDCPu/mVBQWBgkBBoDDP+eftz/Bp\n",
       "FhQECgIFj1yDBQWBgkBBoOBuPlhQECgIFAQKLtLBgoJAQaAgUPC4I1hQECgIFObnoLiyoCBQECgI\n",
       "FOY5fst1Y0FBoCBQECg4SQcLCgIFgYJAwUk6WFAQKAgUfDcfLCgIFAQKAoX5OSiuLCgIFAQKAgUv\n",
       "UAULCgIFgYJAwUk6WFAQKAgUfO0TLCgIFAQKAgUHxWBBQaAgUBAoOEkHCwoCBYGCQMFJOlhQECgI\n",
       "FOY55+3P8GkWFAQKAgWBgoNisKAgUBAoCBQ8cg0WFAQKAgWBgot0sKAgUBAozM8j15UFBYGCQEGg\n",
       "4KAYLCgIFAQKAgUvLwQLCgIFgYJAweOOYEFBoCBQcDcfLCgIFAQKAgV388GCgkBBoCBQcJEOFhQE\n",
       "CgIFgYK/FwsWFAQKAgUHxWBBQaAgUBAouEgHCwoCBYGCQMFFOlhQECgIFAQKLtLBgoJAQaAwz3UN\n",
       "2lhQECgIFAQKDorBgoJAQaAgUHCRDhYUBAoCBYGCi3SwoCBQECjMc+7bn+HTLCgIFAQKAgUHxWBB\n",
       "QaAgUBAoOEkHCwoCBYGCQMFJOlhQECgIFBwUgwUFgYJAQaAwj3PiyoKCQEGgIFCY5zpJbywoCBQE\n",
       "CgIFJ+lgQUGgIFBwDQoWFAQKAgWBwvjxl50FBYGCQEGg4CQdLCgIFAQKAgUX6WBBQaAgUJjn/N7+\n",
       "DJ9mQUGgIFAQKMy9LtIbCwoCBYGCQMHdfLCgIFAQKAgUPO4IFhQECgIFgcLco9FGnSBQECg4KAYL\n",
       "CgIFgYJAYR7fi60sKAgUBAoChblO0isLCgIFgYJAYR6PXFfqBIGCQMFBMVhQECgIFAQKHrkGCwoC\n",
       "BYGCQMELVEGdIFAQKAgUvGEWLCgIFAQKHrkGCwoCBYGCQGHu1WijThAoCBQECu7mgwUFgYJAQaDg\n",
       "cUewoCBQECjM425+pU4QKAgUBAoOisGCgkBBoCBQcJEOFhQECgIFgYK/FwsWFAQKAgV/DhXUCQIF\n",
       "gYJAwf84DBYUBAoCBYGCR67BgoJAQaAgUPBbrkGdIFAQKLibDxYUBAoCBYGCu/lgQUGgIFAQKDhJ\n",
       "BwsKAgWBgkDBG2ZBnSBQECg4KAYLCgIFgYJAwSPXYEFBoCBQECg4SQcLCgIFgYJAwQ9uBwsKAgWB\n",
       "gv/MEtQJAgWBgkDB3XywoCBQECgIFHwvFiwoCBQECgIFJ+lgQUGgIFCY4xq0sqAgUBAoCBT8OVRQ\n",
       "JwgUBAoCBXfzwYKCQEGgIFBwkQ4WFAQKAgXfzQcLCgIFgYJAwUExWFAQKAgUBAou0sGCgkBBoCBQ\n",
       "8Ee9QZ0gUBAozPHIdWVBQaAgUBAouJsPFhQECgIFgYKLdLCgIFAQKAgUXKSDBQWBgkDBDwsECwoC\n",
       "BYGCQMFBMVhQECgIFAQKLtLBgoJAQaAgUPCWa1AnCBQECt5yDRYUBAoCBYGCu/lgQUGgIFAQKLhI\n",
       "BwsKAgWBgkDBG2bBgoJAQaDgoBgsKAgUBAoChbmPi/TGgoJAQaAgUHA3HywoCBQECgIFjzuCBQWB\n",
       "gkDBQTFYUBAoCBQECg6KwYKCQEGgIFBwkg4WFAQKAgWBgpN0sKAgUBAouAYFCwoCBYGCQGGOt1xX\n",
       "FhQECgIFgYKTdLCgIFAQKAgUfC8WLCgIFAQKAoW59+2P8G0WFAQKAgUHxWBBQaAgUBAo+PWXYEFB\n",
       "oCBQECg4SQcLCgIFgYJAwcsLwYKCQEGg4C3XYEFBoCBQECj4bj5YUBAoCBQECh65BgsKAgWBgkDB\n",
       "I9dgQUGgIFDwyDVYUBAoCBQECu7mgwUFgYJAQaDge7FgQUGgIFAQKHjcESwoCBQECr72CRYUBAoC\n",
       "BYHCnLc/wcdZUBAoCBQECk7SwYKCQEGgIFDw8kKwoCBQECi4mw8WFAQKAgWBgrv5YEFBoCBQECg4\n",
       "SQcLCgIFgYJAwUk6WFAQKAgUfO0TLCgIFAQKAoXxJ6s7CwoCBYGCQMFJOlhQECgIFAQKvhcLFhQE\n",
       "CgIFX/sECwoCBYGCQMFBMVhQECgIFAQKTtLBgoJAQaAgUJjj7YWVBQWBgkDB3XywoCBQECgIFNzN\n",
       "BwsKAgWBgkDBSTpYUBAoCBQECv7HYbCgIFAQKPgXfsGCgkBBoCBQ8N18sKAgUBAoCBT8+kuwoCBQ\n",
       "ECgIFPz6S7CgIFAQKPjaJ1hQECgIFAQKXqAKFhQECgIFgYI/RQgWFAQKAgWBgpN0sKAgUBAoeIEq\n",
       "WFAQKAgUBApeoAoWFAQKAgWBgpN0sKAgUBAoCBS8YRYsKAgUBAp+WCBYUBAoCBQECu7mgwUFgYJA\n",
       "QaDge7FgQUGgIFAQKDhJBwsKAgWBgoNisKAgUBAoCBQcFIMFBYGCQEGg4CIdLCgIFAQKAgWPO4IF\n",
       "BYGCQMFBMVhQECgIFAQKDorBgoJAQaAgUHCSDhYUBAoCBYGCHxYIFhQECgIFvycdLCgIFAQKAgV3\n",
       "88GCgkBBoCBQmPu4Sm8sKAgUBAoCBSfpYEFBoCBQ8LVPsKAgUBAoCBR8LxYsKAgUBAoCBXfzwYKC\n",
       "QEGgIFDwvViwoCBQECgIFJykgwUFgYJAwQ8LBAsKAgWBgkBhjrcXVhYUBAoCBYGClxeCBQWBgkBB\n",
       "oDDXSXplQUGgIFBwUAwWFAQKAgWBgkeuwYKCQEGgIFDw8kKwoCBQECgIFOb4U4SVBQWBgkDB3Xyw\n",
       "oCBQECgIFPzNarCgIFAQKAgUvLwQLCgIFAQKAgWPXIMFBYGCQMHdfLCgIFAQKAgU5jzu5zcWFAQK\n",
       "AgWBgrv5YEFBoCBQECi4SAcLCgIFgYJHrsGCgkBBoCBQ8Mg1WFAQKAgUBApzfk7SGwsKAgWBgkDB\n",
       "STpYUBAoCBTmugatLCgIFAQKAgUHxWBBQaAgUBAozPm5SG8sKAgUBAoCBSfpYEFBoCBQ8Mg1WFAQ\n",
       "KAgUBAoOisGCgkBBoCBQcJEOFhQECgIFgYLvxYIFBYGCQGHu8+ftz/BpFhQECgIFgYK7+WBBQaAg\n",
       "UBAoeHkhWFAQKAgUBApzrscdGwsKAgWBgoNisKAgUBAoCBTm+F5sZUFBoCBQECg4SQcLCgIFgYJA\n",
       "wUk6WFAQKAgU5l4HxY0FBYGCQEGg4G4+WFAQKAgUBApeoAoWFAQKAgWBgpN0sKAgUBAozHVQXFlQ\n",
       "ECgIFAQKDorBgoJAQaAgUJjj5YWVBQWBgkBBoOB3FIMFBYGCQMFbrsGCgkBBoCBQ8Mg1WFAQKAgU\n",
       "BApO0sGCgkBBoCBQcJEOFhQECgIFX/sECwoCBYGCQMFBMVhQECgIFAQK8/hebGVBQaAgUBAoOEkH\n",
       "CwoCBYGCF6iCBQWBgkBBoDCPg+LKgoJAQaAgUPDyQrCgIFAQKAgUfC8WLCgIFAQK7uaDBQWBgkBB\n",
       "oDD3uW9/hk+zoCBQECgIFNzNBwsKAgWBgkBhHifplQUFgYJA4T/5kOyRDODObgAAAABJRU5ErkJg\n",
       "gg==\n",
       "\" transform=\"translate(2161, 195)\"/>\n",
       "</g>\n",
       "<path clip-path=\"url(#clip980)\" d=\"M2268.76 1364.53 L2298.43 1364.53 L2298.43 1368.47 L2268.76 1368.47 L2268.76 1364.53 Z\" fill=\"#000000\" fill-rule=\"evenodd\" fill-opacity=\"1\" /><path clip-path=\"url(#clip980)\" d=\"M2308.66 1380.64 L2308.66 1376.38 Q2310.42 1377.22 2312.23 1377.66 Q2314.03 1378.1 2315.77 1378.1 Q2320.4 1378.1 2322.83 1375 Q2325.28 1371.87 2325.63 1365.53 Q2324.29 1367.52 2322.23 1368.58 Q2320.17 1369.65 2317.67 1369.65 Q2312.48 1369.65 2309.45 1366.52 Q2306.44 1363.38 2306.44 1357.94 Q2306.44 1352.61 2309.59 1349.39 Q2312.74 1346.18 2317.97 1346.18 Q2323.96 1346.18 2327.11 1350.78 Q2330.28 1355.37 2330.28 1364.12 Q2330.28 1372.29 2326.39 1377.17 Q2322.53 1382.03 2315.98 1382.03 Q2314.22 1382.03 2312.41 1381.69 Q2310.61 1381.34 2308.66 1380.64 M2317.97 1365.99 Q2321.12 1365.99 2322.95 1363.84 Q2324.8 1361.69 2324.8 1357.94 Q2324.8 1354.21 2322.95 1352.06 Q2321.12 1349.88 2317.97 1349.88 Q2314.82 1349.88 2312.97 1352.06 Q2311.14 1354.21 2311.14 1357.94 Q2311.14 1361.69 2312.97 1363.84 Q2314.82 1365.99 2317.97 1365.99 Z\" fill=\"#000000\" fill-rule=\"evenodd\" fill-opacity=\"1\" /><path clip-path=\"url(#clip980)\" d=\"M2268.76 1152.3 L2298.43 1152.3 L2298.43 1156.23 L2268.76 1156.23 L2268.76 1152.3 Z\" fill=\"#000000\" fill-rule=\"evenodd\" fill-opacity=\"1\" /><path clip-path=\"url(#clip980)\" d=\"M2318.52 1152.72 Q2315.19 1152.72 2313.27 1154.5 Q2311.37 1156.28 2311.37 1159.41 Q2311.37 1162.53 2313.27 1164.31 Q2315.19 1166.1 2318.52 1166.1 Q2321.86 1166.1 2323.78 1164.31 Q2325.7 1162.51 2325.7 1159.41 Q2325.7 1156.28 2323.78 1154.5 Q2321.88 1152.72 2318.52 1152.72 M2313.85 1150.73 Q2310.84 1149.98 2309.15 1147.92 Q2307.48 1145.86 2307.48 1142.9 Q2307.48 1138.76 2310.42 1136.35 Q2313.39 1133.94 2318.52 1133.94 Q2323.69 1133.94 2326.63 1136.35 Q2329.57 1138.76 2329.57 1142.9 Q2329.57 1145.86 2327.88 1147.92 Q2326.21 1149.98 2323.22 1150.73 Q2326.6 1151.51 2328.48 1153.8 Q2330.38 1156.1 2330.38 1159.41 Q2330.38 1164.43 2327.3 1167.11 Q2324.24 1169.8 2318.52 1169.8 Q2312.81 1169.8 2309.73 1167.11 Q2306.67 1164.43 2306.67 1159.41 Q2306.67 1156.1 2308.57 1153.8 Q2310.47 1151.51 2313.85 1150.73 M2312.14 1143.34 Q2312.14 1146.03 2313.8 1147.53 Q2315.49 1149.04 2318.52 1149.04 Q2321.53 1149.04 2323.22 1147.53 Q2324.94 1146.03 2324.94 1143.34 Q2324.94 1140.66 2323.22 1139.15 Q2321.53 1137.65 2318.52 1137.65 Q2315.49 1137.65 2313.8 1139.15 Q2312.14 1140.66 2312.14 1143.34 Z\" fill=\"#000000\" fill-rule=\"evenodd\" fill-opacity=\"1\" /><path clip-path=\"url(#clip980)\" d=\"M2268.76 940.066 L2298.43 940.066 L2298.43 944.002 L2268.76 944.002 L2268.76 940.066 Z\" fill=\"#000000\" fill-rule=\"evenodd\" fill-opacity=\"1\" /><path clip-path=\"url(#clip980)\" d=\"M2307.34 922.335 L2329.57 922.335 L2329.57 924.326 L2317.02 956.895 L2312.14 956.895 L2323.94 926.27 L2307.34 926.27 L2307.34 922.335 Z\" fill=\"#000000\" fill-rule=\"evenodd\" fill-opacity=\"1\" /><path clip-path=\"url(#clip980)\" d=\"M2268.76 727.833 L2298.43 727.833 L2298.43 731.768 L2268.76 731.768 L2268.76 727.833 Z\" fill=\"#000000\" fill-rule=\"evenodd\" fill-opacity=\"1\" /><path clip-path=\"url(#clip980)\" d=\"M2319.1 725.518 Q2315.95 725.518 2314.1 727.671 Q2312.27 729.824 2312.27 733.574 Q2312.27 737.301 2314.1 739.477 Q2315.95 741.63 2319.1 741.63 Q2322.25 741.63 2324.08 739.477 Q2325.93 737.301 2325.93 733.574 Q2325.93 729.824 2324.08 727.671 Q2322.25 725.518 2319.1 725.518 M2328.39 710.866 L2328.39 715.125 Q2326.63 714.292 2324.82 713.852 Q2323.04 713.412 2321.28 713.412 Q2316.65 713.412 2314.2 716.537 Q2311.76 719.662 2311.42 725.981 Q2312.78 723.968 2314.84 722.903 Q2316.9 721.815 2319.38 721.815 Q2324.59 721.815 2327.6 724.986 Q2330.63 728.134 2330.63 733.574 Q2330.63 738.898 2327.48 742.116 Q2324.33 745.333 2319.1 745.333 Q2313.11 745.333 2309.94 740.75 Q2306.76 736.143 2306.76 727.417 Q2306.76 719.222 2310.65 714.361 Q2314.54 709.477 2321.09 709.477 Q2322.85 709.477 2324.64 709.824 Q2326.44 710.171 2328.39 710.866 Z\" fill=\"#000000\" fill-rule=\"evenodd\" fill-opacity=\"1\" /><path clip-path=\"url(#clip980)\" d=\"M2268.76 515.6 L2298.43 515.6 L2298.43 519.535 L2268.76 519.535 L2268.76 515.6 Z\" fill=\"#000000\" fill-rule=\"evenodd\" fill-opacity=\"1\" /><path clip-path=\"url(#clip980)\" d=\"M2308.57 497.869 L2326.93 497.869 L2326.93 501.804 L2312.85 501.804 L2312.85 510.276 Q2313.87 509.929 2314.89 509.767 Q2315.91 509.582 2316.93 509.582 Q2322.71 509.582 2326.09 512.753 Q2329.47 515.924 2329.47 521.341 Q2329.47 526.919 2326 530.021 Q2322.53 533.1 2316.21 533.1 Q2314.03 533.1 2311.76 532.73 Q2309.52 532.359 2307.11 531.619 L2307.11 526.919 Q2309.2 528.054 2311.42 528.609 Q2313.64 529.165 2316.12 529.165 Q2320.12 529.165 2322.46 527.058 Q2324.8 524.952 2324.8 521.341 Q2324.8 517.73 2322.46 515.623 Q2320.12 513.517 2316.12 513.517 Q2314.24 513.517 2312.37 513.933 Q2310.51 514.35 2308.57 515.23 L2308.57 497.869 Z\" fill=\"#000000\" fill-rule=\"evenodd\" fill-opacity=\"1\" /><path clip-path=\"url(#clip980)\" d=\"M2268.76 303.367 L2298.43 303.367 L2298.43 307.302 L2268.76 307.302 L2268.76 303.367 Z\" fill=\"#000000\" fill-rule=\"evenodd\" fill-opacity=\"1\" /><path clip-path=\"url(#clip980)\" d=\"M2321.37 289.71 L2309.57 308.159 L2321.37 308.159 L2321.37 289.71 M2320.14 285.636 L2326.02 285.636 L2326.02 308.159 L2330.95 308.159 L2330.95 312.047 L2326.02 312.047 L2326.02 320.196 L2321.37 320.196 L2321.37 312.047 L2305.77 312.047 L2305.77 307.534 L2320.14 285.636 Z\" fill=\"#000000\" fill-rule=\"evenodd\" fill-opacity=\"1\" /><polyline clip-path=\"url(#clip980)\" style=\"stroke:#000000; stroke-linecap:butt; stroke-linejoin:round; stroke-width:4; stroke-opacity:1; fill:none\" points=\"\n",
       "  2232.76,1412.35 2232.76,1367.71 2256.76,1367.71 2232.76,1367.71 2232.76,1155.48 2256.76,1155.48 2232.76,1155.48 2232.76,943.244 2256.76,943.244 2232.76,943.244 \n",
       "  2232.76,731.011 2256.76,731.011 2232.76,731.011 2232.76,518.778 2256.76,518.778 2232.76,518.778 2232.76,306.544 2256.76,306.544 2232.76,306.544 2232.76,195.378 \n",
       "  \n",
       "  \"/>\n",
       "</svg>\n"
      ]
     },
     "execution_count": 43,
     "metadata": {},
     "output_type": "execute_result"
    }
   ],
   "source": [
    "# visualize optimized density matrix\n",
    "heatmap(log.(max.(real(matrix(ρopt)), 1e-4)), title=L\"\\rho_{\\mathrm{opt}}\", yflip=true, aspect_ratio=:equal)"
   ]
  }
 ],
 "metadata": {
  "kernelspec": {
   "display_name": "Julia 1.7.0",
   "language": "julia",
   "name": "julia-1.7"
  },
  "language_info": {
   "file_extension": ".jl",
   "mimetype": "application/julia",
   "name": "julia",
   "version": "1.7.0"
  }
 },
 "nbformat": 4,
 "nbformat_minor": 4
}
